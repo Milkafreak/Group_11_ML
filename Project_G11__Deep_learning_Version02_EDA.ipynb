{
 "cells": [
  {
   "cell_type": "markdown",
   "id": "36ac2b0e",
   "metadata": {},
   "source": [
    "# Project 1: Borrowers and Lenders"
   ]
  },
  {
   "cell_type": "markdown",
   "id": "6aca119f",
   "metadata": {},
   "source": [
    "## Group 11"
   ]
  },
  {
   "cell_type": "markdown",
   "id": "02dafa4d",
   "metadata": {},
   "source": [
    "Prosper is an online lending platform that offers loans to private entities and businesses. \n",
    "\n",
    "This dataset is financial dataset related to the loan, borrowers, lenders, interest\n",
    "rates from Prosper. Prosper. is a San Francisco, California based company\n",
    "specializing in loans at low interest rates to the borrowers.\n",
    "\n",
    "We want to predict if a customer will default on their loan or not"
   ]
  },
  {
   "cell_type": "markdown",
   "id": "225a008a",
   "metadata": {},
   "source": [
    "The dataset has financial information about borrowers and their past loans. This information includes occupation, income range, credit score, and past loan information. In total we are observing 81 variables. \n",
    "\n"
   ]
  },
  {
   "cell_type": "code",
   "execution_count": 2,
   "id": "381b914b",
   "metadata": {},
   "outputs": [],
   "source": [
    "import pandas as pd\n",
    "import numpy as np\n",
    "from sklearn.model_selection import train_test_split\n",
    "from sklearn.preprocessing import StandardScaler\n",
    "from sklearn.pipeline import Pipeline\n",
    "from sklearn.preprocessing import OneHotEncoder\n",
    "from sklearn.impute import SimpleImputer\n",
    "from sklearn.compose import ColumnTransformer\n",
    "from sklearn.pipeline import FeatureUnion\n",
    "from sklearn.feature_selection import SelectKBest\n",
    "from sklearn.feature_selection import chi2\n",
    "from matplotlib import pyplot\n",
    "from sklearn.preprocessing import LabelEncoder\n",
    "from sklearn.preprocessing import OrdinalEncoder\n",
    "from sklearn.preprocessing import FunctionTransformer\n",
    "from sklearn.preprocessing import KBinsDiscretizer\n",
    "from sklearn.linear_model import LogisticRegressionCV\n",
    "from sklearn.linear_model import LogisticRegression\n",
    "from sklearn.base import BaseEstimator, TransformerMixin\n",
    "from sklearn.model_selection import GridSearchCV"
   ]
  },
  {
   "cell_type": "code",
   "execution_count": 3,
   "id": "56a9b939-d69e-4770-b03f-6dc75c20c1fd",
   "metadata": {},
   "outputs": [],
   "source": [
    "prosper = pd.read_csv('prosperLoanData.csv')\n",
    "prosper['ListingCreationDate']= pd.to_datetime(prosper['ListingCreationDate'])"
   ]
  },
  {
   "cell_type": "markdown",
   "id": "4bbcd1c1",
   "metadata": {},
   "source": [
    "Each row represents one listing with all the information of a borrower at Prosper. There can be many same customers but the listings are unique.\n",
    "The columns represent information about the borrower at Prosper, with column titles representing what each attribute stands for.\n",
    "\n",
    "The info() method will be useful to generate the number of rows, types of attributes and most importantly the number of non-null values. If an attribute has a very low non-null values it means, most the rows of that attribute are null, so it's better to not use it in the model. An example of that is the \"OnTimeProsperPayments\" with only 22085 non-null values, or \"ScorexChangeAtTimeOfListing\" with only 18928 non-null values, among other attributes as well."
   ]
  },
  {
   "cell_type": "code",
   "execution_count": 4,
   "id": "b812d2dd-f510-4117-8354-b0372c4a8b5e",
   "metadata": {},
   "outputs": [
    {
     "name": "stdout",
     "output_type": "stream",
     "text": [
      "<class 'pandas.core.frame.DataFrame'>\n",
      "RangeIndex: 113937 entries, 0 to 113936\n",
      "Data columns (total 21 columns):\n",
      " #   Column                               Non-Null Count   Dtype  \n",
      "---  ------                               --------------   -----  \n",
      " 0   TotalTrades                          106393 non-null  float64\n",
      " 1   TradesNeverDelinquent (percentage)   106393 non-null  float64\n",
      " 2   TradesOpenedLast6Months              106393 non-null  float64\n",
      " 3   DebtToIncomeRatio                    105383 non-null  float64\n",
      " 4   IncomeRange                          113937 non-null  object \n",
      " 5   IncomeVerifiable                     113937 non-null  bool   \n",
      " 6   StatedMonthlyIncome                  113937 non-null  float64\n",
      " 7   LoanKey                              113937 non-null  object \n",
      " 8   TotalProsperLoans                    22085 non-null   float64\n",
      " 9   TotalProsperPaymentsBilled           22085 non-null   float64\n",
      " 10  OnTimeProsperPayments                22085 non-null   float64\n",
      " 11  ProsperPaymentsLessThanOneMonthLate  22085 non-null   float64\n",
      " 12  ProsperPaymentsOneMonthPlusLate      22085 non-null   float64\n",
      " 13  ProsperPrincipalBorrowed             22085 non-null   float64\n",
      " 14  ProsperPrincipalOutstanding          22085 non-null   float64\n",
      " 15  ScorexChangeAtTimeOfListing          18928 non-null   float64\n",
      " 16  LoanCurrentDaysDelinquent            113937 non-null  int64  \n",
      " 17  LoanFirstDefaultedCycleNumber        16952 non-null   float64\n",
      " 18  LoanMonthsSinceOrigination           113937 non-null  int64  \n",
      " 19  LoanNumber                           113937 non-null  int64  \n",
      " 20  LoanOriginalAmount                   113937 non-null  int64  \n",
      "dtypes: bool(1), float64(14), int64(4), object(2)\n",
      "memory usage: 17.5+ MB\n"
     ]
    }
   ],
   "source": [
    "#prosper.iloc[:,:21].info()\n",
    "#prosper.iloc[:,22:42].info()\n",
    "prosper.iloc[:,43:64].info()\n",
    "#prosper.iloc[:,65:].info()"
   ]
  },
  {
   "cell_type": "code",
   "execution_count": 5,
   "id": "0557d77e",
   "metadata": {},
   "outputs": [
    {
     "data": {
      "text/html": [
       "<div>\n",
       "<style scoped>\n",
       "    .dataframe tbody tr th:only-of-type {\n",
       "        vertical-align: middle;\n",
       "    }\n",
       "\n",
       "    .dataframe tbody tr th {\n",
       "        vertical-align: top;\n",
       "    }\n",
       "\n",
       "    .dataframe thead th {\n",
       "        text-align: right;\n",
       "    }\n",
       "</style>\n",
       "<table border=\"1\" class=\"dataframe\">\n",
       "  <thead>\n",
       "    <tr style=\"text-align: right;\">\n",
       "      <th></th>\n",
       "      <th>ListingKey</th>\n",
       "      <th>ListingNumber</th>\n",
       "      <th>ListingCreationDate</th>\n",
       "      <th>CreditGrade</th>\n",
       "      <th>Term</th>\n",
       "      <th>ClosedDate</th>\n",
       "      <th>BorrowerAPR</th>\n",
       "      <th>BorrowerRate</th>\n",
       "      <th>LenderYield</th>\n",
       "      <th>EstimatedEffectiveYield</th>\n",
       "      <th>...</th>\n",
       "      <th>LP_ServiceFees</th>\n",
       "      <th>LP_CollectionFees</th>\n",
       "      <th>LP_GrossPrincipalLoss</th>\n",
       "      <th>LP_NetPrincipalLoss</th>\n",
       "      <th>LP_NonPrincipalRecoverypayments</th>\n",
       "      <th>PercentFunded</th>\n",
       "      <th>Recommendations</th>\n",
       "      <th>InvestmentFromFriendsCount</th>\n",
       "      <th>InvestmentFromFriendsAmount</th>\n",
       "      <th>Investors</th>\n",
       "    </tr>\n",
       "    <tr>\n",
       "      <th>LoanStatus</th>\n",
       "      <th></th>\n",
       "      <th></th>\n",
       "      <th></th>\n",
       "      <th></th>\n",
       "      <th></th>\n",
       "      <th></th>\n",
       "      <th></th>\n",
       "      <th></th>\n",
       "      <th></th>\n",
       "      <th></th>\n",
       "      <th></th>\n",
       "      <th></th>\n",
       "      <th></th>\n",
       "      <th></th>\n",
       "      <th></th>\n",
       "      <th></th>\n",
       "      <th></th>\n",
       "      <th></th>\n",
       "      <th></th>\n",
       "      <th></th>\n",
       "      <th></th>\n",
       "    </tr>\n",
       "  </thead>\n",
       "  <tbody>\n",
       "    <tr>\n",
       "      <th>Cancelled</th>\n",
       "      <td>5</td>\n",
       "      <td>5</td>\n",
       "      <td>5</td>\n",
       "      <td>5</td>\n",
       "      <td>5</td>\n",
       "      <td>5</td>\n",
       "      <td>5</td>\n",
       "      <td>5</td>\n",
       "      <td>5</td>\n",
       "      <td>0</td>\n",
       "      <td>...</td>\n",
       "      <td>5</td>\n",
       "      <td>5</td>\n",
       "      <td>5</td>\n",
       "      <td>5</td>\n",
       "      <td>5</td>\n",
       "      <td>5</td>\n",
       "      <td>5</td>\n",
       "      <td>5</td>\n",
       "      <td>5</td>\n",
       "      <td>5</td>\n",
       "    </tr>\n",
       "    <tr>\n",
       "      <th>Chargedoff</th>\n",
       "      <td>11992</td>\n",
       "      <td>11992</td>\n",
       "      <td>11992</td>\n",
       "      <td>6650</td>\n",
       "      <td>11992</td>\n",
       "      <td>11992</td>\n",
       "      <td>11992</td>\n",
       "      <td>11992</td>\n",
       "      <td>11992</td>\n",
       "      <td>5336</td>\n",
       "      <td>...</td>\n",
       "      <td>11992</td>\n",
       "      <td>11992</td>\n",
       "      <td>11992</td>\n",
       "      <td>11992</td>\n",
       "      <td>11992</td>\n",
       "      <td>11992</td>\n",
       "      <td>11992</td>\n",
       "      <td>11992</td>\n",
       "      <td>11992</td>\n",
       "      <td>11992</td>\n",
       "    </tr>\n",
       "    <tr>\n",
       "      <th>Completed</th>\n",
       "      <td>38074</td>\n",
       "      <td>38074</td>\n",
       "      <td>38074</td>\n",
       "      <td>18288</td>\n",
       "      <td>38074</td>\n",
       "      <td>38074</td>\n",
       "      <td>38049</td>\n",
       "      <td>38074</td>\n",
       "      <td>38074</td>\n",
       "      <td>19664</td>\n",
       "      <td>...</td>\n",
       "      <td>38074</td>\n",
       "      <td>38074</td>\n",
       "      <td>38074</td>\n",
       "      <td>38074</td>\n",
       "      <td>38074</td>\n",
       "      <td>38074</td>\n",
       "      <td>38074</td>\n",
       "      <td>38074</td>\n",
       "      <td>38074</td>\n",
       "      <td>38074</td>\n",
       "    </tr>\n",
       "    <tr>\n",
       "      <th>Current</th>\n",
       "      <td>56576</td>\n",
       "      <td>56576</td>\n",
       "      <td>56576</td>\n",
       "      <td>0</td>\n",
       "      <td>56576</td>\n",
       "      <td>0</td>\n",
       "      <td>56576</td>\n",
       "      <td>56576</td>\n",
       "      <td>56576</td>\n",
       "      <td>56576</td>\n",
       "      <td>...</td>\n",
       "      <td>56576</td>\n",
       "      <td>56576</td>\n",
       "      <td>56576</td>\n",
       "      <td>56576</td>\n",
       "      <td>56576</td>\n",
       "      <td>56576</td>\n",
       "      <td>56576</td>\n",
       "      <td>56576</td>\n",
       "      <td>56576</td>\n",
       "      <td>56576</td>\n",
       "    </tr>\n",
       "    <tr>\n",
       "      <th>Defaulted</th>\n",
       "      <td>5018</td>\n",
       "      <td>5018</td>\n",
       "      <td>5018</td>\n",
       "      <td>4010</td>\n",
       "      <td>5018</td>\n",
       "      <td>5018</td>\n",
       "      <td>5018</td>\n",
       "      <td>5018</td>\n",
       "      <td>5018</td>\n",
       "      <td>1005</td>\n",
       "      <td>...</td>\n",
       "      <td>5018</td>\n",
       "      <td>5018</td>\n",
       "      <td>5018</td>\n",
       "      <td>5018</td>\n",
       "      <td>5018</td>\n",
       "      <td>5018</td>\n",
       "      <td>5018</td>\n",
       "      <td>5018</td>\n",
       "      <td>5018</td>\n",
       "      <td>5018</td>\n",
       "    </tr>\n",
       "    <tr>\n",
       "      <th>FinalPaymentInProgress</th>\n",
       "      <td>205</td>\n",
       "      <td>205</td>\n",
       "      <td>205</td>\n",
       "      <td>0</td>\n",
       "      <td>205</td>\n",
       "      <td>0</td>\n",
       "      <td>205</td>\n",
       "      <td>205</td>\n",
       "      <td>205</td>\n",
       "      <td>205</td>\n",
       "      <td>...</td>\n",
       "      <td>205</td>\n",
       "      <td>205</td>\n",
       "      <td>205</td>\n",
       "      <td>205</td>\n",
       "      <td>205</td>\n",
       "      <td>205</td>\n",
       "      <td>205</td>\n",
       "      <td>205</td>\n",
       "      <td>205</td>\n",
       "      <td>205</td>\n",
       "    </tr>\n",
       "    <tr>\n",
       "      <th>Past Due (1-15 days)</th>\n",
       "      <td>806</td>\n",
       "      <td>806</td>\n",
       "      <td>806</td>\n",
       "      <td>0</td>\n",
       "      <td>806</td>\n",
       "      <td>0</td>\n",
       "      <td>806</td>\n",
       "      <td>806</td>\n",
       "      <td>806</td>\n",
       "      <td>806</td>\n",
       "      <td>...</td>\n",
       "      <td>806</td>\n",
       "      <td>806</td>\n",
       "      <td>806</td>\n",
       "      <td>806</td>\n",
       "      <td>806</td>\n",
       "      <td>806</td>\n",
       "      <td>806</td>\n",
       "      <td>806</td>\n",
       "      <td>806</td>\n",
       "      <td>806</td>\n",
       "    </tr>\n",
       "    <tr>\n",
       "      <th>Past Due (16-30 days)</th>\n",
       "      <td>265</td>\n",
       "      <td>265</td>\n",
       "      <td>265</td>\n",
       "      <td>0</td>\n",
       "      <td>265</td>\n",
       "      <td>0</td>\n",
       "      <td>265</td>\n",
       "      <td>265</td>\n",
       "      <td>265</td>\n",
       "      <td>265</td>\n",
       "      <td>...</td>\n",
       "      <td>265</td>\n",
       "      <td>265</td>\n",
       "      <td>265</td>\n",
       "      <td>265</td>\n",
       "      <td>265</td>\n",
       "      <td>265</td>\n",
       "      <td>265</td>\n",
       "      <td>265</td>\n",
       "      <td>265</td>\n",
       "      <td>265</td>\n",
       "    </tr>\n",
       "    <tr>\n",
       "      <th>Past Due (31-60 days)</th>\n",
       "      <td>363</td>\n",
       "      <td>363</td>\n",
       "      <td>363</td>\n",
       "      <td>0</td>\n",
       "      <td>363</td>\n",
       "      <td>0</td>\n",
       "      <td>363</td>\n",
       "      <td>363</td>\n",
       "      <td>363</td>\n",
       "      <td>363</td>\n",
       "      <td>...</td>\n",
       "      <td>363</td>\n",
       "      <td>363</td>\n",
       "      <td>363</td>\n",
       "      <td>363</td>\n",
       "      <td>363</td>\n",
       "      <td>363</td>\n",
       "      <td>363</td>\n",
       "      <td>363</td>\n",
       "      <td>363</td>\n",
       "      <td>363</td>\n",
       "    </tr>\n",
       "    <tr>\n",
       "      <th>Past Due (61-90 days)</th>\n",
       "      <td>313</td>\n",
       "      <td>313</td>\n",
       "      <td>313</td>\n",
       "      <td>0</td>\n",
       "      <td>313</td>\n",
       "      <td>0</td>\n",
       "      <td>313</td>\n",
       "      <td>313</td>\n",
       "      <td>313</td>\n",
       "      <td>313</td>\n",
       "      <td>...</td>\n",
       "      <td>313</td>\n",
       "      <td>313</td>\n",
       "      <td>313</td>\n",
       "      <td>313</td>\n",
       "      <td>313</td>\n",
       "      <td>313</td>\n",
       "      <td>313</td>\n",
       "      <td>313</td>\n",
       "      <td>313</td>\n",
       "      <td>313</td>\n",
       "    </tr>\n",
       "    <tr>\n",
       "      <th>Past Due (91-120 days)</th>\n",
       "      <td>304</td>\n",
       "      <td>304</td>\n",
       "      <td>304</td>\n",
       "      <td>0</td>\n",
       "      <td>304</td>\n",
       "      <td>0</td>\n",
       "      <td>304</td>\n",
       "      <td>304</td>\n",
       "      <td>304</td>\n",
       "      <td>304</td>\n",
       "      <td>...</td>\n",
       "      <td>304</td>\n",
       "      <td>304</td>\n",
       "      <td>304</td>\n",
       "      <td>304</td>\n",
       "      <td>304</td>\n",
       "      <td>304</td>\n",
       "      <td>304</td>\n",
       "      <td>304</td>\n",
       "      <td>304</td>\n",
       "      <td>304</td>\n",
       "    </tr>\n",
       "    <tr>\n",
       "      <th>Past Due (&gt;120 days)</th>\n",
       "      <td>16</td>\n",
       "      <td>16</td>\n",
       "      <td>16</td>\n",
       "      <td>0</td>\n",
       "      <td>16</td>\n",
       "      <td>0</td>\n",
       "      <td>16</td>\n",
       "      <td>16</td>\n",
       "      <td>16</td>\n",
       "      <td>16</td>\n",
       "      <td>...</td>\n",
       "      <td>16</td>\n",
       "      <td>16</td>\n",
       "      <td>16</td>\n",
       "      <td>16</td>\n",
       "      <td>16</td>\n",
       "      <td>16</td>\n",
       "      <td>16</td>\n",
       "      <td>16</td>\n",
       "      <td>16</td>\n",
       "      <td>16</td>\n",
       "    </tr>\n",
       "  </tbody>\n",
       "</table>\n",
       "<p>12 rows × 80 columns</p>\n",
       "</div>"
      ],
      "text/plain": [
       "                        ListingKey  ListingNumber  ListingCreationDate  \\\n",
       "LoanStatus                                                               \n",
       "Cancelled                        5              5                    5   \n",
       "Chargedoff                   11992          11992                11992   \n",
       "Completed                    38074          38074                38074   \n",
       "Current                      56576          56576                56576   \n",
       "Defaulted                     5018           5018                 5018   \n",
       "FinalPaymentInProgress         205            205                  205   \n",
       "Past Due (1-15 days)           806            806                  806   \n",
       "Past Due (16-30 days)          265            265                  265   \n",
       "Past Due (31-60 days)          363            363                  363   \n",
       "Past Due (61-90 days)          313            313                  313   \n",
       "Past Due (91-120 days)         304            304                  304   \n",
       "Past Due (>120 days)            16             16                   16   \n",
       "\n",
       "                        CreditGrade   Term  ClosedDate  BorrowerAPR  \\\n",
       "LoanStatus                                                            \n",
       "Cancelled                         5      5           5            5   \n",
       "Chargedoff                     6650  11992       11992        11992   \n",
       "Completed                     18288  38074       38074        38049   \n",
       "Current                           0  56576           0        56576   \n",
       "Defaulted                      4010   5018        5018         5018   \n",
       "FinalPaymentInProgress            0    205           0          205   \n",
       "Past Due (1-15 days)              0    806           0          806   \n",
       "Past Due (16-30 days)             0    265           0          265   \n",
       "Past Due (31-60 days)             0    363           0          363   \n",
       "Past Due (61-90 days)             0    313           0          313   \n",
       "Past Due (91-120 days)            0    304           0          304   \n",
       "Past Due (>120 days)              0     16           0           16   \n",
       "\n",
       "                        BorrowerRate  LenderYield  EstimatedEffectiveYield  \\\n",
       "LoanStatus                                                                   \n",
       "Cancelled                          5            5                        0   \n",
       "Chargedoff                     11992        11992                     5336   \n",
       "Completed                      38074        38074                    19664   \n",
       "Current                        56576        56576                    56576   \n",
       "Defaulted                       5018         5018                     1005   \n",
       "FinalPaymentInProgress           205          205                      205   \n",
       "Past Due (1-15 days)             806          806                      806   \n",
       "Past Due (16-30 days)            265          265                      265   \n",
       "Past Due (31-60 days)            363          363                      363   \n",
       "Past Due (61-90 days)            313          313                      313   \n",
       "Past Due (91-120 days)           304          304                      304   \n",
       "Past Due (>120 days)              16           16                       16   \n",
       "\n",
       "                        ...  LP_ServiceFees  LP_CollectionFees  \\\n",
       "LoanStatus              ...                                      \n",
       "Cancelled               ...               5                  5   \n",
       "Chargedoff              ...           11992              11992   \n",
       "Completed               ...           38074              38074   \n",
       "Current                 ...           56576              56576   \n",
       "Defaulted               ...            5018               5018   \n",
       "FinalPaymentInProgress  ...             205                205   \n",
       "Past Due (1-15 days)    ...             806                806   \n",
       "Past Due (16-30 days)   ...             265                265   \n",
       "Past Due (31-60 days)   ...             363                363   \n",
       "Past Due (61-90 days)   ...             313                313   \n",
       "Past Due (91-120 days)  ...             304                304   \n",
       "Past Due (>120 days)    ...              16                 16   \n",
       "\n",
       "                        LP_GrossPrincipalLoss  LP_NetPrincipalLoss  \\\n",
       "LoanStatus                                                           \n",
       "Cancelled                                   5                    5   \n",
       "Chargedoff                              11992                11992   \n",
       "Completed                               38074                38074   \n",
       "Current                                 56576                56576   \n",
       "Defaulted                                5018                 5018   \n",
       "FinalPaymentInProgress                    205                  205   \n",
       "Past Due (1-15 days)                      806                  806   \n",
       "Past Due (16-30 days)                     265                  265   \n",
       "Past Due (31-60 days)                     363                  363   \n",
       "Past Due (61-90 days)                     313                  313   \n",
       "Past Due (91-120 days)                    304                  304   \n",
       "Past Due (>120 days)                       16                   16   \n",
       "\n",
       "                        LP_NonPrincipalRecoverypayments  PercentFunded  \\\n",
       "LoanStatus                                                               \n",
       "Cancelled                                             5              5   \n",
       "Chargedoff                                        11992          11992   \n",
       "Completed                                         38074          38074   \n",
       "Current                                           56576          56576   \n",
       "Defaulted                                          5018           5018   \n",
       "FinalPaymentInProgress                              205            205   \n",
       "Past Due (1-15 days)                                806            806   \n",
       "Past Due (16-30 days)                               265            265   \n",
       "Past Due (31-60 days)                               363            363   \n",
       "Past Due (61-90 days)                               313            313   \n",
       "Past Due (91-120 days)                              304            304   \n",
       "Past Due (>120 days)                                 16             16   \n",
       "\n",
       "                        Recommendations  InvestmentFromFriendsCount  \\\n",
       "LoanStatus                                                            \n",
       "Cancelled                             5                           5   \n",
       "Chargedoff                        11992                       11992   \n",
       "Completed                         38074                       38074   \n",
       "Current                           56576                       56576   \n",
       "Defaulted                          5018                        5018   \n",
       "FinalPaymentInProgress              205                         205   \n",
       "Past Due (1-15 days)                806                         806   \n",
       "Past Due (16-30 days)               265                         265   \n",
       "Past Due (31-60 days)               363                         363   \n",
       "Past Due (61-90 days)               313                         313   \n",
       "Past Due (91-120 days)              304                         304   \n",
       "Past Due (>120 days)                 16                          16   \n",
       "\n",
       "                        InvestmentFromFriendsAmount  Investors  \n",
       "LoanStatus                                                      \n",
       "Cancelled                                         5          5  \n",
       "Chargedoff                                    11992      11992  \n",
       "Completed                                     38074      38074  \n",
       "Current                                       56576      56576  \n",
       "Defaulted                                      5018       5018  \n",
       "FinalPaymentInProgress                          205        205  \n",
       "Past Due (1-15 days)                            806        806  \n",
       "Past Due (16-30 days)                           265        265  \n",
       "Past Due (31-60 days)                           363        363  \n",
       "Past Due (61-90 days)                           313        313  \n",
       "Past Due (91-120 days)                          304        304  \n",
       "Past Due (>120 days)                             16         16  \n",
       "\n",
       "[12 rows x 80 columns]"
      ]
     },
     "execution_count": 5,
     "metadata": {},
     "output_type": "execute_result"
    }
   ],
   "source": [
    "prosper.groupby(\"LoanStatus\").count()"
   ]
  },
  {
   "cell_type": "markdown",
   "id": "158867b0",
   "metadata": {},
   "source": [
    "Our target variable will be LoanStatus. We can see that there are 12 categories that a loan can fall into. By examining the table and the variable dictionary, we can see that a charged off loan is just a defaulted loan that has already been written off. Because we want to predict whether a loan is going to default, we can count charged off loans into the defaulted category. \n",
    "\n",
    "We are going to assume that loans where the final payment is in progress are definetly going to be completed. Therefore we count those into the completed category. \n",
    "\n",
    "Because we wish to predict whether a loan is going to be default or complete, we can ignore all ongoing current loans, as all intial loans are \"current\". If we were to predict all loans by category, current would skew the sample by a wide margin, because it makes up more than 50% of the given dataset. \n",
    "\n",
    "All other categories (past due and cancelled) are going to be ignored, as they dont allow any judgement when predicting a label. "
   ]
  },
  {
   "cell_type": "code",
   "execution_count": 6,
   "id": "ef5b3a84-fdc5-497b-85b0-8e50814b0772",
   "metadata": {},
   "outputs": [
    {
     "data": {
      "text/html": [
       "<div>\n",
       "<style scoped>\n",
       "    .dataframe tbody tr th:only-of-type {\n",
       "        vertical-align: middle;\n",
       "    }\n",
       "\n",
       "    .dataframe tbody tr th {\n",
       "        vertical-align: top;\n",
       "    }\n",
       "\n",
       "    .dataframe thead th {\n",
       "        text-align: right;\n",
       "    }\n",
       "</style>\n",
       "<table border=\"1\" class=\"dataframe\">\n",
       "  <thead>\n",
       "    <tr style=\"text-align: right;\">\n",
       "      <th></th>\n",
       "      <th>ListingNumber</th>\n",
       "      <th>Term</th>\n",
       "      <th>BorrowerAPR</th>\n",
       "      <th>BorrowerRate</th>\n",
       "      <th>LenderYield</th>\n",
       "      <th>EstimatedEffectiveYield</th>\n",
       "      <th>EstimatedLoss</th>\n",
       "      <th>EstimatedReturn</th>\n",
       "      <th>ProsperRating (numeric)</th>\n",
       "      <th>ProsperScore</th>\n",
       "      <th>...</th>\n",
       "      <th>LP_ServiceFees</th>\n",
       "      <th>LP_CollectionFees</th>\n",
       "      <th>LP_GrossPrincipalLoss</th>\n",
       "      <th>LP_NetPrincipalLoss</th>\n",
       "      <th>LP_NonPrincipalRecoverypayments</th>\n",
       "      <th>PercentFunded</th>\n",
       "      <th>Recommendations</th>\n",
       "      <th>InvestmentFromFriendsCount</th>\n",
       "      <th>InvestmentFromFriendsAmount</th>\n",
       "      <th>Investors</th>\n",
       "    </tr>\n",
       "  </thead>\n",
       "  <tbody>\n",
       "    <tr>\n",
       "      <th>count</th>\n",
       "      <td>1.139370e+05</td>\n",
       "      <td>113937.000000</td>\n",
       "      <td>113912.000000</td>\n",
       "      <td>113937.000000</td>\n",
       "      <td>113937.000000</td>\n",
       "      <td>84853.000000</td>\n",
       "      <td>84853.000000</td>\n",
       "      <td>84853.000000</td>\n",
       "      <td>84853.000000</td>\n",
       "      <td>84853.000000</td>\n",
       "      <td>...</td>\n",
       "      <td>113937.000000</td>\n",
       "      <td>113937.000000</td>\n",
       "      <td>113937.000000</td>\n",
       "      <td>113937.000000</td>\n",
       "      <td>113937.000000</td>\n",
       "      <td>113937.000000</td>\n",
       "      <td>113937.000000</td>\n",
       "      <td>113937.000000</td>\n",
       "      <td>113937.000000</td>\n",
       "      <td>113937.000000</td>\n",
       "    </tr>\n",
       "    <tr>\n",
       "      <th>mean</th>\n",
       "      <td>6.278857e+05</td>\n",
       "      <td>40.830248</td>\n",
       "      <td>0.218828</td>\n",
       "      <td>0.192764</td>\n",
       "      <td>0.182701</td>\n",
       "      <td>0.168661</td>\n",
       "      <td>0.080306</td>\n",
       "      <td>0.096068</td>\n",
       "      <td>4.072243</td>\n",
       "      <td>5.950067</td>\n",
       "      <td>...</td>\n",
       "      <td>-54.725641</td>\n",
       "      <td>-14.242698</td>\n",
       "      <td>700.446342</td>\n",
       "      <td>681.420499</td>\n",
       "      <td>25.142686</td>\n",
       "      <td>0.998584</td>\n",
       "      <td>0.048027</td>\n",
       "      <td>0.023460</td>\n",
       "      <td>16.550751</td>\n",
       "      <td>80.475228</td>\n",
       "    </tr>\n",
       "    <tr>\n",
       "      <th>std</th>\n",
       "      <td>3.280762e+05</td>\n",
       "      <td>10.436212</td>\n",
       "      <td>0.080364</td>\n",
       "      <td>0.074818</td>\n",
       "      <td>0.074516</td>\n",
       "      <td>0.068467</td>\n",
       "      <td>0.046764</td>\n",
       "      <td>0.030403</td>\n",
       "      <td>1.673227</td>\n",
       "      <td>2.376501</td>\n",
       "      <td>...</td>\n",
       "      <td>60.675425</td>\n",
       "      <td>109.232758</td>\n",
       "      <td>2388.513831</td>\n",
       "      <td>2357.167068</td>\n",
       "      <td>275.657937</td>\n",
       "      <td>0.017919</td>\n",
       "      <td>0.332353</td>\n",
       "      <td>0.232412</td>\n",
       "      <td>294.545422</td>\n",
       "      <td>103.239020</td>\n",
       "    </tr>\n",
       "    <tr>\n",
       "      <th>min</th>\n",
       "      <td>4.000000e+00</td>\n",
       "      <td>12.000000</td>\n",
       "      <td>0.006530</td>\n",
       "      <td>0.000000</td>\n",
       "      <td>-0.010000</td>\n",
       "      <td>-0.182700</td>\n",
       "      <td>0.004900</td>\n",
       "      <td>-0.182700</td>\n",
       "      <td>1.000000</td>\n",
       "      <td>1.000000</td>\n",
       "      <td>...</td>\n",
       "      <td>-664.870000</td>\n",
       "      <td>-9274.750000</td>\n",
       "      <td>-94.200000</td>\n",
       "      <td>-954.550000</td>\n",
       "      <td>0.000000</td>\n",
       "      <td>0.700000</td>\n",
       "      <td>0.000000</td>\n",
       "      <td>0.000000</td>\n",
       "      <td>0.000000</td>\n",
       "      <td>1.000000</td>\n",
       "    </tr>\n",
       "    <tr>\n",
       "      <th>25%</th>\n",
       "      <td>4.009190e+05</td>\n",
       "      <td>36.000000</td>\n",
       "      <td>0.156290</td>\n",
       "      <td>0.134000</td>\n",
       "      <td>0.124200</td>\n",
       "      <td>0.115670</td>\n",
       "      <td>0.042400</td>\n",
       "      <td>0.074080</td>\n",
       "      <td>3.000000</td>\n",
       "      <td>4.000000</td>\n",
       "      <td>...</td>\n",
       "      <td>-73.180000</td>\n",
       "      <td>0.000000</td>\n",
       "      <td>0.000000</td>\n",
       "      <td>0.000000</td>\n",
       "      <td>0.000000</td>\n",
       "      <td>1.000000</td>\n",
       "      <td>0.000000</td>\n",
       "      <td>0.000000</td>\n",
       "      <td>0.000000</td>\n",
       "      <td>2.000000</td>\n",
       "    </tr>\n",
       "    <tr>\n",
       "      <th>50%</th>\n",
       "      <td>6.005540e+05</td>\n",
       "      <td>36.000000</td>\n",
       "      <td>0.209760</td>\n",
       "      <td>0.184000</td>\n",
       "      <td>0.173000</td>\n",
       "      <td>0.161500</td>\n",
       "      <td>0.072400</td>\n",
       "      <td>0.091700</td>\n",
       "      <td>4.000000</td>\n",
       "      <td>6.000000</td>\n",
       "      <td>...</td>\n",
       "      <td>-34.440000</td>\n",
       "      <td>0.000000</td>\n",
       "      <td>0.000000</td>\n",
       "      <td>0.000000</td>\n",
       "      <td>0.000000</td>\n",
       "      <td>1.000000</td>\n",
       "      <td>0.000000</td>\n",
       "      <td>0.000000</td>\n",
       "      <td>0.000000</td>\n",
       "      <td>44.000000</td>\n",
       "    </tr>\n",
       "    <tr>\n",
       "      <th>75%</th>\n",
       "      <td>8.926340e+05</td>\n",
       "      <td>36.000000</td>\n",
       "      <td>0.283810</td>\n",
       "      <td>0.250000</td>\n",
       "      <td>0.240000</td>\n",
       "      <td>0.224300</td>\n",
       "      <td>0.112000</td>\n",
       "      <td>0.116600</td>\n",
       "      <td>5.000000</td>\n",
       "      <td>8.000000</td>\n",
       "      <td>...</td>\n",
       "      <td>-13.920000</td>\n",
       "      <td>0.000000</td>\n",
       "      <td>0.000000</td>\n",
       "      <td>0.000000</td>\n",
       "      <td>0.000000</td>\n",
       "      <td>1.000000</td>\n",
       "      <td>0.000000</td>\n",
       "      <td>0.000000</td>\n",
       "      <td>0.000000</td>\n",
       "      <td>115.000000</td>\n",
       "    </tr>\n",
       "    <tr>\n",
       "      <th>max</th>\n",
       "      <td>1.255725e+06</td>\n",
       "      <td>60.000000</td>\n",
       "      <td>0.512290</td>\n",
       "      <td>0.497500</td>\n",
       "      <td>0.492500</td>\n",
       "      <td>0.319900</td>\n",
       "      <td>0.366000</td>\n",
       "      <td>0.283700</td>\n",
       "      <td>7.000000</td>\n",
       "      <td>11.000000</td>\n",
       "      <td>...</td>\n",
       "      <td>32.060000</td>\n",
       "      <td>0.000000</td>\n",
       "      <td>25000.000000</td>\n",
       "      <td>25000.000000</td>\n",
       "      <td>21117.900000</td>\n",
       "      <td>1.012500</td>\n",
       "      <td>39.000000</td>\n",
       "      <td>33.000000</td>\n",
       "      <td>25000.000000</td>\n",
       "      <td>1189.000000</td>\n",
       "    </tr>\n",
       "  </tbody>\n",
       "</table>\n",
       "<p>8 rows × 61 columns</p>\n",
       "</div>"
      ],
      "text/plain": [
       "       ListingNumber           Term    BorrowerAPR   BorrowerRate  \\\n",
       "count   1.139370e+05  113937.000000  113912.000000  113937.000000   \n",
       "mean    6.278857e+05      40.830248       0.218828       0.192764   \n",
       "std     3.280762e+05      10.436212       0.080364       0.074818   \n",
       "min     4.000000e+00      12.000000       0.006530       0.000000   \n",
       "25%     4.009190e+05      36.000000       0.156290       0.134000   \n",
       "50%     6.005540e+05      36.000000       0.209760       0.184000   \n",
       "75%     8.926340e+05      36.000000       0.283810       0.250000   \n",
       "max     1.255725e+06      60.000000       0.512290       0.497500   \n",
       "\n",
       "         LenderYield  EstimatedEffectiveYield  EstimatedLoss  EstimatedReturn  \\\n",
       "count  113937.000000             84853.000000   84853.000000     84853.000000   \n",
       "mean        0.182701                 0.168661       0.080306         0.096068   \n",
       "std         0.074516                 0.068467       0.046764         0.030403   \n",
       "min        -0.010000                -0.182700       0.004900        -0.182700   \n",
       "25%         0.124200                 0.115670       0.042400         0.074080   \n",
       "50%         0.173000                 0.161500       0.072400         0.091700   \n",
       "75%         0.240000                 0.224300       0.112000         0.116600   \n",
       "max         0.492500                 0.319900       0.366000         0.283700   \n",
       "\n",
       "       ProsperRating (numeric)  ProsperScore  ...  LP_ServiceFees  \\\n",
       "count             84853.000000  84853.000000  ...   113937.000000   \n",
       "mean                  4.072243      5.950067  ...      -54.725641   \n",
       "std                   1.673227      2.376501  ...       60.675425   \n",
       "min                   1.000000      1.000000  ...     -664.870000   \n",
       "25%                   3.000000      4.000000  ...      -73.180000   \n",
       "50%                   4.000000      6.000000  ...      -34.440000   \n",
       "75%                   5.000000      8.000000  ...      -13.920000   \n",
       "max                   7.000000     11.000000  ...       32.060000   \n",
       "\n",
       "       LP_CollectionFees  LP_GrossPrincipalLoss  LP_NetPrincipalLoss  \\\n",
       "count      113937.000000          113937.000000        113937.000000   \n",
       "mean          -14.242698             700.446342           681.420499   \n",
       "std           109.232758            2388.513831          2357.167068   \n",
       "min         -9274.750000             -94.200000          -954.550000   \n",
       "25%             0.000000               0.000000             0.000000   \n",
       "50%             0.000000               0.000000             0.000000   \n",
       "75%             0.000000               0.000000             0.000000   \n",
       "max             0.000000           25000.000000         25000.000000   \n",
       "\n",
       "       LP_NonPrincipalRecoverypayments  PercentFunded  Recommendations  \\\n",
       "count                    113937.000000  113937.000000    113937.000000   \n",
       "mean                         25.142686       0.998584         0.048027   \n",
       "std                         275.657937       0.017919         0.332353   \n",
       "min                           0.000000       0.700000         0.000000   \n",
       "25%                           0.000000       1.000000         0.000000   \n",
       "50%                           0.000000       1.000000         0.000000   \n",
       "75%                           0.000000       1.000000         0.000000   \n",
       "max                       21117.900000       1.012500        39.000000   \n",
       "\n",
       "       InvestmentFromFriendsCount  InvestmentFromFriendsAmount      Investors  \n",
       "count               113937.000000                113937.000000  113937.000000  \n",
       "mean                     0.023460                    16.550751      80.475228  \n",
       "std                      0.232412                   294.545422     103.239020  \n",
       "min                      0.000000                     0.000000       1.000000  \n",
       "25%                      0.000000                     0.000000       2.000000  \n",
       "50%                      0.000000                     0.000000      44.000000  \n",
       "75%                      0.000000                     0.000000     115.000000  \n",
       "max                     33.000000                 25000.000000    1189.000000  \n",
       "\n",
       "[8 rows x 61 columns]"
      ]
     },
     "execution_count": 6,
     "metadata": {},
     "output_type": "execute_result"
    }
   ],
   "source": [
    "prosper.describe()"
   ]
  },
  {
   "cell_type": "code",
   "execution_count": 7,
   "id": "75c58d02",
   "metadata": {},
   "outputs": [
    {
     "data": {
      "image/png": "[encoded data removed]",
      "text/plain": [
       "<Figure size 2160x1800 with 64 Axes>"
      ]
     },
     "metadata": {
      "needs_background": "light"
     },
     "output_type": "display_data"
    }
   ],
   "source": [
    "%matplotlib inline\n",
    "import matplotlib.pyplot as plt\n",
    "\n",
    "\n",
    "prosper.hist(bins=50, figsize=(30,25))\n",
    "\n",
    "plt.show()"
   ]
  },
  {
   "cell_type": "markdown",
   "id": "9059716b",
   "metadata": {},
   "source": [
    "We are plotting a Histogram for all the numerical attributes in the dataset in order to see the number of instances of a given attribute within a value range (horizental axis):\n",
    "- The first thing to notice is that the variable \"ListingNumber\" is defined in the variable definition list of features as a unique ID number that identifies the listing publicly. We therefore must not use it as part of our features in the models.\n",
    "\n",
    "- The variables \"EstimatedLoss\", \"EstimatedReturn\", and \"EstimatedEffectiveYield\" seem to be quiet useful for the model at first. However, after checking the data dictionary, we realized that those features were only valid for listings that came after July 2009. We discussed this with the team and thought it's not relevant to include them, because that would mean we must use only the post-2009 values, and we wouldn't have enough entries in terms of our target values to train our model correctly. Therefore, we didn't use them and chose to work with the whole dataset.\n",
    "\n",
    "- Other observations to notice is that some values even though are numerical in nature, actually are categorical and we can spot them since they show up as bar plots rather than a continuous histogram, hence categories. \"ProsperRating (numeric)\", \"ProsperScore\", and \"ListingCategory (numeric)\" are some of the examples of those categorical features. We must not include them among the numerical features in our model.\n",
    "\n",
    "- Some of the histograms are tail-heavy because they usually extand more to the right of the medium of the value range than to the left. As we can see, \"EmploymentStatusDuration\", \"OpenCreditLines\", \"OpenRevolvingAccounts\", \"LP_customerPayments\", \"MonthlyLoanPayment\" are some of the examples. This finding can make it harder for the Machine Learning models to detect patterns. Therefore, we can either omit them, or try transforming them into more of a bell-shaped distribution.\n",
    "\n",
    "- Finally some histograms are too skewed to one side or one specific value, creating a heavy bias in our model so we decided not to inlude them. An example would be the \"CurrentDelinquencies\" and \"ProsperPaymentsOneMonthPlusLate\" features."
   ]
  },
  {
   "cell_type": "code",
   "execution_count": 8,
   "id": "31020d41-d484-4fed-a4cb-60985efab584",
   "metadata": {},
   "outputs": [],
   "source": [
    "prosper = prosper.drop_duplicates()"
   ]
  },
  {
   "cell_type": "code",
   "execution_count": 9,
   "id": "ae7bedd3-bbef-4ba3-8346-ca117b4bb491",
   "metadata": {},
   "outputs": [
    {
     "data": {
      "text/html": [
       "<div>\n",
       "<style scoped>\n",
       "    .dataframe tbody tr th:only-of-type {\n",
       "        vertical-align: middle;\n",
       "    }\n",
       "\n",
       "    .dataframe tbody tr th {\n",
       "        vertical-align: top;\n",
       "    }\n",
       "\n",
       "    .dataframe thead th {\n",
       "        text-align: right;\n",
       "    }\n",
       "</style>\n",
       "<table border=\"1\" class=\"dataframe\">\n",
       "  <thead>\n",
       "    <tr style=\"text-align: right;\">\n",
       "      <th></th>\n",
       "      <th>ListingNumber</th>\n",
       "      <th>Term</th>\n",
       "      <th>BorrowerAPR</th>\n",
       "      <th>BorrowerRate</th>\n",
       "      <th>LenderYield</th>\n",
       "      <th>EstimatedEffectiveYield</th>\n",
       "      <th>EstimatedLoss</th>\n",
       "      <th>EstimatedReturn</th>\n",
       "      <th>ProsperRating (numeric)</th>\n",
       "      <th>ProsperScore</th>\n",
       "      <th>...</th>\n",
       "      <th>LP_ServiceFees</th>\n",
       "      <th>LP_CollectionFees</th>\n",
       "      <th>LP_GrossPrincipalLoss</th>\n",
       "      <th>LP_NetPrincipalLoss</th>\n",
       "      <th>LP_NonPrincipalRecoverypayments</th>\n",
       "      <th>PercentFunded</th>\n",
       "      <th>Recommendations</th>\n",
       "      <th>InvestmentFromFriendsCount</th>\n",
       "      <th>InvestmentFromFriendsAmount</th>\n",
       "      <th>Investors</th>\n",
       "    </tr>\n",
       "  </thead>\n",
       "  <tbody>\n",
       "    <tr>\n",
       "      <th>ListingNumber</th>\n",
       "      <td>1.000000</td>\n",
       "      <td>0.319971</td>\n",
       "      <td>-0.031520</td>\n",
       "      <td>-0.114391</td>\n",
       "      <td>-0.113544</td>\n",
       "      <td>-0.217721</td>\n",
       "      <td>-0.239568</td>\n",
       "      <td>-0.461391</td>\n",
       "      <td>0.209200</td>\n",
       "      <td>-0.106235</td>\n",
       "      <td>...</td>\n",
       "      <td>0.208286</td>\n",
       "      <td>0.104191</td>\n",
       "      <td>-0.251739</td>\n",
       "      <td>-0.247716</td>\n",
       "      <td>-0.096004</td>\n",
       "      <td>0.014688</td>\n",
       "      <td>-0.126031</td>\n",
       "      <td>-0.092813</td>\n",
       "      <td>-0.053481</td>\n",
       "      <td>-0.279659</td>\n",
       "    </tr>\n",
       "    <tr>\n",
       "      <th>Term</th>\n",
       "      <td>0.319971</td>\n",
       "      <td>1.000000</td>\n",
       "      <td>-0.011183</td>\n",
       "      <td>0.020085</td>\n",
       "      <td>0.020556</td>\n",
       "      <td>0.057047</td>\n",
       "      <td>-0.107140</td>\n",
       "      <td>0.152505</td>\n",
       "      <td>0.079179</td>\n",
       "      <td>0.028947</td>\n",
       "      <td>...</td>\n",
       "      <td>-0.167600</td>\n",
       "      <td>0.035841</td>\n",
       "      <td>-0.038353</td>\n",
       "      <td>-0.035981</td>\n",
       "      <td>-0.034157</td>\n",
       "      <td>-0.028806</td>\n",
       "      <td>-0.056680</td>\n",
       "      <td>-0.043507</td>\n",
       "      <td>-0.024472</td>\n",
       "      <td>-0.045137</td>\n",
       "    </tr>\n",
       "    <tr>\n",
       "      <th>BorrowerAPR</th>\n",
       "      <td>-0.031520</td>\n",
       "      <td>-0.011183</td>\n",
       "      <td>1.000000</td>\n",
       "      <td>0.989824</td>\n",
       "      <td>0.989329</td>\n",
       "      <td>0.895635</td>\n",
       "      <td>0.949538</td>\n",
       "      <td>0.794275</td>\n",
       "      <td>-0.962151</td>\n",
       "      <td>-0.668287</td>\n",
       "      <td>...</td>\n",
       "      <td>0.116974</td>\n",
       "      <td>-0.041452</td>\n",
       "      <td>0.067301</td>\n",
       "      <td>0.067385</td>\n",
       "      <td>0.028519</td>\n",
       "      <td>-0.028236</td>\n",
       "      <td>-0.044236</td>\n",
       "      <td>-0.046757</td>\n",
       "      <td>-0.031841</td>\n",
       "      <td>-0.307606</td>\n",
       "    </tr>\n",
       "    <tr>\n",
       "      <th>BorrowerRate</th>\n",
       "      <td>-0.114391</td>\n",
       "      <td>0.020085</td>\n",
       "      <td>0.989824</td>\n",
       "      <td>1.000000</td>\n",
       "      <td>0.999211</td>\n",
       "      <td>0.895282</td>\n",
       "      <td>0.945297</td>\n",
       "      <td>0.817670</td>\n",
       "      <td>-0.953105</td>\n",
       "      <td>-0.649736</td>\n",
       "      <td>...</td>\n",
       "      <td>0.095993</td>\n",
       "      <td>-0.053378</td>\n",
       "      <td>0.100635</td>\n",
       "      <td>0.100308</td>\n",
       "      <td>0.042059</td>\n",
       "      <td>-0.029025</td>\n",
       "      <td>-0.030579</td>\n",
       "      <td>-0.037312</td>\n",
       "      <td>-0.026512</td>\n",
       "      <td>-0.274217</td>\n",
       "    </tr>\n",
       "    <tr>\n",
       "      <th>LenderYield</th>\n",
       "      <td>-0.113544</td>\n",
       "      <td>0.020556</td>\n",
       "      <td>0.989329</td>\n",
       "      <td>0.999211</td>\n",
       "      <td>1.000000</td>\n",
       "      <td>0.895343</td>\n",
       "      <td>0.945308</td>\n",
       "      <td>0.817654</td>\n",
       "      <td>-0.953119</td>\n",
       "      <td>-0.649783</td>\n",
       "      <td>...</td>\n",
       "      <td>0.097854</td>\n",
       "      <td>-0.052954</td>\n",
       "      <td>0.099506</td>\n",
       "      <td>0.099195</td>\n",
       "      <td>0.041025</td>\n",
       "      <td>-0.029209</td>\n",
       "      <td>-0.031069</td>\n",
       "      <td>-0.037302</td>\n",
       "      <td>-0.026632</td>\n",
       "      <td>-0.274174</td>\n",
       "    </tr>\n",
       "    <tr>\n",
       "      <th>...</th>\n",
       "      <td>...</td>\n",
       "      <td>...</td>\n",
       "      <td>...</td>\n",
       "      <td>...</td>\n",
       "      <td>...</td>\n",
       "      <td>...</td>\n",
       "      <td>...</td>\n",
       "      <td>...</td>\n",
       "      <td>...</td>\n",
       "      <td>...</td>\n",
       "      <td>...</td>\n",
       "      <td>...</td>\n",
       "      <td>...</td>\n",
       "      <td>...</td>\n",
       "      <td>...</td>\n",
       "      <td>...</td>\n",
       "      <td>...</td>\n",
       "      <td>...</td>\n",
       "      <td>...</td>\n",
       "      <td>...</td>\n",
       "      <td>...</td>\n",
       "    </tr>\n",
       "    <tr>\n",
       "      <th>PercentFunded</th>\n",
       "      <td>0.014688</td>\n",
       "      <td>-0.028806</td>\n",
       "      <td>-0.028236</td>\n",
       "      <td>-0.029025</td>\n",
       "      <td>-0.029209</td>\n",
       "      <td>-0.043366</td>\n",
       "      <td>-0.022738</td>\n",
       "      <td>-0.039422</td>\n",
       "      <td>0.012491</td>\n",
       "      <td>-0.019344</td>\n",
       "      <td>...</td>\n",
       "      <td>0.069591</td>\n",
       "      <td>0.006186</td>\n",
       "      <td>-0.013144</td>\n",
       "      <td>-0.013578</td>\n",
       "      <td>0.000776</td>\n",
       "      <td>1.000000</td>\n",
       "      <td>0.009604</td>\n",
       "      <td>0.001622</td>\n",
       "      <td>0.003338</td>\n",
       "      <td>-0.049716</td>\n",
       "    </tr>\n",
       "    <tr>\n",
       "      <th>Recommendations</th>\n",
       "      <td>-0.126031</td>\n",
       "      <td>-0.056680</td>\n",
       "      <td>-0.044236</td>\n",
       "      <td>-0.030579</td>\n",
       "      <td>-0.031069</td>\n",
       "      <td>-0.046694</td>\n",
       "      <td>0.004081</td>\n",
       "      <td>-0.019886</td>\n",
       "      <td>0.004772</td>\n",
       "      <td>0.026658</td>\n",
       "      <td>...</td>\n",
       "      <td>-0.039016</td>\n",
       "      <td>-0.015910</td>\n",
       "      <td>0.041372</td>\n",
       "      <td>0.040897</td>\n",
       "      <td>0.016845</td>\n",
       "      <td>0.009604</td>\n",
       "      <td>1.000000</td>\n",
       "      <td>0.718079</td>\n",
       "      <td>0.322062</td>\n",
       "      <td>0.073824</td>\n",
       "    </tr>\n",
       "    <tr>\n",
       "      <th>InvestmentFromFriendsCount</th>\n",
       "      <td>-0.092813</td>\n",
       "      <td>-0.043507</td>\n",
       "      <td>-0.046757</td>\n",
       "      <td>-0.037312</td>\n",
       "      <td>-0.037302</td>\n",
       "      <td>-0.063848</td>\n",
       "      <td>0.009475</td>\n",
       "      <td>-0.043022</td>\n",
       "      <td>0.007746</td>\n",
       "      <td>0.028343</td>\n",
       "      <td>...</td>\n",
       "      <td>-0.035004</td>\n",
       "      <td>-0.008319</td>\n",
       "      <td>0.020932</td>\n",
       "      <td>0.020350</td>\n",
       "      <td>0.010109</td>\n",
       "      <td>0.001622</td>\n",
       "      <td>0.718079</td>\n",
       "      <td>1.000000</td>\n",
       "      <td>0.483506</td>\n",
       "      <td>0.058773</td>\n",
       "    </tr>\n",
       "    <tr>\n",
       "      <th>InvestmentFromFriendsAmount</th>\n",
       "      <td>-0.053481</td>\n",
       "      <td>-0.024472</td>\n",
       "      <td>-0.031841</td>\n",
       "      <td>-0.026512</td>\n",
       "      <td>-0.026632</td>\n",
       "      <td>-0.038146</td>\n",
       "      <td>0.024555</td>\n",
       "      <td>-0.031902</td>\n",
       "      <td>-0.010459</td>\n",
       "      <td>0.003131</td>\n",
       "      <td>...</td>\n",
       "      <td>-0.056675</td>\n",
       "      <td>-0.010141</td>\n",
       "      <td>0.028762</td>\n",
       "      <td>0.028301</td>\n",
       "      <td>0.018604</td>\n",
       "      <td>0.003338</td>\n",
       "      <td>0.322062</td>\n",
       "      <td>0.483506</td>\n",
       "      <td>1.000000</td>\n",
       "      <td>0.012178</td>\n",
       "    </tr>\n",
       "    <tr>\n",
       "      <th>Investors</th>\n",
       "      <td>-0.279659</td>\n",
       "      <td>-0.045137</td>\n",
       "      <td>-0.307606</td>\n",
       "      <td>-0.274217</td>\n",
       "      <td>-0.274174</td>\n",
       "      <td>-0.265244</td>\n",
       "      <td>-0.275501</td>\n",
       "      <td>-0.092337</td>\n",
       "      <td>0.307753</td>\n",
       "      <td>0.320594</td>\n",
       "      <td>...</td>\n",
       "      <td>-0.524836</td>\n",
       "      <td>-0.074550</td>\n",
       "      <td>0.219807</td>\n",
       "      <td>0.216049</td>\n",
       "      <td>0.066970</td>\n",
       "      <td>-0.049716</td>\n",
       "      <td>0.073824</td>\n",
       "      <td>0.058773</td>\n",
       "      <td>0.012178</td>\n",
       "      <td>1.000000</td>\n",
       "    </tr>\n",
       "  </tbody>\n",
       "</table>\n",
       "<p>64 rows × 64 columns</p>\n",
       "</div>"
      ],
      "text/plain": [
       "                             ListingNumber      Term  BorrowerAPR  \\\n",
       "ListingNumber                     1.000000  0.319971    -0.031520   \n",
       "Term                              0.319971  1.000000    -0.011183   \n",
       "BorrowerAPR                      -0.031520 -0.011183     1.000000   \n",
       "BorrowerRate                     -0.114391  0.020085     0.989824   \n",
       "LenderYield                      -0.113544  0.020556     0.989329   \n",
       "...                                    ...       ...          ...   \n",
       "PercentFunded                     0.014688 -0.028806    -0.028236   \n",
       "Recommendations                  -0.126031 -0.056680    -0.044236   \n",
       "InvestmentFromFriendsCount       -0.092813 -0.043507    -0.046757   \n",
       "InvestmentFromFriendsAmount      -0.053481 -0.024472    -0.031841   \n",
       "Investors                        -0.279659 -0.045137    -0.307606   \n",
       "\n",
       "                             BorrowerRate  LenderYield  \\\n",
       "ListingNumber                   -0.114391    -0.113544   \n",
       "Term                             0.020085     0.020556   \n",
       "BorrowerAPR                      0.989824     0.989329   \n",
       "BorrowerRate                     1.000000     0.999211   \n",
       "LenderYield                      0.999211     1.000000   \n",
       "...                                   ...          ...   \n",
       "PercentFunded                   -0.029025    -0.029209   \n",
       "Recommendations                 -0.030579    -0.031069   \n",
       "InvestmentFromFriendsCount      -0.037312    -0.037302   \n",
       "InvestmentFromFriendsAmount     -0.026512    -0.026632   \n",
       "Investors                       -0.274217    -0.274174   \n",
       "\n",
       "                             EstimatedEffectiveYield  EstimatedLoss  \\\n",
       "ListingNumber                              -0.217721      -0.239568   \n",
       "Term                                        0.057047      -0.107140   \n",
       "BorrowerAPR                                 0.895635       0.949538   \n",
       "BorrowerRate                                0.895282       0.945297   \n",
       "LenderYield                                 0.895343       0.945308   \n",
       "...                                              ...            ...   \n",
       "PercentFunded                              -0.043366      -0.022738   \n",
       "Recommendations                            -0.046694       0.004081   \n",
       "InvestmentFromFriendsCount                 -0.063848       0.009475   \n",
       "InvestmentFromFriendsAmount                -0.038146       0.024555   \n",
       "Investors                                  -0.265244      -0.275501   \n",
       "\n",
       "                             EstimatedReturn  ProsperRating (numeric)  \\\n",
       "ListingNumber                      -0.461391                 0.209200   \n",
       "Term                                0.152505                 0.079179   \n",
       "BorrowerAPR                         0.794275                -0.962151   \n",
       "BorrowerRate                        0.817670                -0.953105   \n",
       "LenderYield                         0.817654                -0.953119   \n",
       "...                                      ...                      ...   \n",
       "PercentFunded                      -0.039422                 0.012491   \n",
       "Recommendations                    -0.019886                 0.004772   \n",
       "InvestmentFromFriendsCount         -0.043022                 0.007746   \n",
       "InvestmentFromFriendsAmount        -0.031902                -0.010459   \n",
       "Investors                          -0.092337                 0.307753   \n",
       "\n",
       "                             ProsperScore  ...  LP_ServiceFees  \\\n",
       "ListingNumber                   -0.106235  ...        0.208286   \n",
       "Term                             0.028947  ...       -0.167600   \n",
       "BorrowerAPR                     -0.668287  ...        0.116974   \n",
       "BorrowerRate                    -0.649736  ...        0.095993   \n",
       "LenderYield                     -0.649783  ...        0.097854   \n",
       "...                                   ...  ...             ...   \n",
       "PercentFunded                   -0.019344  ...        0.069591   \n",
       "Recommendations                  0.026658  ...       -0.039016   \n",
       "InvestmentFromFriendsCount       0.028343  ...       -0.035004   \n",
       "InvestmentFromFriendsAmount      0.003131  ...       -0.056675   \n",
       "Investors                        0.320594  ...       -0.524836   \n",
       "\n",
       "                             LP_CollectionFees  LP_GrossPrincipalLoss  \\\n",
       "ListingNumber                         0.104191              -0.251739   \n",
       "Term                                  0.035841              -0.038353   \n",
       "BorrowerAPR                          -0.041452               0.067301   \n",
       "BorrowerRate                         -0.053378               0.100635   \n",
       "LenderYield                          -0.052954               0.099506   \n",
       "...                                        ...                    ...   \n",
       "PercentFunded                         0.006186              -0.013144   \n",
       "Recommendations                      -0.015910               0.041372   \n",
       "InvestmentFromFriendsCount           -0.008319               0.020932   \n",
       "InvestmentFromFriendsAmount          -0.010141               0.028762   \n",
       "Investors                            -0.074550               0.219807   \n",
       "\n",
       "                             LP_NetPrincipalLoss  \\\n",
       "ListingNumber                          -0.247716   \n",
       "Term                                   -0.035981   \n",
       "BorrowerAPR                             0.067385   \n",
       "BorrowerRate                            0.100308   \n",
       "LenderYield                             0.099195   \n",
       "...                                          ...   \n",
       "PercentFunded                          -0.013578   \n",
       "Recommendations                         0.040897   \n",
       "InvestmentFromFriendsCount              0.020350   \n",
       "InvestmentFromFriendsAmount             0.028301   \n",
       "Investors                               0.216049   \n",
       "\n",
       "                             LP_NonPrincipalRecoverypayments  PercentFunded  \\\n",
       "ListingNumber                                      -0.096004       0.014688   \n",
       "Term                                               -0.034157      -0.028806   \n",
       "BorrowerAPR                                         0.028519      -0.028236   \n",
       "BorrowerRate                                        0.042059      -0.029025   \n",
       "LenderYield                                         0.041025      -0.029209   \n",
       "...                                                      ...            ...   \n",
       "PercentFunded                                       0.000776       1.000000   \n",
       "Recommendations                                     0.016845       0.009604   \n",
       "InvestmentFromFriendsCount                          0.010109       0.001622   \n",
       "InvestmentFromFriendsAmount                         0.018604       0.003338   \n",
       "Investors                                           0.066970      -0.049716   \n",
       "\n",
       "                             Recommendations  InvestmentFromFriendsCount  \\\n",
       "ListingNumber                      -0.126031                   -0.092813   \n",
       "Term                               -0.056680                   -0.043507   \n",
       "BorrowerAPR                        -0.044236                   -0.046757   \n",
       "BorrowerRate                       -0.030579                   -0.037312   \n",
       "LenderYield                        -0.031069                   -0.037302   \n",
       "...                                      ...                         ...   \n",
       "PercentFunded                       0.009604                    0.001622   \n",
       "Recommendations                     1.000000                    0.718079   \n",
       "InvestmentFromFriendsCount          0.718079                    1.000000   \n",
       "InvestmentFromFriendsAmount         0.322062                    0.483506   \n",
       "Investors                           0.073824                    0.058773   \n",
       "\n",
       "                             InvestmentFromFriendsAmount  Investors  \n",
       "ListingNumber                                  -0.053481  -0.279659  \n",
       "Term                                           -0.024472  -0.045137  \n",
       "BorrowerAPR                                    -0.031841  -0.307606  \n",
       "BorrowerRate                                   -0.026512  -0.274217  \n",
       "LenderYield                                    -0.026632  -0.274174  \n",
       "...                                                  ...        ...  \n",
       "PercentFunded                                   0.003338  -0.049716  \n",
       "Recommendations                                 0.322062   0.073824  \n",
       "InvestmentFromFriendsCount                      0.483506   0.058773  \n",
       "InvestmentFromFriendsAmount                     1.000000   0.012178  \n",
       "Investors                                       0.012178   1.000000  \n",
       "\n",
       "[64 rows x 64 columns]"
      ]
     },
     "execution_count": 9,
     "metadata": {},
     "output_type": "execute_result"
    }
   ],
   "source": [
    "prosper.corr()"
   ]
  },
  {
   "cell_type": "code",
   "execution_count": 10,
   "id": "ec1eff5a-7292-498c-993d-b2a748746707",
   "metadata": {},
   "outputs": [
    {
     "data": {
      "text/plain": [
       "ListingKey                             object\n",
       "ListingNumber                           int64\n",
       "ListingCreationDate            datetime64[ns]\n",
       "CreditGrade                            object\n",
       "Term                                    int64\n",
       "                                    ...      \n",
       "PercentFunded                         float64\n",
       "Recommendations                         int64\n",
       "InvestmentFromFriendsCount              int64\n",
       "InvestmentFromFriendsAmount           float64\n",
       "Investors                               int64\n",
       "Length: 81, dtype: object"
      ]
     },
     "execution_count": 10,
     "metadata": {},
     "output_type": "execute_result"
    }
   ],
   "source": [
    "prosper.dtypes"
   ]
  },
  {
   "cell_type": "code",
   "execution_count": 11,
   "id": "df794de5",
   "metadata": {},
   "outputs": [],
   "source": [
    "prosper.replace(\"FinalPaymentInProgress\",\"Completed\",inplace=True)"
   ]
  },
  {
   "cell_type": "code",
   "execution_count": 12,
   "id": "8a616d9a",
   "metadata": {},
   "outputs": [],
   "source": [
    "prosper.replace(\"Chargedoff\",\"Defaulted\",inplace=True)"
   ]
  },
  {
   "cell_type": "code",
   "execution_count": 13,
   "id": "9d68d7e6",
   "metadata": {},
   "outputs": [],
   "source": [
    "prosper = prosper[prosper[\"LoanStatus\"] != \"Current\"]"
   ]
  },
  {
   "cell_type": "code",
   "execution_count": 14,
   "id": "82ec3f46",
   "metadata": {},
   "outputs": [
    {
     "data": {
      "text/html": [
       "<div>\n",
       "<style scoped>\n",
       "    .dataframe tbody tr th:only-of-type {\n",
       "        vertical-align: middle;\n",
       "    }\n",
       "\n",
       "    .dataframe tbody tr th {\n",
       "        vertical-align: top;\n",
       "    }\n",
       "\n",
       "    .dataframe thead th {\n",
       "        text-align: right;\n",
       "    }\n",
       "</style>\n",
       "<table border=\"1\" class=\"dataframe\">\n",
       "  <thead>\n",
       "    <tr style=\"text-align: right;\">\n",
       "      <th></th>\n",
       "      <th>ListingKey</th>\n",
       "      <th>ListingNumber</th>\n",
       "      <th>ListingCreationDate</th>\n",
       "      <th>CreditGrade</th>\n",
       "      <th>Term</th>\n",
       "      <th>LoanStatus</th>\n",
       "      <th>ClosedDate</th>\n",
       "      <th>BorrowerAPR</th>\n",
       "      <th>BorrowerRate</th>\n",
       "      <th>LenderYield</th>\n",
       "      <th>...</th>\n",
       "      <th>LP_ServiceFees</th>\n",
       "      <th>LP_CollectionFees</th>\n",
       "      <th>LP_GrossPrincipalLoss</th>\n",
       "      <th>LP_NetPrincipalLoss</th>\n",
       "      <th>LP_NonPrincipalRecoverypayments</th>\n",
       "      <th>PercentFunded</th>\n",
       "      <th>Recommendations</th>\n",
       "      <th>InvestmentFromFriendsCount</th>\n",
       "      <th>InvestmentFromFriendsAmount</th>\n",
       "      <th>Investors</th>\n",
       "    </tr>\n",
       "  </thead>\n",
       "  <tbody>\n",
       "    <tr>\n",
       "      <th>0</th>\n",
       "      <td>1021339766868145413AB3B</td>\n",
       "      <td>193129</td>\n",
       "      <td>2007-08-26 19:09:29.263</td>\n",
       "      <td>C</td>\n",
       "      <td>36</td>\n",
       "      <td>Completed</td>\n",
       "      <td>2009-08-14 00:00:00</td>\n",
       "      <td>0.16516</td>\n",
       "      <td>0.1580</td>\n",
       "      <td>0.1380</td>\n",
       "      <td>...</td>\n",
       "      <td>-133.18</td>\n",
       "      <td>0.0</td>\n",
       "      <td>0.00</td>\n",
       "      <td>0.00</td>\n",
       "      <td>0.00</td>\n",
       "      <td>1.0</td>\n",
       "      <td>0</td>\n",
       "      <td>0</td>\n",
       "      <td>0.0</td>\n",
       "      <td>258</td>\n",
       "    </tr>\n",
       "    <tr>\n",
       "      <th>2</th>\n",
       "      <td>0EE9337825851032864889A</td>\n",
       "      <td>81716</td>\n",
       "      <td>2007-01-05 15:00:47.090</td>\n",
       "      <td>HR</td>\n",
       "      <td>36</td>\n",
       "      <td>Completed</td>\n",
       "      <td>2009-12-17 00:00:00</td>\n",
       "      <td>0.28269</td>\n",
       "      <td>0.2750</td>\n",
       "      <td>0.2400</td>\n",
       "      <td>...</td>\n",
       "      <td>-24.20</td>\n",
       "      <td>0.0</td>\n",
       "      <td>0.00</td>\n",
       "      <td>0.00</td>\n",
       "      <td>0.00</td>\n",
       "      <td>1.0</td>\n",
       "      <td>0</td>\n",
       "      <td>0</td>\n",
       "      <td>0.0</td>\n",
       "      <td>41</td>\n",
       "    </tr>\n",
       "    <tr>\n",
       "      <th>11</th>\n",
       "      <td>0F1734025150298088A5F2B</td>\n",
       "      <td>213551</td>\n",
       "      <td>2007-10-09 20:28:33.640</td>\n",
       "      <td>C</td>\n",
       "      <td>36</td>\n",
       "      <td>Completed</td>\n",
       "      <td>2008-01-07 00:00:00</td>\n",
       "      <td>0.15033</td>\n",
       "      <td>0.1325</td>\n",
       "      <td>0.1225</td>\n",
       "      <td>...</td>\n",
       "      <td>-0.88</td>\n",
       "      <td>0.0</td>\n",
       "      <td>0.00</td>\n",
       "      <td>0.00</td>\n",
       "      <td>0.00</td>\n",
       "      <td>1.0</td>\n",
       "      <td>0</td>\n",
       "      <td>0</td>\n",
       "      <td>0.0</td>\n",
       "      <td>53</td>\n",
       "    </tr>\n",
       "    <tr>\n",
       "      <th>15</th>\n",
       "      <td>0F483544120452347F48121</td>\n",
       "      <td>577164</td>\n",
       "      <td>2012-04-10 09:14:46.297</td>\n",
       "      <td>NaN</td>\n",
       "      <td>36</td>\n",
       "      <td>Defaulted</td>\n",
       "      <td>2012-12-19 00:00:00</td>\n",
       "      <td>0.35797</td>\n",
       "      <td>0.3177</td>\n",
       "      <td>0.3077</td>\n",
       "      <td>...</td>\n",
       "      <td>-9.81</td>\n",
       "      <td>0.0</td>\n",
       "      <td>3790.25</td>\n",
       "      <td>3790.25</td>\n",
       "      <td>0.00</td>\n",
       "      <td>1.0</td>\n",
       "      <td>0</td>\n",
       "      <td>0</td>\n",
       "      <td>0.0</td>\n",
       "      <td>10</td>\n",
       "    </tr>\n",
       "    <tr>\n",
       "      <th>17</th>\n",
       "      <td>0FDF336575182398852A8DC</td>\n",
       "      <td>31540</td>\n",
       "      <td>2006-08-15 12:21:09.433</td>\n",
       "      <td>AA</td>\n",
       "      <td>36</td>\n",
       "      <td>Defaulted</td>\n",
       "      <td>2008-05-22 00:00:00</td>\n",
       "      <td>0.13202</td>\n",
       "      <td>0.1250</td>\n",
       "      <td>0.1175</td>\n",
       "      <td>...</td>\n",
       "      <td>-54.61</td>\n",
       "      <td>0.0</td>\n",
       "      <td>6012.65</td>\n",
       "      <td>6012.67</td>\n",
       "      <td>268.96</td>\n",
       "      <td>1.0</td>\n",
       "      <td>0</td>\n",
       "      <td>0</td>\n",
       "      <td>0.0</td>\n",
       "      <td>85</td>\n",
       "    </tr>\n",
       "    <tr>\n",
       "      <th>...</th>\n",
       "      <td>...</td>\n",
       "      <td>...</td>\n",
       "      <td>...</td>\n",
       "      <td>...</td>\n",
       "      <td>...</td>\n",
       "      <td>...</td>\n",
       "      <td>...</td>\n",
       "      <td>...</td>\n",
       "      <td>...</td>\n",
       "      <td>...</td>\n",
       "      <td>...</td>\n",
       "      <td>...</td>\n",
       "      <td>...</td>\n",
       "      <td>...</td>\n",
       "      <td>...</td>\n",
       "      <td>...</td>\n",
       "      <td>...</td>\n",
       "      <td>...</td>\n",
       "      <td>...</td>\n",
       "      <td>...</td>\n",
       "      <td>...</td>\n",
       "    </tr>\n",
       "    <tr>\n",
       "      <th>113927</th>\n",
       "      <td>E3433419834735803891976</td>\n",
       "      <td>322787</td>\n",
       "      <td>2008-04-30 21:25:19.670</td>\n",
       "      <td>AA</td>\n",
       "      <td>36</td>\n",
       "      <td>Completed</td>\n",
       "      <td>2011-05-09 00:00:00</td>\n",
       "      <td>0.07469</td>\n",
       "      <td>0.0679</td>\n",
       "      <td>0.0579</td>\n",
       "      <td>...</td>\n",
       "      <td>-68.47</td>\n",
       "      <td>0.0</td>\n",
       "      <td>0.00</td>\n",
       "      <td>0.00</td>\n",
       "      <td>0.00</td>\n",
       "      <td>1.0</td>\n",
       "      <td>2</td>\n",
       "      <td>0</td>\n",
       "      <td>0.0</td>\n",
       "      <td>194</td>\n",
       "    </tr>\n",
       "    <tr>\n",
       "      <th>113928</th>\n",
       "      <td>E34935176664905343E01EA</td>\n",
       "      <td>510097</td>\n",
       "      <td>2011-06-06 19:02:44.443</td>\n",
       "      <td>NaN</td>\n",
       "      <td>36</td>\n",
       "      <td>Completed</td>\n",
       "      <td>2011-09-19 00:00:00</td>\n",
       "      <td>0.22362</td>\n",
       "      <td>0.1899</td>\n",
       "      <td>0.1799</td>\n",
       "      <td>...</td>\n",
       "      <td>-4.41</td>\n",
       "      <td>0.0</td>\n",
       "      <td>0.00</td>\n",
       "      <td>0.00</td>\n",
       "      <td>0.00</td>\n",
       "      <td>1.0</td>\n",
       "      <td>0</td>\n",
       "      <td>0</td>\n",
       "      <td>0.0</td>\n",
       "      <td>25</td>\n",
       "    </tr>\n",
       "    <tr>\n",
       "      <th>113929</th>\n",
       "      <td>E3553583161337791FCB87F</td>\n",
       "      <td>830413</td>\n",
       "      <td>2013-07-06 17:40:01.657</td>\n",
       "      <td>NaN</td>\n",
       "      <td>36</td>\n",
       "      <td>Completed</td>\n",
       "      <td>2014-02-07 00:00:00</td>\n",
       "      <td>0.30285</td>\n",
       "      <td>0.2639</td>\n",
       "      <td>0.2539</td>\n",
       "      <td>...</td>\n",
       "      <td>-6.54</td>\n",
       "      <td>0.0</td>\n",
       "      <td>0.00</td>\n",
       "      <td>0.00</td>\n",
       "      <td>0.00</td>\n",
       "      <td>1.0</td>\n",
       "      <td>0</td>\n",
       "      <td>0</td>\n",
       "      <td>0.0</td>\n",
       "      <td>26</td>\n",
       "    </tr>\n",
       "    <tr>\n",
       "      <th>113933</th>\n",
       "      <td>E6DB353036033497292EE43</td>\n",
       "      <td>537216</td>\n",
       "      <td>2011-11-03 20:42:55.333</td>\n",
       "      <td>NaN</td>\n",
       "      <td>36</td>\n",
       "      <td>Completed</td>\n",
       "      <td>NaN</td>\n",
       "      <td>0.13220</td>\n",
       "      <td>0.1110</td>\n",
       "      <td>0.1010</td>\n",
       "      <td>...</td>\n",
       "      <td>-30.05</td>\n",
       "      <td>0.0</td>\n",
       "      <td>0.00</td>\n",
       "      <td>0.00</td>\n",
       "      <td>0.00</td>\n",
       "      <td>1.0</td>\n",
       "      <td>0</td>\n",
       "      <td>0</td>\n",
       "      <td>0.0</td>\n",
       "      <td>22</td>\n",
       "    </tr>\n",
       "    <tr>\n",
       "      <th>113935</th>\n",
       "      <td>E6EB3531504622671970D9E</td>\n",
       "      <td>539056</td>\n",
       "      <td>2011-11-14 13:18:26.597</td>\n",
       "      <td>NaN</td>\n",
       "      <td>60</td>\n",
       "      <td>Completed</td>\n",
       "      <td>2013-08-13 00:00:00</td>\n",
       "      <td>0.28408</td>\n",
       "      <td>0.2605</td>\n",
       "      <td>0.2505</td>\n",
       "      <td>...</td>\n",
       "      <td>-235.05</td>\n",
       "      <td>0.0</td>\n",
       "      <td>0.00</td>\n",
       "      <td>0.00</td>\n",
       "      <td>0.00</td>\n",
       "      <td>1.0</td>\n",
       "      <td>0</td>\n",
       "      <td>0</td>\n",
       "      <td>0.0</td>\n",
       "      <td>274</td>\n",
       "    </tr>\n",
       "  </tbody>\n",
       "</table>\n",
       "<p>55289 rows × 80 columns</p>\n",
       "</div>"
      ],
      "text/plain": [
       "                     ListingKey  ListingNumber     ListingCreationDate  \\\n",
       "0       1021339766868145413AB3B         193129 2007-08-26 19:09:29.263   \n",
       "2       0EE9337825851032864889A          81716 2007-01-05 15:00:47.090   \n",
       "11      0F1734025150298088A5F2B         213551 2007-10-09 20:28:33.640   \n",
       "15      0F483544120452347F48121         577164 2012-04-10 09:14:46.297   \n",
       "17      0FDF336575182398852A8DC          31540 2006-08-15 12:21:09.433   \n",
       "...                         ...            ...                     ...   \n",
       "113927  E3433419834735803891976         322787 2008-04-30 21:25:19.670   \n",
       "113928  E34935176664905343E01EA         510097 2011-06-06 19:02:44.443   \n",
       "113929  E3553583161337791FCB87F         830413 2013-07-06 17:40:01.657   \n",
       "113933  E6DB353036033497292EE43         537216 2011-11-03 20:42:55.333   \n",
       "113935  E6EB3531504622671970D9E         539056 2011-11-14 13:18:26.597   \n",
       "\n",
       "       CreditGrade  Term LoanStatus           ClosedDate  BorrowerAPR  \\\n",
       "0                C    36  Completed  2009-08-14 00:00:00      0.16516   \n",
       "2               HR    36  Completed  2009-12-17 00:00:00      0.28269   \n",
       "11               C    36  Completed  2008-01-07 00:00:00      0.15033   \n",
       "15             NaN    36  Defaulted  2012-12-19 00:00:00      0.35797   \n",
       "17              AA    36  Defaulted  2008-05-22 00:00:00      0.13202   \n",
       "...            ...   ...        ...                  ...          ...   \n",
       "113927          AA    36  Completed  2011-05-09 00:00:00      0.07469   \n",
       "113928         NaN    36  Completed  2011-09-19 00:00:00      0.22362   \n",
       "113929         NaN    36  Completed  2014-02-07 00:00:00      0.30285   \n",
       "113933         NaN    36  Completed                  NaN      0.13220   \n",
       "113935         NaN    60  Completed  2013-08-13 00:00:00      0.28408   \n",
       "\n",
       "        BorrowerRate  LenderYield  ...  LP_ServiceFees  LP_CollectionFees  \\\n",
       "0             0.1580       0.1380  ...         -133.18                0.0   \n",
       "2             0.2750       0.2400  ...          -24.20                0.0   \n",
       "11            0.1325       0.1225  ...           -0.88                0.0   \n",
       "15            0.3177       0.3077  ...           -9.81                0.0   \n",
       "17            0.1250       0.1175  ...          -54.61                0.0   \n",
       "...              ...          ...  ...             ...                ...   \n",
       "113927        0.0679       0.0579  ...          -68.47                0.0   \n",
       "113928        0.1899       0.1799  ...           -4.41                0.0   \n",
       "113929        0.2639       0.2539  ...           -6.54                0.0   \n",
       "113933        0.1110       0.1010  ...          -30.05                0.0   \n",
       "113935        0.2605       0.2505  ...         -235.05                0.0   \n",
       "\n",
       "        LP_GrossPrincipalLoss  LP_NetPrincipalLoss  \\\n",
       "0                        0.00                 0.00   \n",
       "2                        0.00                 0.00   \n",
       "11                       0.00                 0.00   \n",
       "15                    3790.25              3790.25   \n",
       "17                    6012.65              6012.67   \n",
       "...                       ...                  ...   \n",
       "113927                   0.00                 0.00   \n",
       "113928                   0.00                 0.00   \n",
       "113929                   0.00                 0.00   \n",
       "113933                   0.00                 0.00   \n",
       "113935                   0.00                 0.00   \n",
       "\n",
       "       LP_NonPrincipalRecoverypayments  PercentFunded  Recommendations  \\\n",
       "0                                 0.00            1.0                0   \n",
       "2                                 0.00            1.0                0   \n",
       "11                                0.00            1.0                0   \n",
       "15                                0.00            1.0                0   \n",
       "17                              268.96            1.0                0   \n",
       "...                                ...            ...              ...   \n",
       "113927                            0.00            1.0                2   \n",
       "113928                            0.00            1.0                0   \n",
       "113929                            0.00            1.0                0   \n",
       "113933                            0.00            1.0                0   \n",
       "113935                            0.00            1.0                0   \n",
       "\n",
       "       InvestmentFromFriendsCount InvestmentFromFriendsAmount Investors  \n",
       "0                               0                         0.0       258  \n",
       "2                               0                         0.0        41  \n",
       "11                              0                         0.0        53  \n",
       "15                              0                         0.0        10  \n",
       "17                              0                         0.0        85  \n",
       "...                           ...                         ...       ...  \n",
       "113927                          0                         0.0       194  \n",
       "113928                          0                         0.0        25  \n",
       "113929                          0                         0.0        26  \n",
       "113933                          0                         0.0        22  \n",
       "113935                          0                         0.0       274  \n",
       "\n",
       "[55289 rows x 80 columns]"
      ]
     },
     "execution_count": 14,
     "metadata": {},
     "output_type": "execute_result"
    }
   ],
   "source": [
    "prosper = prosper[(prosper.LoanStatus == \"Defaulted\") | (prosper.LoanStatus == \"Completed\")]\\\n",
    "    .drop(columns=(\"LP_CustomerPayments\"))\n",
    "prosper"
   ]
  },
  {
   "cell_type": "code",
   "execution_count": 15,
   "id": "9b7ac8d5",
   "metadata": {
    "scrolled": true
   },
   "outputs": [
    {
     "data": {
      "text/html": [
       "<div>\n",
       "<style scoped>\n",
       "    .dataframe tbody tr th:only-of-type {\n",
       "        vertical-align: middle;\n",
       "    }\n",
       "\n",
       "    .dataframe tbody tr th {\n",
       "        vertical-align: top;\n",
       "    }\n",
       "\n",
       "    .dataframe thead th {\n",
       "        text-align: right;\n",
       "    }\n",
       "</style>\n",
       "<table border=\"1\" class=\"dataframe\">\n",
       "  <thead>\n",
       "    <tr style=\"text-align: right;\">\n",
       "      <th></th>\n",
       "      <th>ListingKey</th>\n",
       "      <th>ListingNumber</th>\n",
       "      <th>ListingCreationDate</th>\n",
       "      <th>CreditGrade</th>\n",
       "      <th>Term</th>\n",
       "      <th>ClosedDate</th>\n",
       "      <th>BorrowerAPR</th>\n",
       "      <th>BorrowerRate</th>\n",
       "      <th>LenderYield</th>\n",
       "      <th>EstimatedEffectiveYield</th>\n",
       "      <th>...</th>\n",
       "      <th>LP_ServiceFees</th>\n",
       "      <th>LP_CollectionFees</th>\n",
       "      <th>LP_GrossPrincipalLoss</th>\n",
       "      <th>LP_NetPrincipalLoss</th>\n",
       "      <th>LP_NonPrincipalRecoverypayments</th>\n",
       "      <th>PercentFunded</th>\n",
       "      <th>Recommendations</th>\n",
       "      <th>InvestmentFromFriendsCount</th>\n",
       "      <th>InvestmentFromFriendsAmount</th>\n",
       "      <th>Investors</th>\n",
       "    </tr>\n",
       "    <tr>\n",
       "      <th>LoanStatus</th>\n",
       "      <th></th>\n",
       "      <th></th>\n",
       "      <th></th>\n",
       "      <th></th>\n",
       "      <th></th>\n",
       "      <th></th>\n",
       "      <th></th>\n",
       "      <th></th>\n",
       "      <th></th>\n",
       "      <th></th>\n",
       "      <th></th>\n",
       "      <th></th>\n",
       "      <th></th>\n",
       "      <th></th>\n",
       "      <th></th>\n",
       "      <th></th>\n",
       "      <th></th>\n",
       "      <th></th>\n",
       "      <th></th>\n",
       "      <th></th>\n",
       "      <th></th>\n",
       "    </tr>\n",
       "  </thead>\n",
       "  <tbody>\n",
       "    <tr>\n",
       "      <th>Completed</th>\n",
       "      <td>38279</td>\n",
       "      <td>38279</td>\n",
       "      <td>38279</td>\n",
       "      <td>18288</td>\n",
       "      <td>38279</td>\n",
       "      <td>38074</td>\n",
       "      <td>38254</td>\n",
       "      <td>38279</td>\n",
       "      <td>38279</td>\n",
       "      <td>19869</td>\n",
       "      <td>...</td>\n",
       "      <td>38279</td>\n",
       "      <td>38279</td>\n",
       "      <td>38279</td>\n",
       "      <td>38279</td>\n",
       "      <td>38279</td>\n",
       "      <td>38279</td>\n",
       "      <td>38279</td>\n",
       "      <td>38279</td>\n",
       "      <td>38279</td>\n",
       "      <td>38279</td>\n",
       "    </tr>\n",
       "    <tr>\n",
       "      <th>Defaulted</th>\n",
       "      <td>17010</td>\n",
       "      <td>17010</td>\n",
       "      <td>17010</td>\n",
       "      <td>10660</td>\n",
       "      <td>17010</td>\n",
       "      <td>17010</td>\n",
       "      <td>17010</td>\n",
       "      <td>17010</td>\n",
       "      <td>17010</td>\n",
       "      <td>6341</td>\n",
       "      <td>...</td>\n",
       "      <td>17010</td>\n",
       "      <td>17010</td>\n",
       "      <td>17010</td>\n",
       "      <td>17010</td>\n",
       "      <td>17010</td>\n",
       "      <td>17010</td>\n",
       "      <td>17010</td>\n",
       "      <td>17010</td>\n",
       "      <td>17010</td>\n",
       "      <td>17010</td>\n",
       "    </tr>\n",
       "  </tbody>\n",
       "</table>\n",
       "<p>2 rows × 79 columns</p>\n",
       "</div>"
      ],
      "text/plain": [
       "            ListingKey  ListingNumber  ListingCreationDate  CreditGrade  \\\n",
       "LoanStatus                                                                \n",
       "Completed        38279          38279                38279        18288   \n",
       "Defaulted        17010          17010                17010        10660   \n",
       "\n",
       "             Term  ClosedDate  BorrowerAPR  BorrowerRate  LenderYield  \\\n",
       "LoanStatus                                                              \n",
       "Completed   38279       38074        38254         38279        38279   \n",
       "Defaulted   17010       17010        17010         17010        17010   \n",
       "\n",
       "            EstimatedEffectiveYield  ...  LP_ServiceFees  LP_CollectionFees  \\\n",
       "LoanStatus                           ...                                      \n",
       "Completed                     19869  ...           38279              38279   \n",
       "Defaulted                      6341  ...           17010              17010   \n",
       "\n",
       "            LP_GrossPrincipalLoss  LP_NetPrincipalLoss  \\\n",
       "LoanStatus                                               \n",
       "Completed                   38279                38279   \n",
       "Defaulted                   17010                17010   \n",
       "\n",
       "            LP_NonPrincipalRecoverypayments  PercentFunded  Recommendations  \\\n",
       "LoanStatus                                                                    \n",
       "Completed                             38279          38279            38279   \n",
       "Defaulted                             17010          17010            17010   \n",
       "\n",
       "            InvestmentFromFriendsCount  InvestmentFromFriendsAmount  Investors  \n",
       "LoanStatus                                                                      \n",
       "Completed                        38279                        38279      38279  \n",
       "Defaulted                        17010                        17010      17010  \n",
       "\n",
       "[2 rows x 79 columns]"
      ]
     },
     "execution_count": 15,
     "metadata": {},
     "output_type": "execute_result"
    }
   ],
   "source": [
    "prosper.groupby(\"LoanStatus\").count()"
   ]
  },
  {
   "cell_type": "markdown",
   "id": "edbd078b",
   "metadata": {},
   "source": [
    "Categorical Feature Selection:\n",
    "\n",
    "We have a lot of categorical features in our prosper dataset, and it would be useful to use as much of them as possible to have a chance at picking up more patterns. The problem that arises from this approach however is that it would take a lot of time, and computational power to run the models since we will eventually need to encode the categorical features to fit them into a vector to feed our machine learning models. Using the onehotencoder for example, a categorical feature that has 10 different classes would add up 10 columns to the vecotr matrix, and similarly with other categorical features, this would make the matrix longer and therefore high computation and slow running.\n",
    "\n",
    "We decided to run Pearson's Chi-Square test because it proves usful and fit to measure independence between categorical variables:"
   ]
  },
  {
   "cell_type": "code",
   "execution_count": 21,
   "id": "ce35035c",
   "metadata": {},
   "outputs": [
    {
     "name": "stdout",
     "output_type": "stream",
     "text": [
      "BorrowerState: 130.128869\n",
      "ListingCategory (numeric): 535.735425\n",
      "Occupation: 472.012391\n",
      "EmploymentStatus: 444.377537\n",
      "IsBorrowerHomeowner: 16.740478\n",
      "CurrentlyInGroup: 321.418340\n",
      "IncomeVerifiable: 2.313215\n",
      "IncomeRange: 16.242507\n"
     ]
    },
    {
     "data": {
      "image/png": "[encoded data removed]",
      "text/plain": [
       "<Figure size 432x288 with 1 Axes>"
      ]
     },
     "metadata": {
      "needs_background": "light"
     },
     "output_type": "display_data"
    }
   ],
   "source": [
    "list_categories = ['BorrowerState', 'ListingCategory (numeric)', 'Occupation','EmploymentStatus','IsBorrowerHomeowner',\\\n",
    "                                     'CurrentlyInGroup','IncomeVerifiable', 'IncomeRange']\n",
    "xx = prosper[list_categories].values\n",
    "yy = prosper[[\"LoanStatus\"]].values\n",
    "\n",
    "# prepare input data\n",
    "def prepare_inputs(X_train, X_test):\n",
    "\toe = OrdinalEncoder()\n",
    "\toe.fit(X_train)\n",
    "\tX_train_enc = oe.transform(X_train)\n",
    "\tX_test_enc = oe.transform(X_test)\n",
    "\treturn X_train_enc, X_test_enc\n",
    " \n",
    "# prepare target\n",
    "def prepare_targets(y_train, y_test):\n",
    "\tle = LabelEncoder()\n",
    "\tle.fit(y_train)\n",
    "\ty_train_enc = le.transform(y_train)\n",
    "\ty_test_enc = le.transform(y_test)\n",
    "\treturn y_train_enc, y_test_enc\n",
    " \n",
    "# feature selection\n",
    "def select_features(X_train, y_train, X_test):\n",
    "\tfs = SelectKBest(score_func=chi2, k='all')\n",
    "\tfs.fit(X_train, y_train)\n",
    "\tX_train_fs = fs.transform(X_train)\n",
    "\tX_test_fs = fs.transform(X_test)\n",
    "\treturn X_train_fs, X_test_fs, fs\n",
    "\n",
    "    # split into train and test sets\n",
    "X_train, X_test, y_train, y_test = train_test_split(xx, yy, test_size=0.33, random_state=1)\n",
    "# prepare input data\n",
    "X_train_enc, X_test_enc = prepare_inputs(X_train, X_test)\n",
    "# prepare output data\n",
    "y_train_enc, y_test_enc = prepare_targets(y_train.ravel(), y_test.ravel())\n",
    "\n",
    "X_train_enc_u = np.nan_to_num(X_train_enc)\n",
    "X_test_enc_u = np.nan_to_num(X_test_enc)\n",
    "np.isnan(X_test_enc_u).any()\n",
    "\n",
    "# feature selection\n",
    "X_train_fs, X_test_fs, fs = select_features(X_train_enc_u, y_train_enc, X_test_enc_u)\n",
    "# what are scores for the features\n",
    "for i in range(len(fs.scores_)):\n",
    "\tprint('%s: %f' % (list_categories[i], fs.scores_[i]))\n",
    "# plot the scores\n",
    "pyplot.bar([i for i in range(len(fs.scores_))], fs.scores_)\n",
    "pyplot.show()"
   ]
  },
  {
   "cell_type": "markdown",
   "id": "dc2a4c7a",
   "metadata": {},
   "source": [
    "We can see that out of the categorical features chosen, \"ListingCategory (Numeric)\", \"Occupation\", \"EmploymentStatus\", and \"CurrentlyInGroup\" are the most useful categorical features based on the high score. \"BorrowerState\" can also be included but it might not be as relevant as the other chosen features."
   ]
  },
  {
   "cell_type": "code",
   "execution_count": null,
   "id": "106e72dd",
   "metadata": {},
   "outputs": [],
   "source": []
  },
  {
   "cell_type": "code",
   "execution_count": null,
   "id": "ca361fbc",
   "metadata": {},
   "outputs": [],
   "source": []
  },
  {
   "cell_type": "code",
   "execution_count": 16,
   "id": "98a9e4e5-ad61-4aaf-8b74-baeb00982491",
   "metadata": {},
   "outputs": [],
   "source": [
    "class DataFrameSelector(BaseEstimator, TransformerMixin):\n",
    "    def __init__(self, attribute_names):\n",
    "        self.attribute_names = attribute_names\n",
    "    def fit(self, X, y=None):\n",
    "        return self\n",
    "    def transform(self, X):\n",
    "        return X[self.attribute_names].values"
   ]
  },
  {
   "cell_type": "code",
   "execution_count": null,
   "id": "9a64c9b7",
   "metadata": {},
   "outputs": [],
   "source": [
    "#numeric_features = list(prosper[['BorrowerAPR',\\\n",
    "                                 'BorrowerRate','LenderYield',\\\n",
    "                                 'CreditScoreRangeLower','CreditScoreRangeUpper','CurrentCreditLines',\\\n",
    "                                 'OpenCreditLines','TotalCreditLinespast7years','OpenRevolvingAccounts',\\\n",
    "                                 'BankcardUtilization', \"TotalTrades\", 'LoanMonthsSinceOrigination',\\\n",
    "                                 'LoanOriginalAmount','MonthlyLoanPayment','LP_CustomerPrincipalPayments',\\\n",
    "                                 'Investors']])"
   ]
  },
  {
   "cell_type": "code",
   "execution_count": 17,
   "id": "13f47725",
   "metadata": {},
   "outputs": [],
   "source": [
    "numeric_features = list(prosper[['BorrowerAPR',\\\n",
    "                                 'BorrowerRate','LenderYield',\\\n",
    "                                 'CreditScoreRangeLower','CreditScoreRangeUpper','CurrentCreditLines',\\\n",
    "                                 'OpenCreditLines','TotalCreditLinespast7years','OpenRevolvingAccounts',\\\n",
    "                                 'BankcardUtilization', \"TotalTrades\", 'LoanMonthsSinceOrigination',\\\n",
    "                                 'LoanOriginalAmount','MonthlyLoanPayment', 'LP_CustomerPrincipalPayments',\\\n",
    "                                 'Investors']])"
   ]
  },
  {
   "cell_type": "code",
   "execution_count": 17,
   "id": "e85708e5",
   "metadata": {},
   "outputs": [],
   "source": [
    "#numeric_features = list(prosper[['BorrowerAPR',\\\n",
    "                                 'BorrowerRate','LenderYield',\\\n",
    "                                 'CreditScoreRangeLower','CreditScoreRangeUpper','CurrentCreditLines',\\\n",
    "                                 'OpenCreditLines','TotalCreditLinespast7years','OpenRevolvingAccounts',\\\n",
    "                                 'BankcardUtilization', \"TotalTrades\",\\\n",
    "                                 'TotalProsperPaymentsBilled','OnTimeProsperPayments',\\\n",
    "                                 'ProsperPrincipalBorrowed',\\\n",
    "                                 'ProsperPrincipalOutstanding','ScorexChangeAtTimeOfListing','LoanMonthsSinceOrigination',\\\n",
    "                                 'LoanOriginalAmount','MonthlyLoanPayment',\\\n",
    "                                 'Investors']])"
   ]
  },
  {
   "cell_type": "code",
   "execution_count": 18,
   "id": "1a274f7b-48b6-4c84-96e2-70a2ae6940b4",
   "metadata": {},
   "outputs": [],
   "source": [
    "categorical_features = list(prosper[['ListingCategory (numeric)', 'Occupation','EmploymentStatus',\\\n",
    "                                     'CurrentlyInGroup']])\n",
    "\n",
    "#categorical_features = list(prosper[['ListingCategory (numeric)', 'Occupation','EmploymentStatus',\\\n",
    " #                                    'CurrentlyInGroup']])\n",
    "\n",
    "#8 Categorical Vars"
   ]
  },
  {
   "cell_type": "markdown",
   "id": "1a753988",
   "metadata": {},
   "source": [
    "#### Here we are building our first pipeline"
   ]
  },
  {
   "cell_type": "code",
   "execution_count": 19,
   "id": "65f075fd-c635-45a4-b482-c645c1717c1d",
   "metadata": {},
   "outputs": [],
   "source": [
    "numeric_pipeline = Pipeline(steps=[\n",
    "    ('selector', DataFrameSelector(numeric_features)),\n",
    "    ('imputer', SimpleImputer(strategy='median')),\n",
    "    ('scaler', StandardScaler())])\n",
    "\n",
    "\n",
    "categorical_pipeline = Pipeline([\n",
    "        ('selector', DataFrameSelector(categorical_features)),\n",
    "        ('cat_encoder', OneHotEncoder(sparse=False,\n",
    "                                      handle_unknown='ignore')),\n",
    "    ])\n",
    "\n",
    "\n",
    "\n",
    "full_pipeline = FeatureUnion(transformer_list=[\n",
    "        (\"num_pipeline\", numeric_pipeline),\n",
    "        (\"cat_pipeline\", categorical_pipeline),\n",
    "    ])\n",
    "\n",
    "from sklearn.compose import ColumnTransformer\n",
    "\n",
    "full_pipeline2 = ColumnTransformer([\n",
    "        (\"num_pipeline\", numeric_pipeline, numeric_features ),\n",
    "        (\"cat_pipeline\", categorical_pipeline, categorical_features ),\n",
    "    ])"
   ]
  },
  {
   "cell_type": "code",
   "execution_count": 20,
   "id": "cdf48a82-4f7f-4e42-ae74-d8a96bf24bc6",
   "metadata": {},
   "outputs": [],
   "source": [
    "train_set, test_set = train_test_split(prosper, test_size=0.33, random_state=42)"
   ]
  },
  {
   "cell_type": "code",
   "execution_count": 21,
   "id": "31a82e34-b3af-4353-ac0f-443135dc5802",
   "metadata": {
    "tags": []
   },
   "outputs": [
    {
     "data": {
      "text/plain": [
       "114"
      ]
     },
     "execution_count": 21,
     "metadata": {},
     "output_type": "execute_result"
    }
   ],
   "source": [
    "prosper_prepared = full_pipeline2.fit_transform(train_set)\n",
    "len(prosper_prepared[1])"
   ]
  },
  {
   "cell_type": "code",
   "execution_count": 22,
   "id": "92c9bc7a-60a1-4bab-92cc-d38121da6821",
   "metadata": {},
   "outputs": [],
   "source": [
    "X_train = prosper_prepared\n",
    "\n",
    "y_train = train_set[[\"LoanStatus\"]].values.ravel()\n",
    "y_train = (y_train == \"Defaulted\").astype(int)\n"
   ]
  },
  {
   "cell_type": "code",
   "execution_count": 23,
   "id": "6623adc2",
   "metadata": {},
   "outputs": [
    {
     "data": {
      "text/plain": [
       "array([1, 0, 0, ..., 0, 0, 0])"
      ]
     },
     "execution_count": 23,
     "metadata": {},
     "output_type": "execute_result"
    }
   ],
   "source": [
    "y_train"
   ]
  },
  {
   "cell_type": "code",
   "execution_count": 24,
   "id": "b0c7bb27",
   "metadata": {},
   "outputs": [],
   "source": [
    "test_prepared = full_pipeline2.fit_transform(test_set)\n",
    "\n",
    "X_test = test_prepared\n",
    "\n",
    "y_test = test_set[[\"LoanStatus\"]].values.ravel()\n",
    "y_test = (y_test == \"Defaulted\").astype(int)\n",
    "\n"
   ]
  },
  {
   "cell_type": "code",
   "execution_count": 25,
   "id": "47f21a3f-a908-46b0-8513-ea20b4b2775a",
   "metadata": {},
   "outputs": [
    {
     "data": {
      "text/plain": [
       "114"
      ]
     },
     "execution_count": 25,
     "metadata": {},
     "output_type": "execute_result"
    }
   ],
   "source": [
    "len(prosper_prepared[1])"
   ]
  },
  {
   "cell_type": "code",
   "execution_count": 26,
   "id": "4b79fa34-f0b6-4cae-9a37-027eb5234178",
   "metadata": {},
   "outputs": [],
   "source": [
    "#X_train = prosper_prepared\n",
    "\n",
    "#y_train = train_set[[\"LoanStatus\"]].values.ravel()\n",
    "#y_train = (y_train == \"Defaulted\").astype(int)\n",
    "\n",
    "clf = LogisticRegressionCV(cv=5, random_state=42, max_iter=1000).fit(X_train, y_train)"
   ]
  },
  {
   "cell_type": "code",
   "execution_count": 29,
   "id": "f95a4c65-6377-44b4-b018-0bdac8c0750b",
   "metadata": {},
   "outputs": [
    {
     "data": {
      "text/plain": [
       "0.7266960019436871"
      ]
     },
     "execution_count": 29,
     "metadata": {},
     "output_type": "execute_result"
    }
   ],
   "source": [
    "clf.score(X_train, y_train)"
   ]
  },
  {
   "cell_type": "code",
   "execution_count": 30,
   "id": "40dfbdcb-88fc-4872-9c0a-e9ae49250253",
   "metadata": {},
   "outputs": [
    {
     "data": {
      "text/plain": [
       "114"
      ]
     },
     "execution_count": 30,
     "metadata": {},
     "output_type": "execute_result"
    }
   ],
   "source": [
    "len(X_train[1])"
   ]
  },
  {
   "cell_type": "code",
   "execution_count": 31,
   "id": "f218a44f-9c2a-4e0c-b139-8ac91bf2077d",
   "metadata": {},
   "outputs": [
    {
     "name": "stdout",
     "output_type": "stream",
     "text": [
      "              precision    recall  f1-score   support\n",
      "\n",
      "           0       0.75      0.90      0.82     25627\n",
      "           1       0.60      0.33      0.42     11416\n",
      "\n",
      "    accuracy                           0.73     37043\n",
      "   macro avg       0.68      0.62      0.62     37043\n",
      "weighted avg       0.71      0.73      0.70     37043\n",
      "\n"
     ]
    }
   ],
   "source": [
    "from sklearn.metrics import classification_report\n",
    "\n",
    "y_pred = clf.predict(X_train)\n",
    "print(classification_report(y_train, y_pred, zero_division=0))"
   ]
  },
  {
   "cell_type": "code",
   "execution_count": 32,
   "id": "f509d6c1-9e34-452e-9529-7ff4143aa174",
   "metadata": {},
   "outputs": [
    {
     "data": {
      "image/png": "[encoded data removed]",
      "text/plain": [
       "<Figure size 432x288 with 2 Axes>"
      ]
     },
     "metadata": {
      "needs_background": "light"
     },
     "output_type": "display_data"
    }
   ],
   "source": [
    "from sklearn.metrics import confusion_matrix, ConfusionMatrixDisplay\n",
    "import matplotlib.pyplot as plt\n",
    "\n",
    "cm = confusion_matrix(y_train, y_pred, labels=clf.classes_)\n",
    "disp = ConfusionMatrixDisplay(confusion_matrix=cm, display_labels=clf.classes_)\n",
    "disp.plot()\n",
    "plt.show()"
   ]
  },
  {
   "cell_type": "markdown",
   "id": "5d303181",
   "metadata": {},
   "source": [
    "###### Results\n",
    "Our model gives us some predictions but it can improve a lot. \n",
    "We would like to see fewer false negatives since those mean that the customer defaults but we predicted he/she wouldn't."
   ]
  },
  {
   "cell_type": "code",
   "execution_count": 33,
   "id": "f30b0d3b-fbf4-4d88-a115-fd8cb3bc5d31",
   "metadata": {},
   "outputs": [],
   "source": [
    "feature_names = np.array(numeric_features).view() "
   ]
  },
  {
   "cell_type": "code",
   "execution_count": 34,
   "id": "e8fb4977-5f78-4de2-b9d8-8f5a0a135ea0",
   "metadata": {},
   "outputs": [],
   "source": [
    "def get_feature_names():  \n",
    "        \n",
    "        column_transformer = full_pipeline2 \n",
    "        \n",
    "        new_feature_names = np.insert(feature_names,0,'')\n",
    "\n",
    "        for i, transformer_item in enumerate(column_transformer.transformers_):\n",
    "            \n",
    "            transformer_name, transformer, orig_feature_names = transformer_item\n",
    "            orig_feature_names = list(orig_feature_names)\n",
    "                \n",
    "            if isinstance(transformer, Pipeline):\n",
    "                # if pipeline, get the last transformer in the Pipeline\n",
    "                transformer = transformer.steps[-1][1]\n",
    "\n",
    "            if hasattr(transformer, 'get_feature_names'):\n",
    "\n",
    "                if 'input_features' in transformer.get_feature_names.__code__.co_varnames:\n",
    "                    names = list(transformer.get_feature_names(orig_feature_names))\n",
    "                else:\n",
    "                    names = list(transformer.get_feature_names())\n",
    "                new_feature_names= np.append(new_feature_names,names)\n",
    "                \n",
    "        return new_feature_names"
   ]
  },
  {
   "cell_type": "code",
   "execution_count": 35,
   "id": "26c87e3f-14c2-4883-acd7-8ec2b7e5f7ce",
   "metadata": {},
   "outputs": [
    {
     "name": "stderr",
     "output_type": "stream",
     "text": [
      "/Users/bilalelahrach/miniforge3/lib/python3.9/site-packages/sklearn/utils/deprecation.py:87: FutureWarning: Function get_feature_names is deprecated; get_feature_names is deprecated in 1.0 and will be removed in 1.2. Please use get_feature_names_out instead.\n",
      "  warnings.warn(msg, category=FutureWarning)\n"
     ]
    },
    {
     "data": {
      "text/plain": [
       "116"
      ]
     },
     "execution_count": 35,
     "metadata": {},
     "output_type": "execute_result"
    }
   ],
   "source": [
    "column_name = get_feature_names()\n",
    "len(column_name)"
   ]
  },
  {
   "cell_type": "markdown",
   "id": "9edb6817",
   "metadata": {},
   "source": [
    "#### Here we want to find the best hyperparameter for our model"
   ]
  },
  {
   "cell_type": "code",
   "execution_count": 36,
   "id": "dc56dd44-e45f-40b1-83d7-68dee36a7e71",
   "metadata": {},
   "outputs": [
    {
     "name": "stdout",
     "output_type": "stream",
     "text": [
      "Best alpha value is:  {'C': 1}\n"
     ]
    }
   ],
   "source": [
    "log_reg = LogisticRegression(penalty='l1',solver=\"liblinear\", random_state=42)\n",
    "\n",
    "param_grid = [\n",
    "    {'C': [0.001, 0.01, 0.1, 1]},\n",
    "  ]\n",
    "\n",
    "grid_search = GridSearchCV(log_reg, param_grid, cv=5)\n",
    "grid_search.fit(X_train, y_train)\n",
    "print(\"Best alpha value is: \", grid_search.best_params_)"
   ]
  },
  {
   "cell_type": "code",
   "execution_count": 37,
   "id": "702498d5-8d63-4b90-b61b-47019990a2b2",
   "metadata": {},
   "outputs": [
    {
     "name": "stdout",
     "output_type": "stream",
     "text": [
      "Classification report: \n",
      " \n",
      "                precision    recall  f1-score   support\n",
      "\n",
      "           0       0.75      0.91      0.82     25627\n",
      "           1       0.61      0.32      0.42     11416\n",
      "\n",
      "    accuracy                           0.73     37043\n",
      "   macro avg       0.68      0.62      0.62     37043\n",
      "weighted avg       0.71      0.73      0.70     37043\n",
      "\n"
     ]
    },
    {
     "data": {
      "image/png": "[encoded data removed]",
      "text/plain": [
       "<Figure size 432x288 with 2 Axes>"
      ]
     },
     "metadata": {
      "needs_background": "light"
     },
     "output_type": "display_data"
    }
   ],
   "source": [
    "lg_reg = grid_search.best_estimator_\n",
    "\n",
    "y_pred = lg_reg.predict(X_train)\n",
    "\n",
    "\n",
    "cm = confusion_matrix(y_train, y_pred, labels=lg_reg.classes_)\n",
    "disp = ConfusionMatrixDisplay(confusion_matrix=cm, display_labels=lg_reg.classes_)\n",
    "disp.plot()\n",
    "\n",
    "print(\"Classification report: \\n \\n \", classification_report(y_train, y_pred, zero_division=0))\n",
    "plt.show()"
   ]
  },
  {
   "cell_type": "code",
   "execution_count": 38,
   "id": "53a8f278-dba6-4127-b5e0-4c422b7c6b33",
   "metadata": {},
   "outputs": [
    {
     "data": {
      "text/plain": [
       "114"
      ]
     },
     "execution_count": 38,
     "metadata": {},
     "output_type": "execute_result"
    }
   ],
   "source": [
    "len(X_train[1])"
   ]
  },
  {
   "cell_type": "markdown",
   "id": "02c1b902",
   "metadata": {
    "tags": []
   },
   "source": [
    "###### Results:\n",
    "The model is now predicting 1789 true values but 2701 were predicted wrongly. \n"
   ]
  },
  {
   "cell_type": "code",
   "execution_count": 39,
   "id": "989b4e44-a1e3-4d3a-b8ca-c744e2ae3fcd",
   "metadata": {},
   "outputs": [],
   "source": [
    "## The code above will take a lot of time to be run"
   ]
  },
  {
   "cell_type": "code",
   "execution_count": 40,
   "id": "be8180c5-848e-4a72-b22d-314c96556427",
   "metadata": {},
   "outputs": [
    {
     "data": {
      "text/plain": [
       "15"
      ]
     },
     "execution_count": 40,
     "metadata": {},
     "output_type": "execute_result"
    }
   ],
   "source": [
    "len(column_name)\n",
    "len(numeric_features)"
   ]
  },
  {
   "cell_type": "code",
   "execution_count": 41,
   "id": "1f080495-aaff-4831-993b-b59b6b8d2636",
   "metadata": {},
   "outputs": [
    {
     "data": {
      "text/plain": [
       "114"
      ]
     },
     "execution_count": 41,
     "metadata": {},
     "output_type": "execute_result"
    }
   ],
   "source": [
    "len(X_train[1])"
   ]
  },
  {
   "cell_type": "code",
   "execution_count": 42,
   "id": "06b7bd31-467d-4fb3-9710-ceee4be412c8",
   "metadata": {},
   "outputs": [
    {
     "name": "stdout",
     "output_type": "stream",
     "text": [
      "Feature: BorrowerAPR, Score: -1.72781\n",
      "Feature: BorrowerRate, Score: 3.08065\n",
      "Feature: LenderYield, Score: -0.83855\n",
      "Feature: CreditScoreRangeLower, Score: -0.27005\n",
      "Feature: CreditScoreRangeUpper, Score: -0.11146\n",
      "Feature: CurrentCreditLines, Score: 0.00207\n",
      "Feature: OpenCreditLines, Score: 0.13654\n",
      "Feature: TotalCreditLinespast7years, Score: 0.17567\n",
      "Feature: OpenRevolvingAccounts, Score: -0.12508\n",
      "Feature: BankcardUtilization, Score: -0.07925\n",
      "Feature: TotalTrades, Score: -0.17771\n",
      "Feature: LoanMonthsSinceOrigination, Score: 0.30734\n",
      "Feature: LoanOriginalAmount, Score: 0.11986\n",
      "Feature: MonthlyLoanPayment, Score: 0.21079\n",
      "Feature: Investors, Score: -0.02041\n",
      "Feature: x0_0, Score: 0.00000\n",
      "Feature: x0_1, Score: -0.10541\n",
      "Feature: x0_2, Score: 0.04124\n",
      "Feature: x0_3, Score: 0.18588\n",
      "Feature: x0_4, Score: 0.05973\n",
      "Feature: x0_5, Score: -0.23360\n",
      "Feature: x0_6, Score: -0.26729\n",
      "Feature: x0_7, Score: -0.13676\n",
      "Feature: x0_8, Score: 0.41384\n",
      "Feature: x0_9, Score: -0.12161\n",
      "Feature: x0_10, Score: -0.31519\n",
      "Feature: x0_11, Score: -1.29443\n",
      "Feature: x0_12, Score: 1.23423\n",
      "Feature: x0_13, Score: 0.58158\n",
      "Feature: x0_14, Score: -0.09745\n",
      "Feature: x0_15, Score: 0.49126\n",
      "Feature: x0_16, Score: -0.96975\n",
      "Feature: x0_17, Score: -0.07630\n",
      "Feature: x0_18, Score: 0.11154\n",
      "Feature: x0_19, Score: 0.34691\n",
      "Feature: x0_20, Score: -0.07744\n",
      "Feature: x1_Accountant/CPA, Score: -0.46223\n",
      "Feature: x1_Administrative Assistant, Score: 0.11030\n",
      "Feature: x1_Analyst, Score: -0.68204\n",
      "Feature: x1_Architect, Score: -0.56274\n",
      "Feature: x1_Attorney, Score: -1.31638\n",
      "Feature: x1_Biologist, Score: -0.20588\n",
      "Feature: x1_Bus Driver, Score: 0.13401\n",
      "Feature: x1_Car Dealer, Score: 0.00000\n",
      "Feature: x1_Chemist, Score: 0.05851\n",
      "Feature: x1_Civil Service, Score: -0.21932\n",
      "Feature: x1_Clergy, Score: -0.66718\n",
      "Feature: x1_Clerical, Score: 0.18897\n",
      "Feature: x1_Computer Programmer, Score: -0.75026\n",
      "Feature: x1_Construction, Score: 0.36737\n",
      "Feature: x1_Dentist, Score: -0.99879\n",
      "Feature: x1_Doctor, Score: -0.82899\n",
      "Feature: x1_Engineer - Chemical, Score: -0.48956\n",
      "Feature: x1_Engineer - Electrical, Score: -0.27137\n",
      "Feature: x1_Engineer - Mechanical, Score: -0.40726\n",
      "Feature: x1_Executive, Score: -0.18120\n",
      "Feature: x1_Fireman, Score: -0.32036\n",
      "Feature: x1_Flight Attendant, Score: 0.28533\n",
      "Feature: x1_Food Service, Score: 0.57515\n",
      "Feature: x1_Food Service Management, Score: 0.14874\n",
      "Feature: x1_Homemaker, Score: 0.21808\n",
      "Feature: x1_Investor, Score: 0.00000\n",
      "Feature: x1_Judge, Score: 0.56464\n",
      "Feature: x1_Laborer, Score: 0.00000\n",
      "Feature: x1_Landscaping, Score: 0.18275\n",
      "Feature: x1_Medical Technician, Score: -0.48546\n",
      "Feature: x1_Military Enlisted, Score: -1.24569\n",
      "Feature: x1_Military Officer, Score: 0.48282\n",
      "Feature: x1_Nurse (LPN), Score: -0.15014\n",
      "Feature: x1_Nurse (RN), Score: 0.74501\n",
      "Feature: x1_Nurse's Aide, Score: 0.00319\n",
      "Feature: x1_Other, Score: -0.08184\n",
      "Feature: x1_Pharmacist, Score: -1.57462\n",
      "Feature: x1_Pilot - Private/Commercial, Score: -0.18268\n",
      "Feature: x1_Police Officer/Correction Officer, Score: 0.26496\n",
      "Feature: x1_Postal Service, Score: 0.04727\n",
      "Feature: x1_Principal, Score: -0.29797\n",
      "Feature: x1_Professional, Score: -0.33785\n",
      "Feature: x1_Professor, Score: -1.31032\n",
      "Feature: x1_Psychologist, Score: 0.54733\n",
      "Feature: x1_Realtor, Score: -0.22202\n",
      "Feature: x1_Religious, Score: 0.00929\n",
      "Feature: x1_Retail Management, Score: 0.10316\n",
      "Feature: x1_Sales - Commission, Score: 0.15970\n",
      "Feature: x1_Sales - Retail, Score: -1.29803\n",
      "Feature: x1_Scientist, Score: 0.24306\n",
      "Feature: x1_Skilled Labor, Score: -0.04198\n",
      "Feature: x1_Social Worker, Score: 0.96018\n",
      "Feature: x1_Student - College Freshman, Score: -1.30028\n",
      "Feature: x1_Student - College Graduate Student, Score: 0.13244\n",
      "Feature: x1_Student - College Junior, Score: -0.02017\n",
      "Feature: x1_Student - College Senior, Score: 0.53710\n",
      "Feature: x1_Student - College Sophomore, Score: 0.00365\n",
      "Feature: x1_Student - Community College, Score: 0.00000\n",
      "Feature: x1_Student - Technical School, Score: 0.00607\n",
      "Feature: x1_Teacher, Score: 0.10365\n",
      "Feature: x1_Teacher's Aide, Score: 0.00000\n",
      "Feature: x1_Tradesman - Carpenter, Score: -0.40914\n",
      "Feature: x1_Tradesman - Electrician, Score: 0.17382\n",
      "Feature: x1_Tradesman - Mechanic, Score: 0.39797\n",
      "Feature: x1_Tradesman - Plumber, Score: 0.19162\n",
      "Feature: x1_Truck Driver, Score: 0.20715\n",
      "Feature: x1_Waiter/Waitress, Score: -0.87230\n",
      "Feature: x1_nan, Score: 0.00000\n",
      "Feature: x2_Employed, Score: -0.37677\n",
      "Feature: x2_Full-time, Score: -0.57752\n",
      "Feature: x2_Not available, Score: 0.25407\n",
      "Feature: x2_Not employed, Score: 0.63510\n",
      "Feature: x2_Other, Score: -0.79111\n",
      "Feature: x2_Part-time, Score: -0.00912\n",
      "Feature: x2_Retired, Score: 0.05255\n",
      "Feature: x2_Self-employed, Score: 0.00000\n",
      "Feature: x2_nan, Score: -0.00674\n",
      "Feature: x3_False, Score: 0.00000\n"
     ]
    },
    {
     "data": {
      "image/png": "[encoded data removed]",
      "text/plain": [
       "<Figure size 432x288 with 1 Axes>"
      ]
     },
     "metadata": {
      "needs_background": "light"
     },
     "output_type": "display_data"
    }
   ],
   "source": [
    "from matplotlib import pyplot\n",
    "importance = lg_reg.coef_[0]\n",
    "# summarize feature importance\n",
    "for i,v in enumerate(importance):\n",
    "    print('Feature: %s, Score: %.5f' % (column_name[i+1],v))\n",
    "        \n",
    "# plot feature importance\n",
    "pyplot.bar([x for x in range(len(importance))], importance)\n",
    "pyplot.show()"
   ]
  },
  {
   "cell_type": "markdown",
   "id": "ec824e4c",
   "metadata": {},
   "source": [
    "#### Now we want to see which features are important and weed out those that aren't"
   ]
  },
  {
   "cell_type": "code",
   "execution_count": 43,
   "id": "8556a960-59f3-44b4-ad00-92c273ee153d",
   "metadata": {},
   "outputs": [
    {
     "data": {
      "text/plain": [
       "9"
      ]
     },
     "execution_count": 43,
     "metadata": {},
     "output_type": "execute_result"
    }
   ],
   "source": [
    "features = pd.DataFrame({'features': column_name[2:] , 'importance': list(importance)}, columns=['features', 'importance'])\n",
    "## Negative importance coefficient also should be taken in consideration since it is somehow correlated negatively with the possibility of a user to apply for term deposit so :\n",
    "features[\"importance\"]= np.abs(features[\"importance\"])\n",
    "features = features.sort_values(by=['importance'], ascending=False)\n",
    "features\n",
    "Unimportante_features = features[features[\"importance\"]==0][\"features\"].array\n",
    "len(Unimportante_features)\n"
   ]
  },
  {
   "cell_type": "code",
   "execution_count": 44,
   "id": "b5bf1a72-19f3-47da-8db0-bd58eb165fb8",
   "metadata": {},
   "outputs": [],
   "source": [
    "for j in Unimportante_features:\n",
    "    for i in numeric_features:\n",
    "        if i == j:\n",
    "            numeric_features.remove(i)"
   ]
  },
  {
   "cell_type": "code",
   "execution_count": 45,
   "id": "69da2744-8f22-4c77-85de-7f7dce0fbb2e",
   "metadata": {},
   "outputs": [],
   "source": [
    "for j in Unimportante_features:\n",
    "    for i in categorical_features:\n",
    "        if i == j:\n",
    "            categorical_features.remove(i)"
   ]
  },
  {
   "cell_type": "code",
   "execution_count": 46,
   "id": "e5d9670a-5b92-41ad-9cde-78b15de0ae3a",
   "metadata": {},
   "outputs": [
    {
     "data": {
      "text/plain": [
       "15"
      ]
     },
     "execution_count": 46,
     "metadata": {},
     "output_type": "execute_result"
    }
   ],
   "source": [
    "len(numeric_features)"
   ]
  },
  {
   "cell_type": "code",
   "execution_count": 47,
   "id": "dfbd8e6b-2498-424d-a4ba-3991a74348ef",
   "metadata": {},
   "outputs": [
    {
     "data": {
      "text/plain": [
       "4"
      ]
     },
     "execution_count": 47,
     "metadata": {},
     "output_type": "execute_result"
    }
   ],
   "source": [
    "len(categorical_features)"
   ]
  },
  {
   "cell_type": "code",
   "execution_count": 48,
   "id": "23abaf6b-4c68-49fe-8fdd-883b4ff3541c",
   "metadata": {},
   "outputs": [
    {
     "data": {
      "text/plain": [
       "114"
      ]
     },
     "execution_count": 48,
     "metadata": {},
     "output_type": "execute_result"
    }
   ],
   "source": [
    "len(X_train[1])"
   ]
  },
  {
   "cell_type": "markdown",
   "id": "40013b35",
   "metadata": {},
   "source": [
    "#### Now we create the pipeline and only use the important features"
   ]
  },
  {
   "cell_type": "code",
   "execution_count": 49,
   "id": "fad369da-56b2-4887-bb46-3187f52e73f1",
   "metadata": {},
   "outputs": [],
   "source": [
    "numeric_pipeline = Pipeline(steps=[\n",
    "    ('selector', DataFrameSelector(numeric_features)),\n",
    "    ('imputer', SimpleImputer(strategy='median')),\n",
    "    ('scaler', StandardScaler())])\n",
    "\n",
    "\n",
    "categorical_pipeline = Pipeline([\n",
    "        ('selector', DataFrameSelector(categorical_features)),\n",
    "        ('cat_encoder', OneHotEncoder(sparse=False,\n",
    "                                      handle_unknown='ignore')),\n",
    "    ])\n",
    "\n",
    "\n",
    "\n",
    "full_pipeline = FeatureUnion(transformer_list=[\n",
    "        (\"num_pipeline\", numeric_pipeline),\n",
    "        (\"cat_pipeline\", categorical_pipeline),\n",
    "    ])\n",
    "\n",
    "from sklearn.compose import ColumnTransformer\n",
    "\n",
    "full_pipeline2 = ColumnTransformer([\n",
    "        (\"num_pipeline\", numeric_pipeline, numeric_features ),\n",
    "        (\"cat_pipeline\", categorical_pipeline, categorical_features ),\n",
    "    ])"
   ]
  },
  {
   "cell_type": "code",
   "execution_count": 50,
   "id": "f3080f32-e49b-40b5-8091-ff61aa8e644a",
   "metadata": {},
   "outputs": [],
   "source": [
    "prosper_prepared = full_pipeline2.fit_transform(train_set)\n",
    "X_train = prosper_prepared"
   ]
  },
  {
   "cell_type": "code",
   "execution_count": 51,
   "id": "33a752ab-9551-4161-b9a9-fcda196c0218",
   "metadata": {},
   "outputs": [
    {
     "data": {
      "text/plain": [
       "114"
      ]
     },
     "execution_count": 51,
     "metadata": {},
     "output_type": "execute_result"
    }
   ],
   "source": [
    "len(X_train[1])"
   ]
  },
  {
   "cell_type": "code",
   "execution_count": 52,
   "id": "00ba105e-d05e-401d-8de6-fa1e79a32364",
   "metadata": {},
   "outputs": [
    {
     "data": {
      "text/plain": [
       "0.7266960019436871"
      ]
     },
     "execution_count": 52,
     "metadata": {},
     "output_type": "execute_result"
    }
   ],
   "source": [
    "y_train = train_set[[\"LoanStatus\"]].values.ravel()\n",
    "y_train = (y_train == \"Defaulted\").astype(int)\n",
    "\n",
    "\n",
    "clf = LogisticRegressionCV(cv=5, random_state=42, max_iter=5000).fit(X_train, y_train)\n",
    "clf.score(X_train, y_train)"
   ]
  },
  {
   "cell_type": "code",
   "execution_count": 53,
   "id": "e24b2256-55cd-40be-8eb6-44e5f47e7332",
   "metadata": {},
   "outputs": [
    {
     "name": "stdout",
     "output_type": "stream",
     "text": [
      "              precision    recall  f1-score   support\n",
      "\n",
      "           0       0.75      0.90      0.82     25627\n",
      "           1       0.60      0.33      0.42     11416\n",
      "\n",
      "    accuracy                           0.73     37043\n",
      "   macro avg       0.68      0.62      0.62     37043\n",
      "weighted avg       0.71      0.73      0.70     37043\n",
      "\n"
     ]
    }
   ],
   "source": [
    "from sklearn.metrics import classification_report\n",
    "\n",
    "y_pred = clf.predict(X_train)\n",
    "print(classification_report(y_train, y_pred, zero_division=0))"
   ]
  },
  {
   "cell_type": "code",
   "execution_count": 56,
   "id": "b13e918b-181b-4c42-88ba-7686a914e03e",
   "metadata": {},
   "outputs": [
    {
     "data": {
      "text/plain": [
       "114"
      ]
     },
     "execution_count": 56,
     "metadata": {},
     "output_type": "execute_result"
    }
   ],
   "source": [
    "len(X_train[1])"
   ]
  },
  {
   "cell_type": "code",
   "execution_count": 57,
   "id": "0e5c6c7e-e63d-4b18-b403-cb41d05d9ba9",
   "metadata": {},
   "outputs": [
    {
     "data": {
      "image/png": "[encoded data removed]",
      "text/plain": [
       "<Figure size 432x288 with 2 Axes>"
      ]
     },
     "metadata": {
      "needs_background": "light"
     },
     "output_type": "display_data"
    }
   ],
   "source": [
    "from sklearn.metrics import confusion_matrix, ConfusionMatrixDisplay\n",
    "import matplotlib.pyplot as plt\n",
    "\n",
    "cm = confusion_matrix(y_train, y_pred, labels=clf.classes_)\n",
    "disp = ConfusionMatrixDisplay(confusion_matrix=cm, display_labels=clf.classes_)\n",
    "disp.plot()\n",
    "plt.show()"
   ]
  },
  {
   "cell_type": "markdown",
   "id": "1bdfadda",
   "metadata": {},
   "source": [
    "###### Results:\n",
    "Bearly any change"
   ]
  },
  {
   "cell_type": "code",
   "execution_count": 58,
   "id": "6bedb896-67fc-4665-bf11-b8b796256df0",
   "metadata": {},
   "outputs": [
    {
     "name": "stderr",
     "output_type": "stream",
     "text": [
      "/Users/bilalelahrach/miniforge3/lib/python3.9/site-packages/sklearn/utils/deprecation.py:87: FutureWarning: Function get_feature_names is deprecated; get_feature_names is deprecated in 1.0 and will be removed in 1.2. Please use get_feature_names_out instead.\n",
      "  warnings.warn(msg, category=FutureWarning)\n"
     ]
    }
   ],
   "source": [
    "column_name = get_feature_names()"
   ]
  },
  {
   "cell_type": "markdown",
   "id": "eb3fb5f2",
   "metadata": {},
   "source": [
    "#### Now we want to find the best hyperparameter"
   ]
  },
  {
   "cell_type": "code",
   "execution_count": 59,
   "id": "8a53afb2-1e77-419c-82a5-a55f59f6d8ef",
   "metadata": {},
   "outputs": [
    {
     "name": "stdout",
     "output_type": "stream",
     "text": [
      "Best alpha value is:  {'C': 1}\n"
     ]
    }
   ],
   "source": [
    "log_reg = LogisticRegression(penalty='l1',solver=\"liblinear\", random_state=42, max_iter= 5000)\n",
    "\n",
    "param_grid = [\n",
    "    {'C': [0.001, 0.01, 0.1, 1]},\n",
    "  ]\n",
    "\n",
    "grid_search = GridSearchCV(log_reg, param_grid, cv=5)\n",
    "grid_search.fit(X_train, y_train)\n",
    "print(\"Best alpha value is: \", grid_search.best_params_)"
   ]
  },
  {
   "cell_type": "code",
   "execution_count": 60,
   "id": "6038ef99-fa8b-4dc0-bb6a-a7a489bc6b1d",
   "metadata": {},
   "outputs": [
    {
     "data": {
      "text/plain": [
       "114"
      ]
     },
     "execution_count": 60,
     "metadata": {},
     "output_type": "execute_result"
    }
   ],
   "source": [
    "len(X_train[1])"
   ]
  },
  {
   "cell_type": "code",
   "execution_count": 61,
   "id": "7f4d228a-742d-43c9-99ba-228376f1a01c",
   "metadata": {},
   "outputs": [
    {
     "name": "stdout",
     "output_type": "stream",
     "text": [
      "Classification report: \n",
      " \n",
      "                precision    recall  f1-score   support\n",
      "\n",
      "           0       0.91      0.75      0.82     30925\n",
      "           1       0.32      0.61      0.42      6118\n",
      "\n",
      "    accuracy                           0.73     37043\n",
      "   macro avg       0.62      0.68      0.62     37043\n",
      "weighted avg       0.81      0.73      0.76     37043\n",
      "\n"
     ]
    },
    {
     "data": {
      "image/png": "[encoded data removed]",
      "text/plain": [
       "<Figure size 432x288 with 2 Axes>"
      ]
     },
     "metadata": {
      "needs_background": "light"
     },
     "output_type": "display_data"
    }
   ],
   "source": [
    "lg_reg = grid_search.best_estimator_\n",
    "\n",
    "y_pred = lg_reg.predict(X_train)\n",
    "\n",
    "\n",
    "cm = confusion_matrix(y_train, y_pred, labels=lg_reg.classes_)\n",
    "disp = ConfusionMatrixDisplay(confusion_matrix=cm, display_labels=lg_reg.classes_)\n",
    "disp.plot()\n",
    "\n",
    "print(\"Classification report: \\n \\n \", classification_report(y_pred, y_train))\n",
    "plt.show()"
   ]
  },
  {
   "cell_type": "markdown",
   "id": "fa08c111",
   "metadata": {},
   "source": [
    "###### Results:\n",
    "The model result still did not change a lot \n"
   ]
  },
  {
   "cell_type": "code",
   "execution_count": 64,
   "id": "4679fcaf-28e0-43e9-8f5a-d837dd959085",
   "metadata": {},
   "outputs": [
    {
     "name": "stdout",
     "output_type": "stream",
     "text": [
      "Feature: BorrowerAPR, Score: -1.72781\n",
      "Feature: BorrowerRate, Score: 3.08065\n",
      "Feature: LenderYield, Score: -0.83855\n",
      "Feature: CreditScoreRangeLower, Score: -0.27005\n",
      "Feature: CreditScoreRangeUpper, Score: -0.11146\n",
      "Feature: CurrentCreditLines, Score: 0.00207\n",
      "Feature: OpenCreditLines, Score: 0.13654\n",
      "Feature: TotalCreditLinespast7years, Score: 0.17567\n",
      "Feature: OpenRevolvingAccounts, Score: -0.12508\n",
      "Feature: BankcardUtilization, Score: -0.07925\n",
      "Feature: TotalTrades, Score: -0.17771\n",
      "Feature: LoanMonthsSinceOrigination, Score: 0.30734\n",
      "Feature: LoanOriginalAmount, Score: 0.11986\n",
      "Feature: MonthlyLoanPayment, Score: 0.21079\n",
      "Feature: Investors, Score: -0.02041\n",
      "Feature: x0_0, Score: 0.00000\n",
      "Feature: x0_1, Score: -0.10541\n",
      "Feature: x0_2, Score: 0.04124\n",
      "Feature: x0_3, Score: 0.18588\n",
      "Feature: x0_4, Score: 0.05973\n",
      "Feature: x0_5, Score: -0.23360\n",
      "Feature: x0_6, Score: -0.26729\n",
      "Feature: x0_7, Score: -0.13676\n",
      "Feature: x0_8, Score: 0.41384\n",
      "Feature: x0_9, Score: -0.12161\n",
      "Feature: x0_10, Score: -0.31519\n",
      "Feature: x0_11, Score: -1.29443\n",
      "Feature: x0_12, Score: 1.23423\n",
      "Feature: x0_13, Score: 0.58158\n",
      "Feature: x0_14, Score: -0.09745\n",
      "Feature: x0_15, Score: 0.49126\n",
      "Feature: x0_16, Score: -0.96975\n",
      "Feature: x0_17, Score: -0.07630\n",
      "Feature: x0_18, Score: 0.11154\n",
      "Feature: x0_19, Score: 0.34691\n",
      "Feature: x0_20, Score: -0.07744\n",
      "Feature: x1_Accountant/CPA, Score: -0.46223\n",
      "Feature: x1_Administrative Assistant, Score: 0.11030\n",
      "Feature: x1_Analyst, Score: -0.68204\n",
      "Feature: x1_Architect, Score: -0.56274\n",
      "Feature: x1_Attorney, Score: -1.31638\n",
      "Feature: x1_Biologist, Score: -0.20588\n",
      "Feature: x1_Bus Driver, Score: 0.13401\n",
      "Feature: x1_Car Dealer, Score: 0.00000\n",
      "Feature: x1_Chemist, Score: 0.05851\n",
      "Feature: x1_Civil Service, Score: -0.21932\n",
      "Feature: x1_Clergy, Score: -0.66718\n",
      "Feature: x1_Clerical, Score: 0.18897\n",
      "Feature: x1_Computer Programmer, Score: -0.75026\n",
      "Feature: x1_Construction, Score: 0.36737\n",
      "Feature: x1_Dentist, Score: -0.99879\n",
      "Feature: x1_Doctor, Score: -0.82899\n",
      "Feature: x1_Engineer - Chemical, Score: -0.48956\n",
      "Feature: x1_Engineer - Electrical, Score: -0.27137\n",
      "Feature: x1_Engineer - Mechanical, Score: -0.40726\n",
      "Feature: x1_Executive, Score: -0.18120\n",
      "Feature: x1_Fireman, Score: -0.32036\n",
      "Feature: x1_Flight Attendant, Score: 0.28533\n",
      "Feature: x1_Food Service, Score: 0.57515\n",
      "Feature: x1_Food Service Management, Score: 0.14874\n",
      "Feature: x1_Homemaker, Score: 0.21808\n",
      "Feature: x1_Investor, Score: 0.00000\n",
      "Feature: x1_Laborer, Score: 0.56464\n",
      "Feature: x1_Landscaping, Score: 0.00000\n",
      "Feature: x1_Medical Technician, Score: 0.18275\n",
      "Feature: x1_Military Enlisted, Score: -0.48546\n",
      "Feature: x1_Military Officer, Score: -1.24569\n",
      "Feature: x1_Nurse (LPN), Score: 0.48282\n",
      "Feature: x1_Nurse (RN), Score: -0.15014\n",
      "Feature: x1_Nurse's Aide, Score: 0.74501\n",
      "Feature: x1_Other, Score: 0.00319\n",
      "Feature: x1_Pharmacist, Score: -0.08184\n",
      "Feature: x1_Pilot - Private/Commercial, Score: -1.57462\n",
      "Feature: x1_Police Officer/Correction Officer, Score: -0.18268\n",
      "Feature: x1_Postal Service, Score: 0.26496\n",
      "Feature: x1_Principal, Score: 0.04727\n",
      "Feature: x1_Professional, Score: -0.29797\n",
      "Feature: x1_Professor, Score: -0.33785\n",
      "Feature: x1_Psychologist, Score: -1.31032\n",
      "Feature: x1_Realtor, Score: 0.54733\n",
      "Feature: x1_Religious, Score: -0.22202\n",
      "Feature: x1_Retail Management, Score: 0.00929\n",
      "Feature: x1_Sales - Commission, Score: 0.10316\n",
      "Feature: x1_Sales - Retail, Score: 0.15970\n",
      "Feature: x1_Scientist, Score: -1.29803\n",
      "Feature: x1_Skilled Labor, Score: 0.24306\n",
      "Feature: x1_Social Worker, Score: -0.04198\n",
      "Feature: x1_Student - College Freshman, Score: 0.96018\n",
      "Feature: x1_Student - College Graduate Student, Score: -1.30028\n",
      "Feature: x1_Student - College Junior, Score: 0.13244\n",
      "Feature: x1_Student - College Senior, Score: -0.02017\n",
      "Feature: x1_Student - College Sophomore, Score: 0.53710\n",
      "Feature: x1_Student - Community College, Score: 0.00365\n",
      "Feature: x1_Student - Technical School, Score: 0.00000\n",
      "Feature: x1_Teacher, Score: 0.00607\n",
      "Feature: x1_Teacher's Aide, Score: 0.10365\n",
      "Feature: x1_Tradesman - Carpenter, Score: 0.00000\n",
      "Feature: x1_Tradesman - Electrician, Score: -0.40914\n",
      "Feature: x1_Tradesman - Mechanic, Score: 0.17382\n",
      "Feature: x1_Tradesman - Plumber, Score: 0.39797\n",
      "Feature: x1_Truck Driver, Score: 0.19162\n",
      "Feature: x1_Waiter/Waitress, Score: 0.20715\n",
      "Feature: x1_nan, Score: -0.87230\n",
      "Feature: x2_Employed, Score: 0.00000\n",
      "Feature: x2_Full-time, Score: -0.37677\n",
      "Feature: x2_Not available, Score: -0.57752\n",
      "Feature: x2_Not employed, Score: 0.25407\n",
      "Feature: x2_Other, Score: 0.63510\n",
      "Feature: x2_Part-time, Score: -0.79111\n",
      "Feature: x2_Retired, Score: -0.00912\n",
      "Feature: x2_Self-employed, Score: 0.05255\n",
      "Feature: x2_nan, Score: 0.00000\n",
      "Feature: x3_False, Score: -0.00674\n",
      "Feature: x3_True, Score: 0.00000\n"
     ]
    },
    {
     "data": {
      "image/png": "[encoded data removed]",
      "text/plain": [
       "<Figure size 432x288 with 1 Axes>"
      ]
     },
     "metadata": {
      "needs_background": "light"
     },
     "output_type": "display_data"
    }
   ],
   "source": [
    "from matplotlib import pyplot\n",
    "importance = lg_reg.coef_[0]\n",
    "# summarize feature importance\n",
    "for i,v in enumerate(importance):\n",
    "    print('Feature: %s, Score: %.5f' % (column_name[i+1],v))\n",
    "        \n",
    "# plot feature importance\n",
    "pyplot.bar([x for x in range(len(importance))], importance)\n",
    "pyplot.show()"
   ]
  },
  {
   "cell_type": "markdown",
   "id": "222ff7d7",
   "metadata": {},
   "source": [
    "#### Here we want to see how both the Precision and the Recall change depending on which threshold we use"
   ]
  },
  {
   "cell_type": "code",
   "execution_count": 65,
   "id": "efcc7847-7497-4b19-88bb-c855914e24e2",
   "metadata": {},
   "outputs": [
    {
     "name": "stdout",
     "output_type": "stream",
     "text": [
      "114\n"
     ]
    },
    {
     "data": {
      "text/plain": [
       "(0.0, 1.0)"
      ]
     },
     "execution_count": 65,
     "metadata": {},
     "output_type": "execute_result"
    },
    {
     "data": {
      "image/png": "[encoded data removed]",
      "text/plain": [
       "<Figure size 432x288 with 1 Axes>"
      ]
     },
     "metadata": {
      "needs_background": "light"
     },
     "output_type": "display_data"
    }
   ],
   "source": [
    "### Predict test_y values and probabilities based on fitted logistic regression model\n",
    "from sklearn import metrics\n",
    "predTest = lg_reg.predict(X_train)\n",
    "print(len(X_train[1]))\n",
    "\n",
    "probs_y=lg_reg.predict_proba(X_train) \n",
    "# probs_y is a 2-D array of probability of being labeled as 0 (first column of array) vs 1 (2nd column in array)\n",
    "\n",
    "from sklearn.metrics import precision_recall_curve\n",
    "\n",
    "\n",
    "precision, recall, thresholds = precision_recall_curve(y_train, probs_y[:, 1]) \n",
    "#retrieve probability of being 1(in second column of probs_y)\n",
    "pr_auc = metrics.auc(recall, precision)\n",
    "\n",
    "plt.title(\"Precision-Recall vs Threshold Chart\")\n",
    "plt.plot(thresholds, precision[: -1], \"b--\", label=\"Precision\")\n",
    "plt.plot(thresholds, recall[: -1], \"r--\", label=\"Recall\")\n",
    "plt.ylabel(\"Precision, Recall\")\n",
    "plt.xlabel(\"Threshold\")\n",
    "plt.legend(loc=\"lower left\")\n",
    "plt.ylim([0,1])"
   ]
  },
  {
   "cell_type": "markdown",
   "id": "394d5c81-2fba-4c62-b132-35242c07c4ec",
   "metadata": {},
   "source": [
    "#### We need to interpret this \n"
   ]
  },
  {
   "cell_type": "code",
   "execution_count": null,
   "id": "d89c9f27-00a4-4681-8adc-7e3a94198b6d",
   "metadata": {},
   "outputs": [],
   "source": []
  },
  {
   "cell_type": "code",
   "execution_count": null,
   "id": "6a3340d0-3ce2-4e28-af45-ad2943cfc422",
   "metadata": {},
   "outputs": [],
   "source": []
  },
  {
   "cell_type": "markdown",
   "id": "f6cdbcee",
   "metadata": {},
   "source": [
    "#### Here we plot the ROC curve"
   ]
  },
  {
   "cell_type": "code",
   "execution_count": 66,
   "id": "edf1c70f-673e-4e34-a06f-8acbf991ca6b",
   "metadata": {},
   "outputs": [
    {
     "data": {
      "image/png": "[encoded data removed]",
      "text/plain": [
       "<Figure size 432x288 with 1 Axes>"
      ]
     },
     "metadata": {
      "needs_background": "light"
     },
     "output_type": "display_data"
    }
   ],
   "source": [
    "# roc curve for logistic regression model\n",
    "from sklearn.datasets import make_classification\n",
    "from sklearn.linear_model import LogisticRegression\n",
    "from sklearn.model_selection import train_test_split\n",
    "from sklearn.metrics import roc_curve\n",
    "from matplotlib import pyplot\n",
    "\n",
    "# predict probabilities\n",
    "yhat =lg_reg.predict_proba(X_train) \n",
    "# keep probabilities for the positive outcome only\n",
    "yhat = yhat[:, 1]\n",
    "# calculate roc curves\n",
    "fpr, tpr, thresholds = roc_curve(y_train, yhat)\n",
    "# plot the roc curve for the model\n",
    "pyplot.plot([0,1], [0,1], linestyle='--', label='No Skill')\n",
    "pyplot.plot(fpr, tpr, marker='.', label='Logistic')\n",
    "# axis labels\n",
    "pyplot.xlabel('False Positive Rate')\n",
    "pyplot.ylabel('True Positive Rate')\n",
    "pyplot.legend()\n",
    "# show the plot\n",
    "pyplot.show()\n",
    "\n",
    "##Running the example fits a logistic regression model on the training dataset \n",
    "##Then evaluates it using a range of thresholds on the test set, creating the ROC Curve"
   ]
  },
  {
   "cell_type": "markdown",
   "id": "8671a3b0",
   "metadata": {},
   "source": [
    "#### From the ROC curve we choose the best Threshold\n"
   ]
  },
  {
   "cell_type": "code",
   "execution_count": 67,
   "id": "6c4a3122-dd0f-4f27-84cd-fbae2b5aa6ae",
   "metadata": {},
   "outputs": [
    {
     "name": "stdout",
     "output_type": "stream",
     "text": [
      "Best Threshold= 0.302795\n"
     ]
    }
   ],
   "source": [
    "from numpy import * \n",
    "yhat = lg_reg.predict_proba(X_train)\n",
    "# keep probabilities for the positive outcome only\n",
    "yhat = yhat[:, 1]\n",
    "# calculate roc curves\n",
    "fpr, tpr, thresholds = roc_curve(y_train, yhat)\n",
    "# get the best threshold\n",
    "J = tpr - fpr\n",
    "ix = argmax(J)\n",
    "best_thresh = thresholds[ix]\n",
    "print('Best Threshold= %f' % (best_thresh))"
   ]
  },
  {
   "cell_type": "code",
   "execution_count": 68,
   "id": "fbdfcfea-f409-4d31-b031-3b646b000fa2",
   "metadata": {},
   "outputs": [
    {
     "data": {
      "text/plain": [
       "114"
      ]
     },
     "execution_count": 68,
     "metadata": {},
     "output_type": "execute_result"
    }
   ],
   "source": [
    "len(X_train[1])"
   ]
  },
  {
   "cell_type": "code",
   "execution_count": 69,
   "id": "e1839f04-a022-422f-b2f6-f7b57b8f62d1",
   "metadata": {},
   "outputs": [],
   "source": [
    "from sklearn.metrics import accuracy_score, confusion_matrix, recall_score, roc_auc_score, precision_score, classification_report\n",
    "THRESHOLD = best_thresh\n",
    "preds = np.where(lg_reg.predict_proba(X_train)[:,1] > THRESHOLD, 1, 0)"
   ]
  },
  {
   "cell_type": "code",
   "execution_count": 70,
   "id": "d76fb375-4cf4-42f2-9d52-e207f00dbe7a",
   "metadata": {},
   "outputs": [
    {
     "name": "stdout",
     "output_type": "stream",
     "text": [
      "              precision    recall  f1-score   support\n",
      "\n",
      "           0       0.83      0.65      0.73     25627\n",
      "           1       0.47      0.70      0.57     11416\n",
      "\n",
      "    accuracy                           0.67     37043\n",
      "   macro avg       0.65      0.68      0.65     37043\n",
      "weighted avg       0.72      0.67      0.68     37043\n",
      "\n"
     ]
    }
   ],
   "source": [
    "print(classification_report(y_train,preds))"
   ]
  },
  {
   "cell_type": "code",
   "execution_count": 71,
   "id": "a1ac5bf2-d8e9-4510-81d7-f7328541a2f7",
   "metadata": {},
   "outputs": [
    {
     "data": {
      "image/png": "[encoded data removed]",
      "text/plain": [
       "<Figure size 432x288 with 2 Axes>"
      ]
     },
     "metadata": {
      "needs_background": "light"
     },
     "output_type": "display_data"
    }
   ],
   "source": [
    "CM = confusion_matrix(y_train, preds)\n",
    "disp = ConfusionMatrixDisplay(confusion_matrix=CM, display_labels=lg_reg.classes_)\n",
    "disp.plot()\n",
    "plt.show()"
   ]
  },
  {
   "cell_type": "markdown",
   "id": "52bb8f77",
   "metadata": {},
   "source": [
    "###### Results:\n",
    "Here we see an improvement. We have decrease our main evaluation criteria: False Negatives.\n",
    "That means that fewer people are defaulting that we did not predict that would default. We are still predicting a lot of clients to default that would not default"
   ]
  },
  {
   "cell_type": "markdown",
   "id": "c7805a9f",
   "metadata": {},
   "source": [
    "#### Now we will run the model using the test dataset"
   ]
  },
  {
   "cell_type": "markdown",
   "id": "4879892a-5d31-4b59-9c2a-040140dda3da",
   "metadata": {},
   "source": [
    "\n",
    "We use fit_transform() on the train data so that we learn the parameters of scaling on the train data and in the same time we scale the train data. We only use transform() on the test data because we use the scaling paramaters learned on the train data to scale the test data."
   ]
  },
  {
   "cell_type": "code",
   "execution_count": 72,
   "id": "f8d0b795-da59-4187-b870-046485807a95",
   "metadata": {},
   "outputs": [],
   "source": [
    "#This is a random thought about the date\n",
    "#train_set[\"ListingCreationDate\"]\n",
    "#for column in train_set:\n",
    "#    print(train_set[column].values)"
   ]
  },
  {
   "cell_type": "code",
   "execution_count": 73,
   "id": "2e685401-6905-4b3b-b199-ab4cbff8b1bd",
   "metadata": {},
   "outputs": [
    {
     "data": {
      "text/plain": [
       "(18246, 114)"
      ]
     },
     "execution_count": 73,
     "metadata": {},
     "output_type": "execute_result"
    }
   ],
   "source": [
    "bank_prepared2 = full_pipeline2.transform(test_set)\n",
    "bank_prepared2.shape"
   ]
  },
  {
   "cell_type": "code",
   "execution_count": 74,
   "id": "9b79f14e-e3e7-45b3-8c94-69874c488c4a",
   "metadata": {},
   "outputs": [
    {
     "data": {
      "text/plain": [
       "array([[ 0.2265758 ,  0.20768727,  0.21080281, ...,  0.        ,\n",
       "         1.        ,  0.        ],\n",
       "       [ 0.44309574,  0.46737364,  0.47225972, ...,  0.        ,\n",
       "         1.        ,  0.        ],\n",
       "       [ 0.82484262,  0.97197748,  0.98030394, ...,  0.        ,\n",
       "         1.        ,  0.        ],\n",
       "       ...,\n",
       "       [ 0.50006272,  0.71721408,  0.72380357, ...,  0.        ,\n",
       "         1.        ,  0.        ],\n",
       "       [-0.20691798, -0.40768328, -0.40876331, ...,  0.        ,\n",
       "         1.        ,  0.        ],\n",
       "       [-0.59195579, -0.64029334, -0.64295931, ...,  0.        ,\n",
       "         1.        ,  0.        ]])"
      ]
     },
     "execution_count": 74,
     "metadata": {},
     "output_type": "execute_result"
    }
   ],
   "source": [
    "bank_prepared2"
   ]
  },
  {
   "cell_type": "code",
   "execution_count": 75,
   "id": "b8a4591c-c163-48bc-9dbd-69f0a8dfb025",
   "metadata": {},
   "outputs": [
    {
     "data": {
      "text/plain": [
       "(18246, 115)"
      ]
     },
     "execution_count": 75,
     "metadata": {},
     "output_type": "execute_result"
    }
   ],
   "source": [
    "bank_prepared2test = full_pipeline2.fit_transform(test_set)\n",
    "bank_prepared2test.shape"
   ]
  },
  {
   "cell_type": "code",
   "execution_count": 76,
   "id": "bae4f48f-4176-46d4-a3ff-5316c8052efa",
   "metadata": {},
   "outputs": [],
   "source": [
    "#column_name"
   ]
  },
  {
   "cell_type": "code",
   "execution_count": 77,
   "id": "60902576-449f-41be-a630-72cf9f327120",
   "metadata": {},
   "outputs": [
    {
     "name": "stderr",
     "output_type": "stream",
     "text": [
      "/Users/bilalelahrach/miniforge3/lib/python3.9/site-packages/sklearn/utils/deprecation.py:87: FutureWarning: Function get_feature_names is deprecated; get_feature_names is deprecated in 1.0 and will be removed in 1.2. Please use get_feature_names_out instead.\n",
      "  warnings.warn(msg, category=FutureWarning)\n"
     ]
    }
   ],
   "source": [
    "column_name1 = get_feature_names()\n",
    "#column_name1"
   ]
  },
  {
   "cell_type": "code",
   "execution_count": 78,
   "id": "c70657c2-3b57-4142-a014-c90ac8cdc6ca",
   "metadata": {},
   "outputs": [
    {
     "name": "stdout",
     "output_type": "stream",
     "text": [
      "x1_Judge\n"
     ]
    }
   ],
   "source": [
    "Missing_value  = \"\"\n",
    "for i in range(len(column_name1)):\n",
    "    if column_name1[i] not in column_name:\n",
    "        print(column_name1[i])\n",
    "        Missing_value = column_name1[i]\n",
    "        "
   ]
  },
  {
   "cell_type": "code",
   "execution_count": 79,
   "id": "bc758fa6-34c3-40cb-8dbc-d6053e1e706f",
   "metadata": {},
   "outputs": [],
   "source": [
    "col_name = np.asarray(column_name1)\n",
    "#col_name.index(Missing_value)\n",
    "pos = np.where(col_name == Missing_value)[0][0]"
   ]
  },
  {
   "cell_type": "code",
   "execution_count": 80,
   "id": "8c309454-e0d7-4fab-ab69-aa51a74b16e0",
   "metadata": {},
   "outputs": [],
   "source": [
    "rows = bank_prepared2test.shape[0]"
   ]
  },
  {
   "cell_type": "code",
   "execution_count": 81,
   "id": "b090a740-cddb-4d18-a7f1-602af75e48ef",
   "metadata": {},
   "outputs": [],
   "source": [
    "bank_list = bank_prepared2test.tolist()"
   ]
  },
  {
   "cell_type": "code",
   "execution_count": 82,
   "id": "683d0b40-ef06-4e1e-8e50-9e47f9cfa588",
   "metadata": {},
   "outputs": [],
   "source": [
    "bank_prepared2test\n",
    "for i in range(rows):\n",
    "    bank_list[i].pop(pos)"
   ]
  },
  {
   "cell_type": "code",
   "execution_count": 83,
   "id": "ec89aa71-7fd8-4c99-9a1d-bc5f686936e5",
   "metadata": {},
   "outputs": [],
   "source": [
    "#### testing with logistic regression\n",
    "#bank_prepared2 = full_pipeline2.fit_transform(test_set)\n",
    "\n",
    "X_test = bank_list\n",
    "y_test = test_set[[\"LoanStatus\"]].values.ravel()\n",
    "y_test = (y_test == \"Defaulted\").astype(int)\n",
    "predTest = lg_reg.predict(X_test)\n",
    "\n"
   ]
  },
  {
   "cell_type": "code",
   "execution_count": 84,
   "id": "a90d7aa1-040b-4339-aaf0-52a1a186a937",
   "metadata": {},
   "outputs": [
    {
     "name": "stdout",
     "output_type": "stream",
     "text": [
      "              precision    recall  f1-score   support\n",
      "\n",
      "           0       0.90      0.75      0.82     15217\n",
      "           1       0.32      0.58      0.41      3029\n",
      "\n",
      "    accuracy                           0.72     18246\n",
      "   macro avg       0.61      0.67      0.61     18246\n",
      "weighted avg       0.80      0.72      0.75     18246\n",
      "\n"
     ]
    },
    {
     "data": {
      "image/png": "[encoded data removed]",
      "text/plain": [
       "<Figure size 432x288 with 2 Axes>"
      ]
     },
     "metadata": {
      "needs_background": "light"
     },
     "output_type": "display_data"
    }
   ],
   "source": [
    "print(classification_report(predTest, y_test))\n",
    "CM = confusion_matrix(y_test, predTest, labels=lg_reg.classes_)\n",
    "disp = ConfusionMatrixDisplay(confusion_matrix=CM, display_labels=lg_reg.classes_)\n",
    "disp.plot()\n",
    "plt.show()"
   ]
  },
  {
   "cell_type": "markdown",
   "id": "7759d90c",
   "metadata": {},
   "source": [
    "###### Results:\n",
    "Our model performs well on the test set. The model predictions are good, but could be better."
   ]
  },
  {
   "cell_type": "markdown",
   "id": "3572750f",
   "metadata": {},
   "source": [
    "#### Now we change the threshold for the model"
   ]
  },
  {
   "cell_type": "code",
   "execution_count": 85,
   "id": "2cfc7c9b-c7ac-4ea5-ace4-21fc172a9988",
   "metadata": {},
   "outputs": [
    {
     "name": "stdout",
     "output_type": "stream",
     "text": [
      "              precision    recall  f1-score   support\n",
      "\n",
      "           0       0.65      0.82      0.72      9974\n",
      "           1       0.68      0.46      0.55      8272\n",
      "\n",
      "    accuracy                           0.66     18246\n",
      "   macro avg       0.66      0.64      0.64     18246\n",
      "weighted avg       0.66      0.66      0.64     18246\n",
      "\n"
     ]
    },
    {
     "data": {
      "image/png": "[encoded data removed]",
      "text/plain": [
       "<Figure size 432x288 with 2 Axes>"
      ]
     },
     "metadata": {
      "needs_background": "light"
     },
     "output_type": "display_data"
    }
   ],
   "source": [
    "#### after changing the threshold with the test set\n",
    "preds = np.where(lg_reg.predict_proba(X_test)[:,1] > THRESHOLD, 1, 0)\n",
    "print(classification_report(preds, y_test))\n",
    "CM = confusion_matrix(y_test, preds, labels=lg_reg.classes_)\n",
    "disp = ConfusionMatrixDisplay(confusion_matrix=CM, display_labels=lg_reg.classes_)\n",
    "disp.plot()\n",
    "plt.show()"
   ]
  },
  {
   "cell_type": "markdown",
   "id": "a3185d01",
   "metadata": {},
   "source": [
    "###### Results:\n",
    "By changing the threshold our model performs even better. We see very few false negatives."
   ]
  },
  {
   "cell_type": "markdown",
   "id": "1d70bf38",
   "metadata": {},
   "source": [
    "#### Now we'll build a random forest model"
   ]
  },
  {
   "cell_type": "code",
   "execution_count": 86,
   "id": "2a62bf9d-92e0-442d-a1d1-a1b2deeb902a",
   "metadata": {},
   "outputs": [
    {
     "data": {
      "text/plain": [
       "RandomForestClassifier(max_depth=2, n_estimators=10, random_state=42)"
      ]
     },
     "execution_count": 86,
     "metadata": {},
     "output_type": "execute_result"
    }
   ],
   "source": [
    "###########Random forest\n",
    "\n",
    "from sklearn.ensemble import RandomForestClassifier\n",
    "\n",
    "rf = RandomForestClassifier(max_depth=2, n_estimators=10, random_state= 42)\n",
    "rf.fit(X_train,y_train)"
   ]
  },
  {
   "cell_type": "markdown",
   "id": "2cf8c620",
   "metadata": {},
   "source": [
    "#### We use the ROC curve to find the best threshold"
   ]
  },
  {
   "cell_type": "code",
   "execution_count": 87,
   "id": "317fd173-f6b3-48e9-a0f4-d821e0553bd9",
   "metadata": {},
   "outputs": [
    {
     "data": {
      "image/png": "[encoded data removed]",
      "text/plain": [
       "<Figure size 432x288 with 1 Axes>"
      ]
     },
     "metadata": {
      "needs_background": "light"
     },
     "output_type": "display_data"
    },
    {
     "name": "stdout",
     "output_type": "stream",
     "text": [
      "New threshold :  0.3109998950648917\n",
      "\n",
      "\n"
     ]
    },
    {
     "data": {
      "image/png": "[encoded data removed]",
      "text/plain": [
       "<Figure size 432x288 with 2 Axes>"
      ]
     },
     "metadata": {
      "needs_background": "light"
     },
     "output_type": "display_data"
    }
   ],
   "source": [
    "from numpy import * \n",
    "from sklearn.metrics import accuracy_score, confusion_matrix, recall_score, roc_auc_score, precision_score, classification_report\n",
    "\n",
    "y_train = train_set[[\"LoanStatus\"]].values.ravel()\n",
    "y_train = (y_train == \"Defaulted\").astype(int)\n",
    "y_pred= rf.predict(X_train)\n",
    "\n",
    "yhat = rf.predict_proba(X_train)\n",
    "# keep probabilities for the positive outcome only\n",
    "yhat = yhat[:, 1]\n",
    "# calculate roc curves\n",
    "fpr, tpr, thresholds = roc_curve(y_train, yhat)\n",
    "# plot the roc curve for the model\n",
    "pyplot.plot([0,1], [0,1], linestyle='--', label='No Skill')\n",
    "pyplot.plot(fpr, tpr, marker='.', label='Logistic')\n",
    "# axis labels\n",
    "pyplot.xlabel('False Positive Rate')\n",
    "pyplot.ylabel('True Positive Rate')\n",
    "pyplot.legend()\n",
    "# show the plot\n",
    "pyplot.show()\n",
    "# calculate roc curves\n",
    "fpr, tpr, thresholds = roc_curve(y_train, yhat)\n",
    "# get the best threshold\n",
    "J = tpr - fpr\n",
    "ix = argmax(J)\n",
    "best_thresh = thresholds[ix]\n",
    "THRESHOLD1 = best_thresh\n",
    "print(\"New threshold : \", THRESHOLD1)\n",
    "print(\"\\n\")\n",
    "preds = np.where(rf.predict_proba(X_train)[:,1] > THRESHOLD1, 1, 0)\n",
    "CM = confusion_matrix(y_train, preds)\n",
    "disp = ConfusionMatrixDisplay(confusion_matrix=CM, display_labels=rf.classes_)\n",
    "disp.plot()\n",
    "plt.show()"
   ]
  },
  {
   "cell_type": "markdown",
   "id": "59673447",
   "metadata": {},
   "source": [
    "###### Results:\n",
    "Our random forest model performs even better then the logistic regression model. Only a fraction of the predictions are false negatives. On the otherhand, our model is predicting a lot of false positives."
   ]
  },
  {
   "cell_type": "markdown",
   "id": "b965dae6",
   "metadata": {},
   "source": [
    "#### Here we'll use our model on the test dataset"
   ]
  },
  {
   "cell_type": "code",
   "execution_count": 88,
   "id": "ec44c601-0aff-42f3-9eff-dca2c4ce5abe",
   "metadata": {},
   "outputs": [
    {
     "data": {
      "text/plain": [
       "(0.0, 1.0)"
      ]
     },
     "execution_count": 88,
     "metadata": {},
     "output_type": "execute_result"
    },
    {
     "data": {
      "image/png": "[encoded data removed]",
      "text/plain": [
       "<Figure size 432x288 with 1 Axes>"
      ]
     },
     "metadata": {
      "needs_background": "light"
     },
     "output_type": "display_data"
    }
   ],
   "source": [
    "### Predict test_y values and probabilities based on fitted random forest model\n",
    "from sklearn import metrics\n",
    "predTest = rf.predict(X_train)\n",
    "\n",
    "probs_y= rf.predict_proba(X_train) \n",
    "# probs_y is a 2-D array of probability of being labeled as 0 (first column of array) vs 1 (2nd column in array)\n",
    "\n",
    "from sklearn.metrics import precision_recall_curve\n",
    "\n",
    "\n",
    "precision, recall, thresholds = precision_recall_curve(y_train, probs_y[:, 1]) \n",
    "#retrieve probability of being 1(in second column of probs_y)\n",
    "pr_auc = metrics.auc(recall, precision)\n",
    "\n",
    "plt.title(\"Precision-Recall vs Threshold Chart\")\n",
    "plt.plot(thresholds, precision[: -1], \"b--\", label=\"Precision\")\n",
    "plt.plot(thresholds, recall[: -1], \"r--\", label=\"Recall\")\n",
    "plt.ylabel(\"Precision, Recall\")\n",
    "plt.xlabel(\"Threshold\")\n",
    "plt.legend(loc=\"lower left\")\n",
    "plt.ylim([0,1])"
   ]
  },
  {
   "cell_type": "code",
   "execution_count": 89,
   "id": "1d1b176b-fc02-46a7-9ab9-55faaf9de24e",
   "metadata": {},
   "outputs": [
    {
     "name": "stdout",
     "output_type": "stream",
     "text": [
      "Classification report: \n",
      " \n",
      "                precision    recall  f1-score   support\n",
      "\n",
      "           0       0.69      1.00      0.82     25627\n",
      "           1       0.00      0.00      0.00     11416\n",
      "\n",
      "    accuracy                           0.69     37043\n",
      "   macro avg       0.35      0.50      0.41     37043\n",
      "weighted avg       0.48      0.69      0.57     37043\n",
      "\n"
     ]
    }
   ],
   "source": [
    "print(\"Classification report: \\n \\n \", classification_report(y_train, y_pred ,zero_division=0 ))"
   ]
  },
  {
   "cell_type": "code",
   "execution_count": 90,
   "id": "c3dc2944-d15a-4e45-88bc-c6950eb2657b",
   "metadata": {},
   "outputs": [
    {
     "name": "stdout",
     "output_type": "stream",
     "text": [
      "              precision    recall  f1-score   support\n",
      "\n",
      "           0       1.00      0.69      0.82     18246\n",
      "           1       0.00      0.00      0.00         0\n",
      "\n",
      "    accuracy                           0.69     18246\n",
      "   macro avg       0.50      0.35      0.41     18246\n",
      "weighted avg       1.00      0.69      0.82     18246\n",
      "\n"
     ]
    },
    {
     "data": {
      "image/png": "[encoded data removed]",
      "text/plain": [
       "<Figure size 432x288 with 2 Axes>"
      ]
     },
     "metadata": {
      "needs_background": "light"
     },
     "output_type": "display_data"
    }
   ],
   "source": [
    "#### testing with random forest\n",
    "\n",
    "bank_prepared2 = full_pipeline2.fit_transform(test_set)\n",
    "\n",
    "X_test = bank_list\n",
    "y_test = test_set[[\"LoanStatus\"]].values.ravel()\n",
    "y_test = (y_test == \"Defaulted\").astype(int)\n",
    "predTest = rf.predict(X_test)\n",
    "\n",
    "print(classification_report(predTest, y_test,zero_division=0))\n",
    "CM = confusion_matrix(y_test, predTest, labels=lg_reg.classes_, )\n",
    "disp = ConfusionMatrixDisplay(confusion_matrix=CM, display_labels=lg_reg.classes_)\n",
    "disp.plot()\n",
    "plt.show()"
   ]
  },
  {
   "cell_type": "markdown",
   "id": "9509b646",
   "metadata": {},
   "source": [
    "###### Results:\n",
    "The predictions are poor. Our model does not make any default predictions. This model is not helpful."
   ]
  },
  {
   "cell_type": "code",
   "execution_count": 91,
   "id": "7e3c2bdd-fd39-4f62-88b1-6e443d7071f8",
   "metadata": {},
   "outputs": [
    {
     "data": {
      "image/png": "[encoded data removed]",
      "text/plain": [
       "<Figure size 432x288 with 2 Axes>"
      ]
     },
     "metadata": {
      "needs_background": "light"
     },
     "output_type": "display_data"
    }
   ],
   "source": [
    "#### after changing the threshold with the test set\n",
    "preds = np.where(rf.predict_proba(X_test)[:,1] > THRESHOLD1, 1, 0)\n",
    "CM = confusion_matrix(y_test, preds)\n",
    "disp = ConfusionMatrixDisplay(confusion_matrix=CM, display_labels=rf.classes_)\n",
    "disp.plot()\n",
    "plt.show()"
   ]
  },
  {
   "cell_type": "code",
   "execution_count": 92,
   "id": "89c11684-e7f2-4496-84bd-0c210cab573e",
   "metadata": {},
   "outputs": [
    {
     "data": {
      "image/png": "[encoded data removed]",
      "text/plain": [
       "<IPython.core.display.Image object>"
      ]
     },
     "execution_count": 92,
     "metadata": {},
     "output_type": "execute_result"
    }
   ],
   "source": [
    "from IPython import display\n",
    "display.Image(\"./download.png\")"
   ]
  },
  {
   "cell_type": "markdown",
   "id": "0fe9b25e",
   "metadata": {},
   "source": [
    "###### Results:\n",
    "\n",
    "0: completed\n",
    "1: defaulted\n",
    "\n",
    "After changing the threshold our model performs very well on the test data. We have 0 false negatives which is our focus since having false negative will cost Prosper more than having false positive. At the same time, we can still improve on not predicting false positives (6382)."
   ]
  },
  {
   "cell_type": "markdown",
   "id": "8e3c75c3-c8cf-4ff3-91c4-6aa53713b311",
   "metadata": {},
   "source": [
    "## Trying principal component analysis PCA for dimentionality reduction"
   ]
  },
  {
   "cell_type": "markdown",
   "id": "0617cd6b-479a-4575-86ff-552030323812",
   "metadata": {},
   "source": [
    "Large number of features in the dataset is one of the factors that affect both the training time as well as accuracy of machine learning models. You have different options to deal with huge number of features in a dataset.\n",
    "\n",
    "1- Try to train the models on original number of features, which take days or weeks if the number of features is too high.\n",
    "\n",
    "2- Reduce the number of variables by merging correlated variables.\n",
    "\n",
    "3- Extract the most important features from the dataset that are responsible for maximum variance in the output. Different statistical techniques are used for this purpose e.g. linear discriminant analysis, factor analysis, and principal component analysis."
   ]
  },
  {
   "cell_type": "markdown",
   "id": "f85b4eaa-d92a-4181-a3aa-ddd5981a7a6b",
   "metadata": {},
   "source": [
    "### Advantages of PCA\n",
    "\n",
    "There are two main advantages of dimensionality reduction with PCA.\n",
    "\n",
    "The training time of the algorithms reduces significantly with less number of features.\n",
    "\n",
    "It is not always possible to analyze data in high dimensions. "
   ]
  },
  {
   "cell_type": "markdown",
   "id": "88e5859f-696a-4dfa-9005-8e8ae0341dad",
   "metadata": {},
   "source": [
    "PCA performs best with a normalized feature set. We will perform standard scalar normalization to normalize our feature set. To do this, execute the following code:"
   ]
  },
  {
   "cell_type": "code",
   "execution_count": 93,
   "id": "cedd615c-96c0-4af7-b16d-20a230e174f4",
   "metadata": {},
   "outputs": [],
   "source": [
    "train_set, test_set = train_test_split(prosper, test_size=0.33, random_state=42)\n",
    "\n",
    "prosper_prepared = full_pipeline2.fit_transform(train_set)\n",
    "\n",
    "X_train = prosper_prepared\n",
    "\n",
    "y_train = train_set[[\"LoanStatus\"]].values.ravel()\n",
    "y_train = (y_train == \"Defaulted\").astype(int)\n",
    "\n",
    "\n",
    "X_test = bank_list\n",
    "y_test = test_set[[\"LoanStatus\"]].values.ravel()\n",
    "y_test = (y_test == \"Defaulted\").astype(int)\n"
   ]
  },
  {
   "cell_type": "code",
   "execution_count": 94,
   "id": "1bc05874-df1e-433d-907f-02e591afe502",
   "metadata": {},
   "outputs": [],
   "source": [
    "from sklearn.preprocessing import StandardScaler\n",
    "\n",
    "#sc = StandardScaler()\n",
    "#X_train = sc.fit_transform(X_train)\n",
    "#X_test = sc.transform(X_test)\n"
   ]
  },
  {
   "cell_type": "code",
   "execution_count": 95,
   "id": "2dc47afc-e5b8-47a9-afd6-2765980165fe",
   "metadata": {},
   "outputs": [
    {
     "data": {
      "text/plain": [
       "array([[ 0.49881444,  0.3406073 ,  0.3446291 , ...,  0.        ,\n",
       "         1.        ,  0.        ],\n",
       "       [-0.21871991, -0.20338026, -0.20306736, ...,  0.        ,\n",
       "         1.        ,  0.        ],\n",
       "       [-0.70952112, -1.20274202, -1.20924275, ...,  0.        ,\n",
       "         1.        ,  0.        ],\n",
       "       ...,\n",
       "       [-1.12065934, -1.20643424, -1.21296015, ...,  0.        ,\n",
       "         1.        ,  0.        ],\n",
       "       [-1.09194888, -1.17566571, -1.18198184, ...,  0.        ,\n",
       "         1.        ,  0.        ],\n",
       "       [-1.21995438, -1.34181576, -1.3492647 , ...,  0.        ,\n",
       "         1.        ,  0.        ]])"
      ]
     },
     "execution_count": 95,
     "metadata": {},
     "output_type": "execute_result"
    }
   ],
   "source": [
    "X_train"
   ]
  },
  {
   "cell_type": "code",
   "execution_count": 96,
   "id": "78cc5c4d-3678-4420-b5f5-33d508a96a00",
   "metadata": {},
   "outputs": [
    {
     "data": {
      "text/plain": [
       "(37043, 114)"
      ]
     },
     "execution_count": 96,
     "metadata": {},
     "output_type": "execute_result"
    }
   ],
   "source": [
    "from sklearn.decomposition import PCA\n",
    "\n",
    "pca = PCA()\n",
    "X_train = pca.fit_transform(X_train)\n",
    "X_test = pca.transform(X_test)\n",
    "\n",
    "X_train.shape"
   ]
  },
  {
   "cell_type": "code",
   "execution_count": 97,
   "id": "9da57b6d-78e2-4df5-906c-b85f304c25e3",
   "metadata": {},
   "outputs": [
    {
     "data": {
      "text/plain": [
       "(18246, 114)"
      ]
     },
     "execution_count": 97,
     "metadata": {},
     "output_type": "execute_result"
    }
   ],
   "source": [
    "X_test.shape"
   ]
  },
  {
   "cell_type": "markdown",
   "id": "321a4d9d-6835-46f8-b8f1-c454ef50de0e",
   "metadata": {},
   "source": [
    "## Implementing RandomForestClassification with PCA\n",
    "In this case we will use random forest classification for making the predictions.\n",
    "\n",
    "Source: https://stackabuse.com/implementing-pca-in-python-with-scikit-learn/"
   ]
  },
  {
   "cell_type": "code",
   "execution_count": 98,
   "id": "aa044863-098d-49c6-acf7-ef601bc90122",
   "metadata": {},
   "outputs": [],
   "source": [
    "from sklearn.ensemble import RandomForestClassifier\n",
    "\n",
    "classifier = RandomForestClassifier(max_depth=2, random_state=42)\n",
    "classifier.fit(X_train, y_train)\n",
    "\n",
    "# Predicting the Test set results\n",
    "y_pred = classifier.predict(X_test)"
   ]
  },
  {
   "cell_type": "code",
   "execution_count": 99,
   "id": "f836d9ed-e6bf-4bb8-a811-86ccb93b63dd",
   "metadata": {},
   "outputs": [
    {
     "data": {
      "image/png": "[encoded data removed]",
      "text/plain": [
       "<Figure size 432x288 with 2 Axes>"
      ]
     },
     "metadata": {
      "needs_background": "light"
     },
     "output_type": "display_data"
    }
   ],
   "source": [
    "from sklearn.metrics import confusion_matrix\n",
    "from sklearn.metrics import accuracy_score\n",
    "\n",
    "#cm = confusion_matrix(y_test, y_pred)\n",
    "#print(cm)\n",
    "#print('Accuracy' , accuracy_score(y_test, y_pred))\n",
    "\n",
    "CM = confusion_matrix(y_test, y_pred)\n",
    "disp = ConfusionMatrixDisplay(confusion_matrix=CM, display_labels= classifier.classes_)\n",
    "disp.plot()\n",
    "plt.show()\n",
    "\n"
   ]
  },
  {
   "cell_type": "markdown",
   "id": "8e25696b-ab46-4a52-81f6-54c4d9b626d2",
   "metadata": {},
   "source": [
    "## Findings:\n",
    "\n",
    "Using PCA with random forest classifier gave us a good result for false positive (predicted defaulted but the loan was completed) while the false negative is high (predicted completed but the loan was defaulted) which is our focus. how can we improve our model ??"
   ]
  },
  {
   "cell_type": "markdown",
   "id": "a41148d1-ef1a-49e4-8105-99830f072bcb",
   "metadata": {},
   "source": [
    "### Choosing the Right Number of Dimensions"
   ]
  },
  {
   "cell_type": "code",
   "execution_count": 100,
   "id": "45e932d1-b233-4e72-b1f0-e9d49fcce617",
   "metadata": {},
   "outputs": [
    {
     "data": {
      "text/plain": [
       "21"
      ]
     },
     "execution_count": 100,
     "metadata": {},
     "output_type": "execute_result"
    }
   ],
   "source": [
    "cumsum = np.cumsum(pca.explained_variance_ratio_)\n",
    "d = np.argmax(cumsum >= 0.95) + 1\n",
    "d\n"
   ]
  },
  {
   "cell_type": "code",
   "execution_count": 101,
   "id": "27d0fb1a-fbe1-41c5-a43f-536449036a67",
   "metadata": {},
   "outputs": [
    {
     "data": {
      "image/png": "[encoded data removed]",
      "text/plain": [
       "<Figure size 432x288 with 1 Axes>"
      ]
     },
     "metadata": {
      "needs_background": "light"
     },
     "output_type": "display_data"
    }
   ],
   "source": [
    "plt.figure(figsize=(6,4))\n",
    "plt.plot(cumsum, linewidth=3)\n",
    "plt.axis([0, 400, 0, 1])\n",
    "plt.xlabel(\"Dimensions\")\n",
    "plt.ylabel(\"Explained Variance\")\n",
    "plt.plot([d, d], [0, 0.95], \"k:\")\n",
    "plt.plot([0, d], [0.95, 0.95], \"k:\")\n",
    "plt.plot(d, 0.95, \"ko\")\n",
    "plt.annotate(\"Elbow\", xy=(65, 0.85), xytext=(70, 0.7),\n",
    "             arrowprops=dict(arrowstyle=\"->\"), fontsize=16)\n",
    "plt.grid(True)\n",
    "plt.show()"
   ]
  },
  {
   "cell_type": "code",
   "execution_count": 102,
   "id": "a8ae2bac-1111-487e-922d-c1c213e92734",
   "metadata": {},
   "outputs": [
    {
     "data": {
      "text/plain": [
       "(37043, 21)"
      ]
     },
     "execution_count": 102,
     "metadata": {},
     "output_type": "execute_result"
    }
   ],
   "source": [
    "pca = PCA(n_components=0.95)\n",
    "X_reduced = pca.fit_transform(X_train)\n",
    "X_reduced.shape"
   ]
  },
  {
   "cell_type": "code",
   "execution_count": 103,
   "id": "cb359382-80f9-4134-93f9-7333687dfe6f",
   "metadata": {},
   "outputs": [
    {
     "name": "stdout",
     "output_type": "stream",
     "text": [
      "(18246, 20)\n"
     ]
    }
   ],
   "source": [
    "####### Is there a way to know the name of chosen features \n",
    "\n",
    "\n",
    "classifier.fit(X_reduced, y_train)\n",
    "\n",
    "# Predicting the Test set results\n",
    "X_test_reduced = pca.fit_transform(X_test)\n",
    "print(X_test_reduced.shape)\n"
   ]
  },
  {
   "cell_type": "code",
   "execution_count": 104,
   "id": "c587a427-dbd8-42d5-829b-7681e15efb06",
   "metadata": {},
   "outputs": [],
   "source": [
    "#### Not sure yet if this is true \n",
    "#### I will add the missing features and it will be the average of other features \n",
    "X_test_reduced_new = []\n",
    "for i in range(X_test_reduced.shape[0]):\n",
    "    X_test_reduced_new.append(np.append(X_test_reduced[i], average(X_test_reduced[i])))\n",
    "\n"
   ]
  },
  {
   "cell_type": "code",
   "execution_count": 105,
   "id": "6bf15585-b894-4186-b1b3-33cb07ee6023",
   "metadata": {},
   "outputs": [
    {
     "data": {
      "text/plain": [
       "(18246, 21)"
      ]
     },
     "execution_count": 105,
     "metadata": {},
     "output_type": "execute_result"
    }
   ],
   "source": [
    "X_test_reduced_new = np.asarray(X_test_reduced_new)\n",
    "X_test_reduced_new.shape"
   ]
  },
  {
   "cell_type": "code",
   "execution_count": 106,
   "id": "a7a30fe5-eb44-49d6-ac0e-661bc1b09719",
   "metadata": {},
   "outputs": [
    {
     "ename": "ValueError",
     "evalue": "X has 20 features, but RandomForestClassifier is expecting 21 features as input.",
     "output_type": "error",
     "traceback": [
      "\u001b[0;31m---------------------------------------------------------------------------\u001b[0m",
      "\u001b[0;31mValueError\u001b[0m                                Traceback (most recent call last)",
      "\u001b[1;32m/Users/bilalelahrach/Desktop/PROJECT_ML/Group_11_ML_fork/Prosper/Project_G11__Deep_learning_Version02.ipynb Cell 144'\u001b[0m in \u001b[0;36m<cell line: 1>\u001b[0;34m()\u001b[0m\n\u001b[0;32m----> <a href='vscode-notebook-cell:/Users/bilalelahrach/Desktop/PROJECT_ML/Group_11_ML_fork/Prosper/Project_G11__Deep_learning_Version02.ipynb#ch0000142?line=0'>1</a>\u001b[0m y_pred \u001b[39m=\u001b[39m classifier\u001b[39m.\u001b[39;49mpredict(X_test_reduced)\n",
      "File \u001b[0;32m~/miniforge3/lib/python3.9/site-packages/sklearn/ensemble/_forest.py:808\u001b[0m, in \u001b[0;36mForestClassifier.predict\u001b[0;34m(self, X)\u001b[0m\n\u001b[1;32m    <a href='file:///Users/bilalelahrach/miniforge3/lib/python3.9/site-packages/sklearn/ensemble/_forest.py?line=786'>787</a>\u001b[0m \u001b[39mdef\u001b[39;00m \u001b[39mpredict\u001b[39m(\u001b[39mself\u001b[39m, X):\n\u001b[1;32m    <a href='file:///Users/bilalelahrach/miniforge3/lib/python3.9/site-packages/sklearn/ensemble/_forest.py?line=787'>788</a>\u001b[0m     \u001b[39m\"\"\"\u001b[39;00m\n\u001b[1;32m    <a href='file:///Users/bilalelahrach/miniforge3/lib/python3.9/site-packages/sklearn/ensemble/_forest.py?line=788'>789</a>\u001b[0m \u001b[39m    Predict class for X.\u001b[39;00m\n\u001b[1;32m    <a href='file:///Users/bilalelahrach/miniforge3/lib/python3.9/site-packages/sklearn/ensemble/_forest.py?line=789'>790</a>\u001b[0m \n\u001b[0;32m   (...)\u001b[0m\n\u001b[1;32m    <a href='file:///Users/bilalelahrach/miniforge3/lib/python3.9/site-packages/sklearn/ensemble/_forest.py?line=805'>806</a>\u001b[0m \u001b[39m        The predicted classes.\u001b[39;00m\n\u001b[1;32m    <a href='file:///Users/bilalelahrach/miniforge3/lib/python3.9/site-packages/sklearn/ensemble/_forest.py?line=806'>807</a>\u001b[0m \u001b[39m    \"\"\"\u001b[39;00m\n\u001b[0;32m--> <a href='file:///Users/bilalelahrach/miniforge3/lib/python3.9/site-packages/sklearn/ensemble/_forest.py?line=807'>808</a>\u001b[0m     proba \u001b[39m=\u001b[39m \u001b[39mself\u001b[39;49m\u001b[39m.\u001b[39;49mpredict_proba(X)\n\u001b[1;32m    <a href='file:///Users/bilalelahrach/miniforge3/lib/python3.9/site-packages/sklearn/ensemble/_forest.py?line=809'>810</a>\u001b[0m     \u001b[39mif\u001b[39;00m \u001b[39mself\u001b[39m\u001b[39m.\u001b[39mn_outputs_ \u001b[39m==\u001b[39m \u001b[39m1\u001b[39m:\n\u001b[1;32m    <a href='file:///Users/bilalelahrach/miniforge3/lib/python3.9/site-packages/sklearn/ensemble/_forest.py?line=810'>811</a>\u001b[0m         \u001b[39mreturn\u001b[39;00m \u001b[39mself\u001b[39m\u001b[39m.\u001b[39mclasses_\u001b[39m.\u001b[39mtake(np\u001b[39m.\u001b[39margmax(proba, axis\u001b[39m=\u001b[39m\u001b[39m1\u001b[39m), axis\u001b[39m=\u001b[39m\u001b[39m0\u001b[39m)\n",
      "File \u001b[0;32m~/miniforge3/lib/python3.9/site-packages/sklearn/ensemble/_forest.py:850\u001b[0m, in \u001b[0;36mForestClassifier.predict_proba\u001b[0;34m(self, X)\u001b[0m\n\u001b[1;32m    <a href='file:///Users/bilalelahrach/miniforge3/lib/python3.9/site-packages/sklearn/ensemble/_forest.py?line=847'>848</a>\u001b[0m check_is_fitted(\u001b[39mself\u001b[39m)\n\u001b[1;32m    <a href='file:///Users/bilalelahrach/miniforge3/lib/python3.9/site-packages/sklearn/ensemble/_forest.py?line=848'>849</a>\u001b[0m \u001b[39m# Check data\u001b[39;00m\n\u001b[0;32m--> <a href='file:///Users/bilalelahrach/miniforge3/lib/python3.9/site-packages/sklearn/ensemble/_forest.py?line=849'>850</a>\u001b[0m X \u001b[39m=\u001b[39m \u001b[39mself\u001b[39;49m\u001b[39m.\u001b[39;49m_validate_X_predict(X)\n\u001b[1;32m    <a href='file:///Users/bilalelahrach/miniforge3/lib/python3.9/site-packages/sklearn/ensemble/_forest.py?line=851'>852</a>\u001b[0m \u001b[39m# Assign chunk of trees to jobs\u001b[39;00m\n\u001b[1;32m    <a href='file:///Users/bilalelahrach/miniforge3/lib/python3.9/site-packages/sklearn/ensemble/_forest.py?line=852'>853</a>\u001b[0m n_jobs, _, _ \u001b[39m=\u001b[39m _partition_estimators(\u001b[39mself\u001b[39m\u001b[39m.\u001b[39mn_estimators, \u001b[39mself\u001b[39m\u001b[39m.\u001b[39mn_jobs)\n",
      "File \u001b[0;32m~/miniforge3/lib/python3.9/site-packages/sklearn/ensemble/_forest.py:579\u001b[0m, in \u001b[0;36mBaseForest._validate_X_predict\u001b[0;34m(self, X)\u001b[0m\n\u001b[1;32m    <a href='file:///Users/bilalelahrach/miniforge3/lib/python3.9/site-packages/sklearn/ensemble/_forest.py?line=575'>576</a>\u001b[0m \u001b[39m\"\"\"\u001b[39;00m\n\u001b[1;32m    <a href='file:///Users/bilalelahrach/miniforge3/lib/python3.9/site-packages/sklearn/ensemble/_forest.py?line=576'>577</a>\u001b[0m \u001b[39mValidate X whenever one tries to predict, apply, predict_proba.\"\"\"\u001b[39;00m\n\u001b[1;32m    <a href='file:///Users/bilalelahrach/miniforge3/lib/python3.9/site-packages/sklearn/ensemble/_forest.py?line=577'>578</a>\u001b[0m check_is_fitted(\u001b[39mself\u001b[39m)\n\u001b[0;32m--> <a href='file:///Users/bilalelahrach/miniforge3/lib/python3.9/site-packages/sklearn/ensemble/_forest.py?line=578'>579</a>\u001b[0m X \u001b[39m=\u001b[39m \u001b[39mself\u001b[39;49m\u001b[39m.\u001b[39;49m_validate_data(X, dtype\u001b[39m=\u001b[39;49mDTYPE, accept_sparse\u001b[39m=\u001b[39;49m\u001b[39m\"\u001b[39;49m\u001b[39mcsr\u001b[39;49m\u001b[39m\"\u001b[39;49m, reset\u001b[39m=\u001b[39;49m\u001b[39mFalse\u001b[39;49;00m)\n\u001b[1;32m    <a href='file:///Users/bilalelahrach/miniforge3/lib/python3.9/site-packages/sklearn/ensemble/_forest.py?line=579'>580</a>\u001b[0m \u001b[39mif\u001b[39;00m issparse(X) \u001b[39mand\u001b[39;00m (X\u001b[39m.\u001b[39mindices\u001b[39m.\u001b[39mdtype \u001b[39m!=\u001b[39m np\u001b[39m.\u001b[39mintc \u001b[39mor\u001b[39;00m X\u001b[39m.\u001b[39mindptr\u001b[39m.\u001b[39mdtype \u001b[39m!=\u001b[39m np\u001b[39m.\u001b[39mintc):\n\u001b[1;32m    <a href='file:///Users/bilalelahrach/miniforge3/lib/python3.9/site-packages/sklearn/ensemble/_forest.py?line=580'>581</a>\u001b[0m     \u001b[39mraise\u001b[39;00m \u001b[39mValueError\u001b[39;00m(\u001b[39m\"\u001b[39m\u001b[39mNo support for np.int64 index based sparse matrices\u001b[39m\u001b[39m\"\u001b[39m)\n",
      "File \u001b[0;32m~/miniforge3/lib/python3.9/site-packages/sklearn/base.py:585\u001b[0m, in \u001b[0;36mBaseEstimator._validate_data\u001b[0;34m(self, X, y, reset, validate_separately, **check_params)\u001b[0m\n\u001b[1;32m    <a href='file:///Users/bilalelahrach/miniforge3/lib/python3.9/site-packages/sklearn/base.py?line=581'>582</a>\u001b[0m     out \u001b[39m=\u001b[39m X, y\n\u001b[1;32m    <a href='file:///Users/bilalelahrach/miniforge3/lib/python3.9/site-packages/sklearn/base.py?line=583'>584</a>\u001b[0m \u001b[39mif\u001b[39;00m \u001b[39mnot\u001b[39;00m no_val_X \u001b[39mand\u001b[39;00m check_params\u001b[39m.\u001b[39mget(\u001b[39m\"\u001b[39m\u001b[39mensure_2d\u001b[39m\u001b[39m\"\u001b[39m, \u001b[39mTrue\u001b[39;00m):\n\u001b[0;32m--> <a href='file:///Users/bilalelahrach/miniforge3/lib/python3.9/site-packages/sklearn/base.py?line=584'>585</a>\u001b[0m     \u001b[39mself\u001b[39;49m\u001b[39m.\u001b[39;49m_check_n_features(X, reset\u001b[39m=\u001b[39;49mreset)\n\u001b[1;32m    <a href='file:///Users/bilalelahrach/miniforge3/lib/python3.9/site-packages/sklearn/base.py?line=586'>587</a>\u001b[0m \u001b[39mreturn\u001b[39;00m out\n",
      "File \u001b[0;32m~/miniforge3/lib/python3.9/site-packages/sklearn/base.py:400\u001b[0m, in \u001b[0;36mBaseEstimator._check_n_features\u001b[0;34m(self, X, reset)\u001b[0m\n\u001b[1;32m    <a href='file:///Users/bilalelahrach/miniforge3/lib/python3.9/site-packages/sklearn/base.py?line=396'>397</a>\u001b[0m     \u001b[39mreturn\u001b[39;00m\n\u001b[1;32m    <a href='file:///Users/bilalelahrach/miniforge3/lib/python3.9/site-packages/sklearn/base.py?line=398'>399</a>\u001b[0m \u001b[39mif\u001b[39;00m n_features \u001b[39m!=\u001b[39m \u001b[39mself\u001b[39m\u001b[39m.\u001b[39mn_features_in_:\n\u001b[0;32m--> <a href='file:///Users/bilalelahrach/miniforge3/lib/python3.9/site-packages/sklearn/base.py?line=399'>400</a>\u001b[0m     \u001b[39mraise\u001b[39;00m \u001b[39mValueError\u001b[39;00m(\n\u001b[1;32m    <a href='file:///Users/bilalelahrach/miniforge3/lib/python3.9/site-packages/sklearn/base.py?line=400'>401</a>\u001b[0m         \u001b[39mf\u001b[39m\u001b[39m\"\u001b[39m\u001b[39mX has \u001b[39m\u001b[39m{\u001b[39;00mn_features\u001b[39m}\u001b[39;00m\u001b[39m features, but \u001b[39m\u001b[39m{\u001b[39;00m\u001b[39mself\u001b[39m\u001b[39m.\u001b[39m\u001b[39m__class__\u001b[39m\u001b[39m.\u001b[39m\u001b[39m__name__\u001b[39m\u001b[39m}\u001b[39;00m\u001b[39m \u001b[39m\u001b[39m\"\u001b[39m\n\u001b[1;32m    <a href='file:///Users/bilalelahrach/miniforge3/lib/python3.9/site-packages/sklearn/base.py?line=401'>402</a>\u001b[0m         \u001b[39mf\u001b[39m\u001b[39m\"\u001b[39m\u001b[39mis expecting \u001b[39m\u001b[39m{\u001b[39;00m\u001b[39mself\u001b[39m\u001b[39m.\u001b[39mn_features_in_\u001b[39m}\u001b[39;00m\u001b[39m features as input.\u001b[39m\u001b[39m\"\u001b[39m\n\u001b[1;32m    <a href='file:///Users/bilalelahrach/miniforge3/lib/python3.9/site-packages/sklearn/base.py?line=402'>403</a>\u001b[0m     )\n",
      "\u001b[0;31mValueError\u001b[0m: X has 20 features, but RandomForestClassifier is expecting 21 features as input."
     ]
    }
   ],
   "source": [
    "y_pred = classifier.predict(X_test_reduced)"
   ]
  },
  {
   "cell_type": "code",
   "execution_count": 107,
   "id": "52f277cd-ecf0-4922-9050-0302758a900d",
   "metadata": {},
   "outputs": [
    {
     "data": {
      "image/png": "[encoded data removed]",
      "text/plain": [
       "<Figure size 432x288 with 2 Axes>"
      ]
     },
     "metadata": {
      "needs_background": "light"
     },
     "output_type": "display_data"
    }
   ],
   "source": [
    "from sklearn.metrics import confusion_matrix\n",
    "from sklearn.metrics import accuracy_score\n",
    "\n",
    "CM = confusion_matrix(y_test, y_pred)\n",
    "disp = ConfusionMatrixDisplay(confusion_matrix=CM, display_labels= classifier.classes_)\n",
    "disp.plot()\n",
    "plt.show()"
   ]
  },
  {
   "cell_type": "markdown",
   "id": "661fd714-cbeb-45a7-ac66-322fbfe2ae13",
   "metadata": {
    "tags": []
   },
   "source": [
    "## Findings:\n",
    "\n",
    "The model improved, but the logistic regression model is still unbeatable."
   ]
  },
  {
   "cell_type": "markdown",
   "id": "c65e1d76-2955-4caa-83b1-4897ed45ed89",
   "metadata": {},
   "source": [
    "## Keras Deep Learning model "
   ]
  },
  {
   "cell_type": "code",
   "execution_count": 102,
   "id": "907417df-7203-4c7c-8aec-8626ef46d43f",
   "metadata": {},
   "outputs": [],
   "source": [
    "from keras.models import Sequential\n",
    "from keras.layers import Dense\n",
    "from keras.wrappers.scikit_learn import KerasClassifier\n",
    "from sklearn.model_selection import cross_val_score\n",
    "from sklearn.preprocessing import LabelEncoder\n",
    "from sklearn.model_selection import StratifiedKFold\n",
    "from sklearn.preprocessing import StandardScaler\n",
    "from sklearn.pipeline import Pipeline\n",
    "from keras.callbacks import EarlyStopping"
   ]
  },
  {
   "cell_type": "markdown",
   "id": "0902fbdf-8a3e-4b16-93b1-39db8855e89d",
   "metadata": {},
   "source": [
    "Source: https://machinelearningmastery.com/binary-classification-tutorial-with-the-keras-deep-learning-library/"
   ]
  },
  {
   "cell_type": "code",
   "execution_count": 103,
   "id": "4046816f-4544-4fc4-a0b7-ce46270f7fc4",
   "metadata": {},
   "outputs": [],
   "source": [
    "#We do not split to train and test \n",
    "\n",
    "prosper_prepared = full_pipeline2.fit_transform(prosper)\n",
    "\n",
    "X = prosper_prepared\n",
    "y = prosper[[\"LoanStatus\"]].values.ravel()\n",
    "y = (y == \"Defaulted\").astype(int)\n"
   ]
  },
  {
   "cell_type": "code",
   "execution_count": 104,
   "id": "aa10ce75-20c9-4e15-aace-a3c8af914134",
   "metadata": {},
   "outputs": [
    {
     "data": {
      "text/plain": [
       "(55289, 120)"
      ]
     },
     "execution_count": 104,
     "metadata": {},
     "output_type": "execute_result"
    }
   ],
   "source": [
    "X.shape"
   ]
  },
  {
   "cell_type": "code",
   "execution_count": 105,
   "id": "2df7bd24-79c5-40c2-92af-6b3415d0c3fe",
   "metadata": {},
   "outputs": [],
   "source": [
    "X_train_all, X_test, y_train_all, y_test = train_test_split(X, y, test_size=0.33, random_state=42)\n"
   ]
  },
  {
   "cell_type": "code",
   "execution_count": 106,
   "id": "c370a93b-0123-4373-9694-4492f6fcc5ae",
   "metadata": {},
   "outputs": [
    {
     "data": {
      "text/plain": [
       "(37043, 120)"
      ]
     },
     "execution_count": 106,
     "metadata": {},
     "output_type": "execute_result"
    }
   ],
   "source": [
    "X_train_all.shape"
   ]
  },
  {
   "cell_type": "code",
   "execution_count": 107,
   "id": "035089a0-ce57-49e2-a6ae-9ca12e014a8e",
   "metadata": {},
   "outputs": [],
   "source": [
    "X_valid, X_train = X_train_all[:4000], X_train_all[4000:] \n",
    "y_valid, y_train = y_train_all[:4000], y_train_all[4000:] "
   ]
  },
  {
   "cell_type": "code",
   "execution_count": 109,
   "id": "c04ba1ea-7490-4438-93a0-03748bb9e352",
   "metadata": {},
   "outputs": [
    {
     "name": "stdout",
     "output_type": "stream",
     "text": [
      "Epoch 1/30\n",
      "3305/3305 [==============================] - 5s 1ms/step - loss: 0.5424 - recall: 0.3266 - val_loss: 0.5291 - val_recall: 0.4813\n",
      "Epoch 2/30\n",
      "3305/3305 [==============================] - 4s 1ms/step - loss: 0.5288 - recall: 0.3424 - val_loss: 0.5241 - val_recall: 0.2914\n",
      "Epoch 3/30\n",
      "3305/3305 [==============================] - 4s 1ms/step - loss: 0.5221 - recall: 0.3479 - val_loss: 0.5221 - val_recall: 0.4246\n",
      "Epoch 4/30\n",
      "3305/3305 [==============================] - 4s 1ms/step - loss: 0.5161 - recall: 0.3883 - val_loss: 0.5187 - val_recall: 0.4105\n",
      "Epoch 5/30\n",
      "3305/3305 [==============================] - 4s 1ms/step - loss: 0.5106 - recall: 0.3987 - val_loss: 0.5300 - val_recall: 0.3955\n",
      "Epoch 6/30\n",
      "3305/3305 [==============================] - 4s 1ms/step - loss: 0.5034 - recall: 0.4181 - val_loss: 0.5259 - val_recall: 0.4313\n",
      "Epoch 7/30\n",
      "3305/3305 [==============================] - 4s 1ms/step - loss: 0.4974 - recall: 0.4306 - val_loss: 0.5380 - val_recall: 0.5154\n",
      "Epoch 8/30\n",
      "3305/3305 [==============================] - 4s 1ms/step - loss: 0.4894 - recall: 0.4607 - val_loss: 0.5277 - val_recall: 0.3755\n",
      "Epoch 9/30\n",
      "3305/3305 [==============================] - 4s 1ms/step - loss: 0.4812 - recall: 0.4768 - val_loss: 0.5368 - val_recall: 0.4555\n",
      "Epoch 10/30\n",
      "3305/3305 [==============================] - 4s 1ms/step - loss: 0.4725 - recall: 0.5032 - val_loss: 0.5382 - val_recall: 0.4338\n",
      "Epoch 11/30\n",
      "3305/3305 [==============================] - 4s 1ms/step - loss: 0.4632 - recall: 0.5233 - val_loss: 0.5492 - val_recall: 0.4729\n",
      "Epoch 12/30\n",
      "3305/3305 [==============================] - 4s 1ms/step - loss: 0.4517 - recall: 0.5428 - val_loss: 0.5641 - val_recall: 0.4580\n",
      "Epoch 13/30\n",
      "3305/3305 [==============================] - 4s 1ms/step - loss: 0.4418 - recall: 0.5527 - val_loss: 0.5702 - val_recall: 0.4863\n",
      "Epoch 14/30\n",
      "3305/3305 [==============================] - 4s 1ms/step - loss: 0.4314 - recall: 0.5760 - val_loss: 0.5841 - val_recall: 0.4380\n",
      "Epoch 15/30\n",
      "3305/3305 [==============================] - 4s 1ms/step - loss: 0.4213 - recall: 0.5921 - val_loss: 0.5958 - val_recall: 0.4355\n",
      "Epoch 16/30\n",
      "3305/3305 [==============================] - 4s 1ms/step - loss: 0.4115 - recall: 0.6080 - val_loss: 0.6196 - val_recall: 0.4388\n",
      "Epoch 17/30\n",
      "3305/3305 [==============================] - 4s 1ms/step - loss: 0.3986 - recall: 0.6276 - val_loss: 0.6749 - val_recall: 0.4488\n",
      "Epoch 18/30\n",
      "3305/3305 [==============================] - 4s 1ms/step - loss: 0.3893 - recall: 0.6303 - val_loss: 0.6803 - val_recall: 0.4496\n",
      "Epoch 19/30\n",
      "3305/3305 [==============================] - 4s 1ms/step - loss: 0.3807 - recall: 0.6449 - val_loss: 0.6838 - val_recall: 0.4438\n",
      "Epoch 20/30\n",
      "3305/3305 [==============================] - 4s 1ms/step - loss: 0.3699 - recall: 0.6599 - val_loss: 0.6998 - val_recall: 0.4471\n",
      "Epoch 21/30\n",
      "3305/3305 [==============================] - 4s 1ms/step - loss: 0.3589 - recall: 0.6731 - val_loss: 0.7256 - val_recall: 0.4330\n",
      "Epoch 22/30\n",
      "3305/3305 [==============================] - 4s 1ms/step - loss: 0.3499 - recall: 0.6817 - val_loss: 0.7768 - val_recall: 0.4546\n",
      "Epoch 23/30\n",
      "3305/3305 [==============================] - 4s 1ms/step - loss: 0.3411 - recall: 0.6889 - val_loss: 0.7723 - val_recall: 0.4530\n",
      "Epoch 24/30\n",
      "3305/3305 [==============================] - 4s 1ms/step - loss: 0.3332 - recall: 0.6982 - val_loss: 0.8300 - val_recall: 0.4580\n",
      "Epoch 25/30\n",
      "3305/3305 [==============================] - 4s 1ms/step - loss: 0.3261 - recall: 0.7081 - val_loss: 0.8424 - val_recall: 0.4613\n",
      "Epoch 26/30\n",
      "3305/3305 [==============================] - 4s 1ms/step - loss: 0.3207 - recall: 0.7116 - val_loss: 0.8558 - val_recall: 0.4180\n",
      "Epoch 27/30\n",
      "3305/3305 [==============================] - 4s 1ms/step - loss: 0.3092 - recall: 0.7195 - val_loss: 0.9358 - val_recall: 0.4704\n",
      "Epoch 28/30\n",
      "3305/3305 [==============================] - 4s 1ms/step - loss: 0.3051 - recall: 0.7288 - val_loss: 0.9448 - val_recall: 0.4396\n",
      "Epoch 29/30\n",
      "3305/3305 [==============================] - 6s 2ms/step - loss: 0.2958 - recall: 0.7360 - val_loss: 1.0287 - val_recall: 0.4796\n",
      "Epoch 30/30\n",
      "3305/3305 [==============================] - 4s 1ms/step - loss: 0.2931 - recall: 0.7399 - val_loss: 1.0020 - val_recall: 0.4738\n"
     ]
    }
   ],
   "source": [
    "# create model\n",
    "model = Sequential()\n",
    "model.add(Dense(120, input_dim=120, activation='relu'))\n",
    "model.add(Dense(100, activation='relu'))\n",
    "model.add(Dense(60, activation='relu'))\n",
    "model.add(Dense(10, activation='relu'))\n",
    "model.add(Dense(1, activation='sigmoid'))\n",
    "\n",
    "# Early stopping\n",
    "es = EarlyStopping(monitor='val_recall', mode='max', verbose=1, patience=3)\n",
    "# Compile model\n",
    "model.compile(loss='binary_crossentropy', optimizer='adam', metrics=['Recall'])\n",
    "# Fit the model\n",
    "\n",
    "#history = model.fit(X_train, y_train, validation_data=(X_valid,y_valid), epochs=30, batch_size=10, callbacks=[es])\n",
    "history = model.fit(X_train, y_train, validation_data=(X_valid,y_valid), epochs=30, batch_size=10)"
   ]
  },
  {
   "cell_type": "code",
   "execution_count": 110,
   "id": "773fa191-78c1-41f3-ab74-2c8cf86ec230",
   "metadata": {},
   "outputs": [
    {
     "data": {
      "image/png": "[encoded data removed]",
      "text/plain": [
       "<Figure size 576x360 with 1 Axes>"
      ]
     },
     "metadata": {
      "needs_background": "light"
     },
     "output_type": "display_data"
    }
   ],
   "source": [
    "pd.DataFrame(history.history).plot(figsize=(8, 5))\n",
    "plt.grid(True)\n",
    "plt.gca().set_ylim(0, 1)\n",
    "\n",
    "plt.show()"
   ]
  },
  {
   "cell_type": "code",
   "execution_count": 111,
   "id": "b1ed9806-da34-4793-8485-f70162e24ccc",
   "metadata": {},
   "outputs": [
    {
     "name": "stdout",
     "output_type": "stream",
     "text": [
      "571/571 [==============================] - 1s 993us/step - loss: 1.0091 - recall: 0.4510\n"
     ]
    },
    {
     "data": {
      "text/plain": [
       "[1.009131908416748, 0.45101895928382874]"
      ]
     },
     "execution_count": 111,
     "metadata": {},
     "output_type": "execute_result"
    }
   ],
   "source": [
    "model.evaluate(X_test, y_test)"
   ]
  },
  {
   "cell_type": "markdown",
   "id": "b331aedf-3e1c-43cc-bb89-b738b9bb93b9",
   "metadata": {},
   "source": [
    "## Testing the model"
   ]
  },
  {
   "cell_type": "code",
   "execution_count": 112,
   "id": "fc7b44ab-78b0-411a-ac21-aa41c6684356",
   "metadata": {},
   "outputs": [
    {
     "data": {
      "text/plain": [
       "array([[0. ],\n",
       "       [0.7],\n",
       "       [0.4],\n",
       "       [0. ],\n",
       "       [0.1],\n",
       "       [0. ],\n",
       "       [0.1],\n",
       "       [0.3],\n",
       "       [0.4],\n",
       "       [0.6]], dtype=float32)"
      ]
     },
     "execution_count": 112,
     "metadata": {},
     "output_type": "execute_result"
    }
   ],
   "source": [
    "X_new = X_test[:10]\n",
    "y_proba = model.predict(X_new)\n",
    "y_proba.round(1)"
   ]
  },
  {
   "cell_type": "code",
   "execution_count": 113,
   "id": "36d8776c-1802-4291-a49a-69aaa7079da4",
   "metadata": {},
   "outputs": [
    {
     "data": {
      "text/plain": [
       "array([0, 1, 1, 0, 0, 0, 0, 0, 0, 1])"
      ]
     },
     "execution_count": 113,
     "metadata": {},
     "output_type": "execute_result"
    }
   ],
   "source": [
    "y_new = y_test[:10]\n",
    "y_new"
   ]
  }
 ],
 "metadata": {
  "kernelspec": {
   "display_name": "Python 3 (ipykernel)",
   "language": "python",
   "name": "python3"
  },
  "language_info": {
   "codemirror_mode": {
    "name": "ipython",
    "version": 3
   },
   "file_extension": ".py",
   "mimetype": "text/x-python",
   "name": "python",
   "nbconvert_exporter": "python",
   "pygments_lexer": "ipython3",
   "version": "3.9.10"
  }
 },
 "nbformat": 4,
 "nbformat_minor": 5
}
