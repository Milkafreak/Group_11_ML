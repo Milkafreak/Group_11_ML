{
 "cells": [
  {
   "cell_type": "code",
   "execution_count": 1,
   "id": "ecc3db85-7259-4e48-94c7-999903d51c12",
   "metadata": {},
   "outputs": [],
   "source": [
    "import pandas as pd\n",
    "import numpy as np\n",
    "from sklearn.model_selection import train_test_split\n",
    "from sklearn.preprocessing import StandardScaler\n",
    "from sklearn.pipeline import Pipeline\n",
    "from sklearn.preprocessing import OneHotEncoder\n",
    "from sklearn.impute import SimpleImputer\n",
    "from sklearn.compose import ColumnTransformer\n",
    "from sklearn.pipeline import FeatureUnion\n",
    "from sklearn.preprocessing import FunctionTransformer\n",
    "from sklearn.preprocessing import KBinsDiscretizer\n",
    "from sklearn.linear_model import LogisticRegressionCV\n",
    "from sklearn.linear_model import LogisticRegression\n",
    "from sklearn.base import BaseEstimator, TransformerMixin\n",
    "from sklearn.model_selection import GridSearchCV"
   ]
  },
  {
   "cell_type": "code",
   "execution_count": 2,
   "id": "56a9b939-d69e-4770-b03f-6dc75c20c1fd",
   "metadata": {},
   "outputs": [
    {
     "data": {
      "text/html": [
       "<div>\n",
       "<style scoped>\n",
       "    .dataframe tbody tr th:only-of-type {\n",
       "        vertical-align: middle;\n",
       "    }\n",
       "\n",
       "    .dataframe tbody tr th {\n",
       "        vertical-align: top;\n",
       "    }\n",
       "\n",
       "    .dataframe thead th {\n",
       "        text-align: right;\n",
       "    }\n",
       "</style>\n",
       "<table border=\"1\" class=\"dataframe\">\n",
       "  <thead>\n",
       "    <tr style=\"text-align: right;\">\n",
       "      <th></th>\n",
       "      <th>ListingKey</th>\n",
       "      <th>ListingNumber</th>\n",
       "      <th>ListingCreationDate</th>\n",
       "      <th>CreditGrade</th>\n",
       "      <th>Term</th>\n",
       "      <th>LoanStatus</th>\n",
       "      <th>ClosedDate</th>\n",
       "      <th>BorrowerAPR</th>\n",
       "      <th>BorrowerRate</th>\n",
       "      <th>LenderYield</th>\n",
       "      <th>...</th>\n",
       "      <th>LP_ServiceFees</th>\n",
       "      <th>LP_CollectionFees</th>\n",
       "      <th>LP_GrossPrincipalLoss</th>\n",
       "      <th>LP_NetPrincipalLoss</th>\n",
       "      <th>LP_NonPrincipalRecoverypayments</th>\n",
       "      <th>PercentFunded</th>\n",
       "      <th>Recommendations</th>\n",
       "      <th>InvestmentFromFriendsCount</th>\n",
       "      <th>InvestmentFromFriendsAmount</th>\n",
       "      <th>Investors</th>\n",
       "    </tr>\n",
       "  </thead>\n",
       "  <tbody>\n",
       "    <tr>\n",
       "      <th>0</th>\n",
       "      <td>1021339766868145413AB3B</td>\n",
       "      <td>193129</td>\n",
       "      <td>2007-08-26 19:09:29.263000000</td>\n",
       "      <td>C</td>\n",
       "      <td>36</td>\n",
       "      <td>Completed</td>\n",
       "      <td>2009-08-14 00:00:00</td>\n",
       "      <td>0.16516</td>\n",
       "      <td>0.1580</td>\n",
       "      <td>0.1380</td>\n",
       "      <td>...</td>\n",
       "      <td>-133.18</td>\n",
       "      <td>0.0</td>\n",
       "      <td>0.0</td>\n",
       "      <td>0.0</td>\n",
       "      <td>0.0</td>\n",
       "      <td>1.0</td>\n",
       "      <td>0</td>\n",
       "      <td>0</td>\n",
       "      <td>0.0</td>\n",
       "      <td>258</td>\n",
       "    </tr>\n",
       "    <tr>\n",
       "      <th>1</th>\n",
       "      <td>10273602499503308B223C1</td>\n",
       "      <td>1209647</td>\n",
       "      <td>2014-02-27 08:28:07.900000000</td>\n",
       "      <td>NaN</td>\n",
       "      <td>36</td>\n",
       "      <td>Current</td>\n",
       "      <td>NaN</td>\n",
       "      <td>0.12016</td>\n",
       "      <td>0.0920</td>\n",
       "      <td>0.0820</td>\n",
       "      <td>...</td>\n",
       "      <td>0.00</td>\n",
       "      <td>0.0</td>\n",
       "      <td>0.0</td>\n",
       "      <td>0.0</td>\n",
       "      <td>0.0</td>\n",
       "      <td>1.0</td>\n",
       "      <td>0</td>\n",
       "      <td>0</td>\n",
       "      <td>0.0</td>\n",
       "      <td>1</td>\n",
       "    </tr>\n",
       "    <tr>\n",
       "      <th>2</th>\n",
       "      <td>0EE9337825851032864889A</td>\n",
       "      <td>81716</td>\n",
       "      <td>2007-01-05 15:00:47.090000000</td>\n",
       "      <td>HR</td>\n",
       "      <td>36</td>\n",
       "      <td>Completed</td>\n",
       "      <td>2009-12-17 00:00:00</td>\n",
       "      <td>0.28269</td>\n",
       "      <td>0.2750</td>\n",
       "      <td>0.2400</td>\n",
       "      <td>...</td>\n",
       "      <td>-24.20</td>\n",
       "      <td>0.0</td>\n",
       "      <td>0.0</td>\n",
       "      <td>0.0</td>\n",
       "      <td>0.0</td>\n",
       "      <td>1.0</td>\n",
       "      <td>0</td>\n",
       "      <td>0</td>\n",
       "      <td>0.0</td>\n",
       "      <td>41</td>\n",
       "    </tr>\n",
       "    <tr>\n",
       "      <th>3</th>\n",
       "      <td>0EF5356002482715299901A</td>\n",
       "      <td>658116</td>\n",
       "      <td>2012-10-22 11:02:35.010000000</td>\n",
       "      <td>NaN</td>\n",
       "      <td>36</td>\n",
       "      <td>Current</td>\n",
       "      <td>NaN</td>\n",
       "      <td>0.12528</td>\n",
       "      <td>0.0974</td>\n",
       "      <td>0.0874</td>\n",
       "      <td>...</td>\n",
       "      <td>-108.01</td>\n",
       "      <td>0.0</td>\n",
       "      <td>0.0</td>\n",
       "      <td>0.0</td>\n",
       "      <td>0.0</td>\n",
       "      <td>1.0</td>\n",
       "      <td>0</td>\n",
       "      <td>0</td>\n",
       "      <td>0.0</td>\n",
       "      <td>158</td>\n",
       "    </tr>\n",
       "    <tr>\n",
       "      <th>4</th>\n",
       "      <td>0F023589499656230C5E3E2</td>\n",
       "      <td>909464</td>\n",
       "      <td>2013-09-14 18:38:39.097000000</td>\n",
       "      <td>NaN</td>\n",
       "      <td>36</td>\n",
       "      <td>Current</td>\n",
       "      <td>NaN</td>\n",
       "      <td>0.24614</td>\n",
       "      <td>0.2085</td>\n",
       "      <td>0.1985</td>\n",
       "      <td>...</td>\n",
       "      <td>-60.27</td>\n",
       "      <td>0.0</td>\n",
       "      <td>0.0</td>\n",
       "      <td>0.0</td>\n",
       "      <td>0.0</td>\n",
       "      <td>1.0</td>\n",
       "      <td>0</td>\n",
       "      <td>0</td>\n",
       "      <td>0.0</td>\n",
       "      <td>20</td>\n",
       "    </tr>\n",
       "  </tbody>\n",
       "</table>\n",
       "<p>5 rows × 81 columns</p>\n",
       "</div>"
      ],
      "text/plain": [
       "                ListingKey  ListingNumber            ListingCreationDate  \\\n",
       "0  1021339766868145413AB3B         193129  2007-08-26 19:09:29.263000000   \n",
       "1  10273602499503308B223C1        1209647  2014-02-27 08:28:07.900000000   \n",
       "2  0EE9337825851032864889A          81716  2007-01-05 15:00:47.090000000   \n",
       "3  0EF5356002482715299901A         658116  2012-10-22 11:02:35.010000000   \n",
       "4  0F023589499656230C5E3E2         909464  2013-09-14 18:38:39.097000000   \n",
       "\n",
       "  CreditGrade  Term LoanStatus           ClosedDate  BorrowerAPR  \\\n",
       "0           C    36  Completed  2009-08-14 00:00:00      0.16516   \n",
       "1         NaN    36    Current                  NaN      0.12016   \n",
       "2          HR    36  Completed  2009-12-17 00:00:00      0.28269   \n",
       "3         NaN    36    Current                  NaN      0.12528   \n",
       "4         NaN    36    Current                  NaN      0.24614   \n",
       "\n",
       "   BorrowerRate  LenderYield  ...  LP_ServiceFees  LP_CollectionFees  \\\n",
       "0        0.1580       0.1380  ...         -133.18                0.0   \n",
       "1        0.0920       0.0820  ...            0.00                0.0   \n",
       "2        0.2750       0.2400  ...          -24.20                0.0   \n",
       "3        0.0974       0.0874  ...         -108.01                0.0   \n",
       "4        0.2085       0.1985  ...          -60.27                0.0   \n",
       "\n",
       "   LP_GrossPrincipalLoss  LP_NetPrincipalLoss LP_NonPrincipalRecoverypayments  \\\n",
       "0                    0.0                  0.0                             0.0   \n",
       "1                    0.0                  0.0                             0.0   \n",
       "2                    0.0                  0.0                             0.0   \n",
       "3                    0.0                  0.0                             0.0   \n",
       "4                    0.0                  0.0                             0.0   \n",
       "\n",
       "   PercentFunded  Recommendations InvestmentFromFriendsCount  \\\n",
       "0            1.0                0                          0   \n",
       "1            1.0                0                          0   \n",
       "2            1.0                0                          0   \n",
       "3            1.0                0                          0   \n",
       "4            1.0                0                          0   \n",
       "\n",
       "  InvestmentFromFriendsAmount Investors  \n",
       "0                         0.0       258  \n",
       "1                         0.0         1  \n",
       "2                         0.0        41  \n",
       "3                         0.0       158  \n",
       "4                         0.0        20  \n",
       "\n",
       "[5 rows x 81 columns]"
      ]
     },
     "execution_count": 2,
     "metadata": {},
     "output_type": "execute_result"
    }
   ],
   "source": [
    "prosper = pd.read_csv('prosperLoanData.csv')\n",
    "prosper.head()"
   ]
  },
  {
   "cell_type": "code",
   "execution_count": 3,
   "id": "ef5b3a84-fdc5-497b-85b0-8e50814b0772",
   "metadata": {},
   "outputs": [
    {
     "data": {
      "text/html": [
       "<div>\n",
       "<style scoped>\n",
       "    .dataframe tbody tr th:only-of-type {\n",
       "        vertical-align: middle;\n",
       "    }\n",
       "\n",
       "    .dataframe tbody tr th {\n",
       "        vertical-align: top;\n",
       "    }\n",
       "\n",
       "    .dataframe thead th {\n",
       "        text-align: right;\n",
       "    }\n",
       "</style>\n",
       "<table border=\"1\" class=\"dataframe\">\n",
       "  <thead>\n",
       "    <tr style=\"text-align: right;\">\n",
       "      <th></th>\n",
       "      <th>ListingNumber</th>\n",
       "      <th>Term</th>\n",
       "      <th>BorrowerAPR</th>\n",
       "      <th>BorrowerRate</th>\n",
       "      <th>LenderYield</th>\n",
       "      <th>EstimatedEffectiveYield</th>\n",
       "      <th>EstimatedLoss</th>\n",
       "      <th>EstimatedReturn</th>\n",
       "      <th>ProsperRating (numeric)</th>\n",
       "      <th>ProsperScore</th>\n",
       "      <th>...</th>\n",
       "      <th>LP_ServiceFees</th>\n",
       "      <th>LP_CollectionFees</th>\n",
       "      <th>LP_GrossPrincipalLoss</th>\n",
       "      <th>LP_NetPrincipalLoss</th>\n",
       "      <th>LP_NonPrincipalRecoverypayments</th>\n",
       "      <th>PercentFunded</th>\n",
       "      <th>Recommendations</th>\n",
       "      <th>InvestmentFromFriendsCount</th>\n",
       "      <th>InvestmentFromFriendsAmount</th>\n",
       "      <th>Investors</th>\n",
       "    </tr>\n",
       "  </thead>\n",
       "  <tbody>\n",
       "    <tr>\n",
       "      <th>count</th>\n",
       "      <td>1.139370e+05</td>\n",
       "      <td>113937.000000</td>\n",
       "      <td>113912.000000</td>\n",
       "      <td>113937.000000</td>\n",
       "      <td>113937.000000</td>\n",
       "      <td>84853.000000</td>\n",
       "      <td>84853.000000</td>\n",
       "      <td>84853.000000</td>\n",
       "      <td>84853.000000</td>\n",
       "      <td>84853.000000</td>\n",
       "      <td>...</td>\n",
       "      <td>113937.000000</td>\n",
       "      <td>113937.000000</td>\n",
       "      <td>113937.000000</td>\n",
       "      <td>113937.000000</td>\n",
       "      <td>113937.000000</td>\n",
       "      <td>113937.000000</td>\n",
       "      <td>113937.000000</td>\n",
       "      <td>113937.000000</td>\n",
       "      <td>113937.000000</td>\n",
       "      <td>113937.000000</td>\n",
       "    </tr>\n",
       "    <tr>\n",
       "      <th>mean</th>\n",
       "      <td>6.278857e+05</td>\n",
       "      <td>40.830248</td>\n",
       "      <td>0.218828</td>\n",
       "      <td>0.192764</td>\n",
       "      <td>0.182701</td>\n",
       "      <td>0.168661</td>\n",
       "      <td>0.080306</td>\n",
       "      <td>0.096068</td>\n",
       "      <td>4.072243</td>\n",
       "      <td>5.950067</td>\n",
       "      <td>...</td>\n",
       "      <td>-54.725641</td>\n",
       "      <td>-14.242698</td>\n",
       "      <td>700.446342</td>\n",
       "      <td>681.420499</td>\n",
       "      <td>25.142686</td>\n",
       "      <td>0.998584</td>\n",
       "      <td>0.048027</td>\n",
       "      <td>0.023460</td>\n",
       "      <td>16.550751</td>\n",
       "      <td>80.475228</td>\n",
       "    </tr>\n",
       "    <tr>\n",
       "      <th>std</th>\n",
       "      <td>3.280762e+05</td>\n",
       "      <td>10.436212</td>\n",
       "      <td>0.080364</td>\n",
       "      <td>0.074818</td>\n",
       "      <td>0.074516</td>\n",
       "      <td>0.068467</td>\n",
       "      <td>0.046764</td>\n",
       "      <td>0.030403</td>\n",
       "      <td>1.673227</td>\n",
       "      <td>2.376501</td>\n",
       "      <td>...</td>\n",
       "      <td>60.675425</td>\n",
       "      <td>109.232758</td>\n",
       "      <td>2388.513831</td>\n",
       "      <td>2357.167068</td>\n",
       "      <td>275.657937</td>\n",
       "      <td>0.017919</td>\n",
       "      <td>0.332353</td>\n",
       "      <td>0.232412</td>\n",
       "      <td>294.545422</td>\n",
       "      <td>103.239020</td>\n",
       "    </tr>\n",
       "    <tr>\n",
       "      <th>min</th>\n",
       "      <td>4.000000e+00</td>\n",
       "      <td>12.000000</td>\n",
       "      <td>0.006530</td>\n",
       "      <td>0.000000</td>\n",
       "      <td>-0.010000</td>\n",
       "      <td>-0.182700</td>\n",
       "      <td>0.004900</td>\n",
       "      <td>-0.182700</td>\n",
       "      <td>1.000000</td>\n",
       "      <td>1.000000</td>\n",
       "      <td>...</td>\n",
       "      <td>-664.870000</td>\n",
       "      <td>-9274.750000</td>\n",
       "      <td>-94.200000</td>\n",
       "      <td>-954.550000</td>\n",
       "      <td>0.000000</td>\n",
       "      <td>0.700000</td>\n",
       "      <td>0.000000</td>\n",
       "      <td>0.000000</td>\n",
       "      <td>0.000000</td>\n",
       "      <td>1.000000</td>\n",
       "    </tr>\n",
       "    <tr>\n",
       "      <th>25%</th>\n",
       "      <td>4.009190e+05</td>\n",
       "      <td>36.000000</td>\n",
       "      <td>0.156290</td>\n",
       "      <td>0.134000</td>\n",
       "      <td>0.124200</td>\n",
       "      <td>0.115670</td>\n",
       "      <td>0.042400</td>\n",
       "      <td>0.074080</td>\n",
       "      <td>3.000000</td>\n",
       "      <td>4.000000</td>\n",
       "      <td>...</td>\n",
       "      <td>-73.180000</td>\n",
       "      <td>0.000000</td>\n",
       "      <td>0.000000</td>\n",
       "      <td>0.000000</td>\n",
       "      <td>0.000000</td>\n",
       "      <td>1.000000</td>\n",
       "      <td>0.000000</td>\n",
       "      <td>0.000000</td>\n",
       "      <td>0.000000</td>\n",
       "      <td>2.000000</td>\n",
       "    </tr>\n",
       "    <tr>\n",
       "      <th>50%</th>\n",
       "      <td>6.005540e+05</td>\n",
       "      <td>36.000000</td>\n",
       "      <td>0.209760</td>\n",
       "      <td>0.184000</td>\n",
       "      <td>0.173000</td>\n",
       "      <td>0.161500</td>\n",
       "      <td>0.072400</td>\n",
       "      <td>0.091700</td>\n",
       "      <td>4.000000</td>\n",
       "      <td>6.000000</td>\n",
       "      <td>...</td>\n",
       "      <td>-34.440000</td>\n",
       "      <td>0.000000</td>\n",
       "      <td>0.000000</td>\n",
       "      <td>0.000000</td>\n",
       "      <td>0.000000</td>\n",
       "      <td>1.000000</td>\n",
       "      <td>0.000000</td>\n",
       "      <td>0.000000</td>\n",
       "      <td>0.000000</td>\n",
       "      <td>44.000000</td>\n",
       "    </tr>\n",
       "    <tr>\n",
       "      <th>75%</th>\n",
       "      <td>8.926340e+05</td>\n",
       "      <td>36.000000</td>\n",
       "      <td>0.283810</td>\n",
       "      <td>0.250000</td>\n",
       "      <td>0.240000</td>\n",
       "      <td>0.224300</td>\n",
       "      <td>0.112000</td>\n",
       "      <td>0.116600</td>\n",
       "      <td>5.000000</td>\n",
       "      <td>8.000000</td>\n",
       "      <td>...</td>\n",
       "      <td>-13.920000</td>\n",
       "      <td>0.000000</td>\n",
       "      <td>0.000000</td>\n",
       "      <td>0.000000</td>\n",
       "      <td>0.000000</td>\n",
       "      <td>1.000000</td>\n",
       "      <td>0.000000</td>\n",
       "      <td>0.000000</td>\n",
       "      <td>0.000000</td>\n",
       "      <td>115.000000</td>\n",
       "    </tr>\n",
       "    <tr>\n",
       "      <th>max</th>\n",
       "      <td>1.255725e+06</td>\n",
       "      <td>60.000000</td>\n",
       "      <td>0.512290</td>\n",
       "      <td>0.497500</td>\n",
       "      <td>0.492500</td>\n",
       "      <td>0.319900</td>\n",
       "      <td>0.366000</td>\n",
       "      <td>0.283700</td>\n",
       "      <td>7.000000</td>\n",
       "      <td>11.000000</td>\n",
       "      <td>...</td>\n",
       "      <td>32.060000</td>\n",
       "      <td>0.000000</td>\n",
       "      <td>25000.000000</td>\n",
       "      <td>25000.000000</td>\n",
       "      <td>21117.900000</td>\n",
       "      <td>1.012500</td>\n",
       "      <td>39.000000</td>\n",
       "      <td>33.000000</td>\n",
       "      <td>25000.000000</td>\n",
       "      <td>1189.000000</td>\n",
       "    </tr>\n",
       "  </tbody>\n",
       "</table>\n",
       "<p>8 rows × 61 columns</p>\n",
       "</div>"
      ],
      "text/plain": [
       "       ListingNumber           Term    BorrowerAPR   BorrowerRate  \\\n",
       "count   1.139370e+05  113937.000000  113912.000000  113937.000000   \n",
       "mean    6.278857e+05      40.830248       0.218828       0.192764   \n",
       "std     3.280762e+05      10.436212       0.080364       0.074818   \n",
       "min     4.000000e+00      12.000000       0.006530       0.000000   \n",
       "25%     4.009190e+05      36.000000       0.156290       0.134000   \n",
       "50%     6.005540e+05      36.000000       0.209760       0.184000   \n",
       "75%     8.926340e+05      36.000000       0.283810       0.250000   \n",
       "max     1.255725e+06      60.000000       0.512290       0.497500   \n",
       "\n",
       "         LenderYield  EstimatedEffectiveYield  EstimatedLoss  EstimatedReturn  \\\n",
       "count  113937.000000             84853.000000   84853.000000     84853.000000   \n",
       "mean        0.182701                 0.168661       0.080306         0.096068   \n",
       "std         0.074516                 0.068467       0.046764         0.030403   \n",
       "min        -0.010000                -0.182700       0.004900        -0.182700   \n",
       "25%         0.124200                 0.115670       0.042400         0.074080   \n",
       "50%         0.173000                 0.161500       0.072400         0.091700   \n",
       "75%         0.240000                 0.224300       0.112000         0.116600   \n",
       "max         0.492500                 0.319900       0.366000         0.283700   \n",
       "\n",
       "       ProsperRating (numeric)  ProsperScore  ...  LP_ServiceFees  \\\n",
       "count             84853.000000  84853.000000  ...   113937.000000   \n",
       "mean                  4.072243      5.950067  ...      -54.725641   \n",
       "std                   1.673227      2.376501  ...       60.675425   \n",
       "min                   1.000000      1.000000  ...     -664.870000   \n",
       "25%                   3.000000      4.000000  ...      -73.180000   \n",
       "50%                   4.000000      6.000000  ...      -34.440000   \n",
       "75%                   5.000000      8.000000  ...      -13.920000   \n",
       "max                   7.000000     11.000000  ...       32.060000   \n",
       "\n",
       "       LP_CollectionFees  LP_GrossPrincipalLoss  LP_NetPrincipalLoss  \\\n",
       "count      113937.000000          113937.000000        113937.000000   \n",
       "mean          -14.242698             700.446342           681.420499   \n",
       "std           109.232758            2388.513831          2357.167068   \n",
       "min         -9274.750000             -94.200000          -954.550000   \n",
       "25%             0.000000               0.000000             0.000000   \n",
       "50%             0.000000               0.000000             0.000000   \n",
       "75%             0.000000               0.000000             0.000000   \n",
       "max             0.000000           25000.000000         25000.000000   \n",
       "\n",
       "       LP_NonPrincipalRecoverypayments  PercentFunded  Recommendations  \\\n",
       "count                    113937.000000  113937.000000    113937.000000   \n",
       "mean                         25.142686       0.998584         0.048027   \n",
       "std                         275.657937       0.017919         0.332353   \n",
       "min                           0.000000       0.700000         0.000000   \n",
       "25%                           0.000000       1.000000         0.000000   \n",
       "50%                           0.000000       1.000000         0.000000   \n",
       "75%                           0.000000       1.000000         0.000000   \n",
       "max                       21117.900000       1.012500        39.000000   \n",
       "\n",
       "       InvestmentFromFriendsCount  InvestmentFromFriendsAmount      Investors  \n",
       "count               113937.000000                113937.000000  113937.000000  \n",
       "mean                     0.023460                    16.550751      80.475228  \n",
       "std                      0.232412                   294.545422     103.239020  \n",
       "min                      0.000000                     0.000000       1.000000  \n",
       "25%                      0.000000                     0.000000       2.000000  \n",
       "50%                      0.000000                     0.000000      44.000000  \n",
       "75%                      0.000000                     0.000000     115.000000  \n",
       "max                     33.000000                 25000.000000    1189.000000  \n",
       "\n",
       "[8 rows x 61 columns]"
      ]
     },
     "execution_count": 3,
     "metadata": {},
     "output_type": "execute_result"
    }
   ],
   "source": [
    "prosper.describe()"
   ]
  },
  {
   "cell_type": "code",
   "execution_count": 4,
   "id": "31020d41-d484-4fed-a4cb-60985efab584",
   "metadata": {},
   "outputs": [],
   "source": [
    "prosper = prosper.drop_duplicates()"
   ]
  },
  {
   "cell_type": "code",
   "execution_count": 5,
   "id": "ae7bedd3-bbef-4ba3-8346-ca117b4bb491",
   "metadata": {},
   "outputs": [
    {
     "data": {
      "text/html": [
       "<div>\n",
       "<style scoped>\n",
       "    .dataframe tbody tr th:only-of-type {\n",
       "        vertical-align: middle;\n",
       "    }\n",
       "\n",
       "    .dataframe tbody tr th {\n",
       "        vertical-align: top;\n",
       "    }\n",
       "\n",
       "    .dataframe thead th {\n",
       "        text-align: right;\n",
       "    }\n",
       "</style>\n",
       "<table border=\"1\" class=\"dataframe\">\n",
       "  <thead>\n",
       "    <tr style=\"text-align: right;\">\n",
       "      <th></th>\n",
       "      <th>ListingNumber</th>\n",
       "      <th>Term</th>\n",
       "      <th>BorrowerAPR</th>\n",
       "      <th>BorrowerRate</th>\n",
       "      <th>LenderYield</th>\n",
       "      <th>EstimatedEffectiveYield</th>\n",
       "      <th>EstimatedLoss</th>\n",
       "      <th>EstimatedReturn</th>\n",
       "      <th>ProsperRating (numeric)</th>\n",
       "      <th>ProsperScore</th>\n",
       "      <th>...</th>\n",
       "      <th>LP_ServiceFees</th>\n",
       "      <th>LP_CollectionFees</th>\n",
       "      <th>LP_GrossPrincipalLoss</th>\n",
       "      <th>LP_NetPrincipalLoss</th>\n",
       "      <th>LP_NonPrincipalRecoverypayments</th>\n",
       "      <th>PercentFunded</th>\n",
       "      <th>Recommendations</th>\n",
       "      <th>InvestmentFromFriendsCount</th>\n",
       "      <th>InvestmentFromFriendsAmount</th>\n",
       "      <th>Investors</th>\n",
       "    </tr>\n",
       "  </thead>\n",
       "  <tbody>\n",
       "    <tr>\n",
       "      <th>ListingNumber</th>\n",
       "      <td>1.000000</td>\n",
       "      <td>0.320191</td>\n",
       "      <td>-0.029314</td>\n",
       "      <td>-0.112241</td>\n",
       "      <td>-0.111384</td>\n",
       "      <td>-0.216325</td>\n",
       "      <td>-0.239349</td>\n",
       "      <td>-0.459091</td>\n",
       "      <td>0.209065</td>\n",
       "      <td>-0.106398</td>\n",
       "      <td>...</td>\n",
       "      <td>0.203554</td>\n",
       "      <td>0.103618</td>\n",
       "      <td>-0.250597</td>\n",
       "      <td>-0.246585</td>\n",
       "      <td>-0.095735</td>\n",
       "      <td>0.014031</td>\n",
       "      <td>-0.125503</td>\n",
       "      <td>-0.092433</td>\n",
       "      <td>-0.053279</td>\n",
       "      <td>-0.277339</td>\n",
       "    </tr>\n",
       "    <tr>\n",
       "      <th>Term</th>\n",
       "      <td>0.320191</td>\n",
       "      <td>1.000000</td>\n",
       "      <td>-0.010810</td>\n",
       "      <td>0.020376</td>\n",
       "      <td>0.020849</td>\n",
       "      <td>0.057197</td>\n",
       "      <td>-0.108414</td>\n",
       "      <td>0.154055</td>\n",
       "      <td>0.080679</td>\n",
       "      <td>0.028256</td>\n",
       "      <td>...</td>\n",
       "      <td>-0.170285</td>\n",
       "      <td>0.035649</td>\n",
       "      <td>-0.037718</td>\n",
       "      <td>-0.035344</td>\n",
       "      <td>-0.034074</td>\n",
       "      <td>-0.029188</td>\n",
       "      <td>-0.056543</td>\n",
       "      <td>-0.043445</td>\n",
       "      <td>-0.024438</td>\n",
       "      <td>-0.044565</td>\n",
       "    </tr>\n",
       "    <tr>\n",
       "      <th>BorrowerAPR</th>\n",
       "      <td>-0.029314</td>\n",
       "      <td>-0.010810</td>\n",
       "      <td>1.000000</td>\n",
       "      <td>0.989817</td>\n",
       "      <td>0.989319</td>\n",
       "      <td>0.894989</td>\n",
       "      <td>0.949343</td>\n",
       "      <td>0.793796</td>\n",
       "      <td>-0.962202</td>\n",
       "      <td>-0.669848</td>\n",
       "      <td>...</td>\n",
       "      <td>0.118539</td>\n",
       "      <td>-0.041308</td>\n",
       "      <td>0.066924</td>\n",
       "      <td>0.067016</td>\n",
       "      <td>0.028414</td>\n",
       "      <td>-0.028152</td>\n",
       "      <td>-0.044564</td>\n",
       "      <td>-0.047062</td>\n",
       "      <td>-0.032024</td>\n",
       "      <td>-0.309448</td>\n",
       "    </tr>\n",
       "    <tr>\n",
       "      <th>BorrowerRate</th>\n",
       "      <td>-0.112241</td>\n",
       "      <td>0.020376</td>\n",
       "      <td>0.989817</td>\n",
       "      <td>1.000000</td>\n",
       "      <td>0.999207</td>\n",
       "      <td>0.894608</td>\n",
       "      <td>0.945047</td>\n",
       "      <td>0.817298</td>\n",
       "      <td>-0.953102</td>\n",
       "      <td>-0.651294</td>\n",
       "      <td>...</td>\n",
       "      <td>0.097843</td>\n",
       "      <td>-0.053204</td>\n",
       "      <td>0.100209</td>\n",
       "      <td>0.099890</td>\n",
       "      <td>0.041944</td>\n",
       "      <td>-0.028906</td>\n",
       "      <td>-0.030953</td>\n",
       "      <td>-0.037653</td>\n",
       "      <td>-0.026716</td>\n",
       "      <td>-0.276258</td>\n",
       "    </tr>\n",
       "    <tr>\n",
       "      <th>LenderYield</th>\n",
       "      <td>-0.111384</td>\n",
       "      <td>0.020849</td>\n",
       "      <td>0.989319</td>\n",
       "      <td>0.999207</td>\n",
       "      <td>1.000000</td>\n",
       "      <td>0.894669</td>\n",
       "      <td>0.945059</td>\n",
       "      <td>0.817282</td>\n",
       "      <td>-0.953116</td>\n",
       "      <td>-0.651342</td>\n",
       "      <td>...</td>\n",
       "      <td>0.099716</td>\n",
       "      <td>-0.052780</td>\n",
       "      <td>0.099078</td>\n",
       "      <td>0.098775</td>\n",
       "      <td>0.040909</td>\n",
       "      <td>-0.029092</td>\n",
       "      <td>-0.031445</td>\n",
       "      <td>-0.037644</td>\n",
       "      <td>-0.026837</td>\n",
       "      <td>-0.276219</td>\n",
       "    </tr>\n",
       "    <tr>\n",
       "      <th>...</th>\n",
       "      <td>...</td>\n",
       "      <td>...</td>\n",
       "      <td>...</td>\n",
       "      <td>...</td>\n",
       "      <td>...</td>\n",
       "      <td>...</td>\n",
       "      <td>...</td>\n",
       "      <td>...</td>\n",
       "      <td>...</td>\n",
       "      <td>...</td>\n",
       "      <td>...</td>\n",
       "      <td>...</td>\n",
       "      <td>...</td>\n",
       "      <td>...</td>\n",
       "      <td>...</td>\n",
       "      <td>...</td>\n",
       "      <td>...</td>\n",
       "      <td>...</td>\n",
       "      <td>...</td>\n",
       "      <td>...</td>\n",
       "      <td>...</td>\n",
       "    </tr>\n",
       "    <tr>\n",
       "      <th>PercentFunded</th>\n",
       "      <td>0.014031</td>\n",
       "      <td>-0.029188</td>\n",
       "      <td>-0.028152</td>\n",
       "      <td>-0.028906</td>\n",
       "      <td>-0.029092</td>\n",
       "      <td>-0.043223</td>\n",
       "      <td>-0.022595</td>\n",
       "      <td>-0.038997</td>\n",
       "      <td>0.012345</td>\n",
       "      <td>-0.019357</td>\n",
       "      <td>...</td>\n",
       "      <td>0.069340</td>\n",
       "      <td>0.006108</td>\n",
       "      <td>-0.012970</td>\n",
       "      <td>-0.013407</td>\n",
       "      <td>0.000832</td>\n",
       "      <td>1.000000</td>\n",
       "      <td>0.009690</td>\n",
       "      <td>0.001683</td>\n",
       "      <td>0.003372</td>\n",
       "      <td>-0.049552</td>\n",
       "    </tr>\n",
       "    <tr>\n",
       "      <th>Recommendations</th>\n",
       "      <td>-0.125503</td>\n",
       "      <td>-0.056543</td>\n",
       "      <td>-0.044564</td>\n",
       "      <td>-0.030953</td>\n",
       "      <td>-0.031445</td>\n",
       "      <td>-0.047007</td>\n",
       "      <td>0.004009</td>\n",
       "      <td>-0.020367</td>\n",
       "      <td>0.004808</td>\n",
       "      <td>0.026668</td>\n",
       "      <td>...</td>\n",
       "      <td>-0.038381</td>\n",
       "      <td>-0.015777</td>\n",
       "      <td>0.041081</td>\n",
       "      <td>0.040610</td>\n",
       "      <td>0.016752</td>\n",
       "      <td>0.009690</td>\n",
       "      <td>1.000000</td>\n",
       "      <td>0.718110</td>\n",
       "      <td>0.322056</td>\n",
       "      <td>0.073369</td>\n",
       "    </tr>\n",
       "    <tr>\n",
       "      <th>InvestmentFromFriendsCount</th>\n",
       "      <td>-0.092433</td>\n",
       "      <td>-0.043445</td>\n",
       "      <td>-0.047062</td>\n",
       "      <td>-0.037653</td>\n",
       "      <td>-0.037644</td>\n",
       "      <td>-0.064273</td>\n",
       "      <td>0.009332</td>\n",
       "      <td>-0.043574</td>\n",
       "      <td>0.007931</td>\n",
       "      <td>0.028435</td>\n",
       "      <td>...</td>\n",
       "      <td>-0.034581</td>\n",
       "      <td>-0.008220</td>\n",
       "      <td>0.020711</td>\n",
       "      <td>0.020132</td>\n",
       "      <td>0.010039</td>\n",
       "      <td>0.001683</td>\n",
       "      <td>0.718110</td>\n",
       "      <td>1.000000</td>\n",
       "      <td>0.483487</td>\n",
       "      <td>0.058550</td>\n",
       "    </tr>\n",
       "    <tr>\n",
       "      <th>InvestmentFromFriendsAmount</th>\n",
       "      <td>-0.053279</td>\n",
       "      <td>-0.024438</td>\n",
       "      <td>-0.032024</td>\n",
       "      <td>-0.026716</td>\n",
       "      <td>-0.026837</td>\n",
       "      <td>-0.038378</td>\n",
       "      <td>0.024549</td>\n",
       "      <td>-0.032208</td>\n",
       "      <td>-0.010421</td>\n",
       "      <td>0.003107</td>\n",
       "      <td>...</td>\n",
       "      <td>-0.056509</td>\n",
       "      <td>-0.010086</td>\n",
       "      <td>0.028645</td>\n",
       "      <td>0.028185</td>\n",
       "      <td>0.018566</td>\n",
       "      <td>0.003372</td>\n",
       "      <td>0.322056</td>\n",
       "      <td>0.483487</td>\n",
       "      <td>1.000000</td>\n",
       "      <td>0.011994</td>\n",
       "    </tr>\n",
       "    <tr>\n",
       "      <th>Investors</th>\n",
       "      <td>-0.277339</td>\n",
       "      <td>-0.044565</td>\n",
       "      <td>-0.309448</td>\n",
       "      <td>-0.276258</td>\n",
       "      <td>-0.276219</td>\n",
       "      <td>-0.267445</td>\n",
       "      <td>-0.277477</td>\n",
       "      <td>-0.094840</td>\n",
       "      <td>0.309850</td>\n",
       "      <td>0.321501</td>\n",
       "      <td>...</td>\n",
       "      <td>-0.524494</td>\n",
       "      <td>-0.074270</td>\n",
       "      <td>0.219366</td>\n",
       "      <td>0.215611</td>\n",
       "      <td>0.066809</td>\n",
       "      <td>-0.049552</td>\n",
       "      <td>0.073369</td>\n",
       "      <td>0.058550</td>\n",
       "      <td>0.011994</td>\n",
       "      <td>1.000000</td>\n",
       "    </tr>\n",
       "  </tbody>\n",
       "</table>\n",
       "<p>64 rows × 64 columns</p>\n",
       "</div>"
      ],
      "text/plain": [
       "                             ListingNumber      Term  BorrowerAPR  \\\n",
       "ListingNumber                     1.000000  0.320191    -0.029314   \n",
       "Term                              0.320191  1.000000    -0.010810   \n",
       "BorrowerAPR                      -0.029314 -0.010810     1.000000   \n",
       "BorrowerRate                     -0.112241  0.020376     0.989817   \n",
       "LenderYield                      -0.111384  0.020849     0.989319   \n",
       "...                                    ...       ...          ...   \n",
       "PercentFunded                     0.014031 -0.029188    -0.028152   \n",
       "Recommendations                  -0.125503 -0.056543    -0.044564   \n",
       "InvestmentFromFriendsCount       -0.092433 -0.043445    -0.047062   \n",
       "InvestmentFromFriendsAmount      -0.053279 -0.024438    -0.032024   \n",
       "Investors                        -0.277339 -0.044565    -0.309448   \n",
       "\n",
       "                             BorrowerRate  LenderYield  \\\n",
       "ListingNumber                   -0.112241    -0.111384   \n",
       "Term                             0.020376     0.020849   \n",
       "BorrowerAPR                      0.989817     0.989319   \n",
       "BorrowerRate                     1.000000     0.999207   \n",
       "LenderYield                      0.999207     1.000000   \n",
       "...                                   ...          ...   \n",
       "PercentFunded                   -0.028906    -0.029092   \n",
       "Recommendations                 -0.030953    -0.031445   \n",
       "InvestmentFromFriendsCount      -0.037653    -0.037644   \n",
       "InvestmentFromFriendsAmount     -0.026716    -0.026837   \n",
       "Investors                       -0.276258    -0.276219   \n",
       "\n",
       "                             EstimatedEffectiveYield  EstimatedLoss  \\\n",
       "ListingNumber                              -0.216325      -0.239349   \n",
       "Term                                        0.057197      -0.108414   \n",
       "BorrowerAPR                                 0.894989       0.949343   \n",
       "BorrowerRate                                0.894608       0.945047   \n",
       "LenderYield                                 0.894669       0.945059   \n",
       "...                                              ...            ...   \n",
       "PercentFunded                              -0.043223      -0.022595   \n",
       "Recommendations                            -0.047007       0.004009   \n",
       "InvestmentFromFriendsCount                 -0.064273       0.009332   \n",
       "InvestmentFromFriendsAmount                -0.038378       0.024549   \n",
       "Investors                                  -0.267445      -0.277477   \n",
       "\n",
       "                             EstimatedReturn  ProsperRating (numeric)  \\\n",
       "ListingNumber                      -0.459091                 0.209065   \n",
       "Term                                0.154055                 0.080679   \n",
       "BorrowerAPR                         0.793796                -0.962202   \n",
       "BorrowerRate                        0.817298                -0.953102   \n",
       "LenderYield                         0.817282                -0.953116   \n",
       "...                                      ...                      ...   \n",
       "PercentFunded                      -0.038997                 0.012345   \n",
       "Recommendations                    -0.020367                 0.004808   \n",
       "InvestmentFromFriendsCount         -0.043574                 0.007931   \n",
       "InvestmentFromFriendsAmount        -0.032208                -0.010421   \n",
       "Investors                          -0.094840                 0.309850   \n",
       "\n",
       "                             ProsperScore  ...  LP_ServiceFees  \\\n",
       "ListingNumber                   -0.106398  ...        0.203554   \n",
       "Term                             0.028256  ...       -0.170285   \n",
       "BorrowerAPR                     -0.669848  ...        0.118539   \n",
       "BorrowerRate                    -0.651294  ...        0.097843   \n",
       "LenderYield                     -0.651342  ...        0.099716   \n",
       "...                                   ...  ...             ...   \n",
       "PercentFunded                   -0.019357  ...        0.069340   \n",
       "Recommendations                  0.026668  ...       -0.038381   \n",
       "InvestmentFromFriendsCount       0.028435  ...       -0.034581   \n",
       "InvestmentFromFriendsAmount      0.003107  ...       -0.056509   \n",
       "Investors                        0.321501  ...       -0.524494   \n",
       "\n",
       "                             LP_CollectionFees  LP_GrossPrincipalLoss  \\\n",
       "ListingNumber                         0.103618              -0.250597   \n",
       "Term                                  0.035649              -0.037718   \n",
       "BorrowerAPR                          -0.041308               0.066924   \n",
       "BorrowerRate                         -0.053204               0.100209   \n",
       "LenderYield                          -0.052780               0.099078   \n",
       "...                                        ...                    ...   \n",
       "PercentFunded                         0.006108              -0.012970   \n",
       "Recommendations                      -0.015777               0.041081   \n",
       "InvestmentFromFriendsCount           -0.008220               0.020711   \n",
       "InvestmentFromFriendsAmount          -0.010086               0.028645   \n",
       "Investors                            -0.074270               0.219366   \n",
       "\n",
       "                             LP_NetPrincipalLoss  \\\n",
       "ListingNumber                          -0.246585   \n",
       "Term                                   -0.035344   \n",
       "BorrowerAPR                             0.067016   \n",
       "BorrowerRate                            0.099890   \n",
       "LenderYield                             0.098775   \n",
       "...                                          ...   \n",
       "PercentFunded                          -0.013407   \n",
       "Recommendations                         0.040610   \n",
       "InvestmentFromFriendsCount              0.020132   \n",
       "InvestmentFromFriendsAmount             0.028185   \n",
       "Investors                               0.215611   \n",
       "\n",
       "                             LP_NonPrincipalRecoverypayments  PercentFunded  \\\n",
       "ListingNumber                                      -0.095735       0.014031   \n",
       "Term                                               -0.034074      -0.029188   \n",
       "BorrowerAPR                                         0.028414      -0.028152   \n",
       "BorrowerRate                                        0.041944      -0.028906   \n",
       "LenderYield                                         0.040909      -0.029092   \n",
       "...                                                      ...            ...   \n",
       "PercentFunded                                       0.000832       1.000000   \n",
       "Recommendations                                     0.016752       0.009690   \n",
       "InvestmentFromFriendsCount                          0.010039       0.001683   \n",
       "InvestmentFromFriendsAmount                         0.018566       0.003372   \n",
       "Investors                                           0.066809      -0.049552   \n",
       "\n",
       "                             Recommendations  InvestmentFromFriendsCount  \\\n",
       "ListingNumber                      -0.125503                   -0.092433   \n",
       "Term                               -0.056543                   -0.043445   \n",
       "BorrowerAPR                        -0.044564                   -0.047062   \n",
       "BorrowerRate                       -0.030953                   -0.037653   \n",
       "LenderYield                        -0.031445                   -0.037644   \n",
       "...                                      ...                         ...   \n",
       "PercentFunded                       0.009690                    0.001683   \n",
       "Recommendations                     1.000000                    0.718110   \n",
       "InvestmentFromFriendsCount          0.718110                    1.000000   \n",
       "InvestmentFromFriendsAmount         0.322056                    0.483487   \n",
       "Investors                           0.073369                    0.058550   \n",
       "\n",
       "                             InvestmentFromFriendsAmount  Investors  \n",
       "ListingNumber                                  -0.053279  -0.277339  \n",
       "Term                                           -0.024438  -0.044565  \n",
       "BorrowerAPR                                    -0.032024  -0.309448  \n",
       "BorrowerRate                                   -0.026716  -0.276258  \n",
       "LenderYield                                    -0.026837  -0.276219  \n",
       "...                                                  ...        ...  \n",
       "PercentFunded                                   0.003372  -0.049552  \n",
       "Recommendations                                 0.322056   0.073369  \n",
       "InvestmentFromFriendsCount                      0.483487   0.058550  \n",
       "InvestmentFromFriendsAmount                     1.000000   0.011994  \n",
       "Investors                                       0.011994   1.000000  \n",
       "\n",
       "[64 rows x 64 columns]"
      ]
     },
     "execution_count": 5,
     "metadata": {},
     "output_type": "execute_result"
    }
   ],
   "source": [
    "prosper.corr()"
   ]
  },
  {
   "cell_type": "code",
   "execution_count": 6,
   "id": "ec1eff5a-7292-498c-993d-b2a748746707",
   "metadata": {},
   "outputs": [
    {
     "data": {
      "text/plain": [
       "ListingKey                      object\n",
       "ListingNumber                    int64\n",
       "ListingCreationDate             object\n",
       "CreditGrade                     object\n",
       "Term                             int64\n",
       "                                ...   \n",
       "PercentFunded                  float64\n",
       "Recommendations                  int64\n",
       "InvestmentFromFriendsCount       int64\n",
       "InvestmentFromFriendsAmount    float64\n",
       "Investors                        int64\n",
       "Length: 81, dtype: object"
      ]
     },
     "execution_count": 6,
     "metadata": {},
     "output_type": "execute_result"
    }
   ],
   "source": [
    "prosper.dtypes"
   ]
  },
  {
   "cell_type": "code",
   "execution_count": 7,
   "id": "ab88c903-7549-4252-9efe-8820bd4307e6",
   "metadata": {},
   "outputs": [],
   "source": [
    "#'DateCreditPulled', 'ClosedDate','ListingCreationDate','LoanOriginationDate', 'FirstRecordedCreditLine',"
   ]
  },
  {
   "cell_type": "code",
   "execution_count": 8,
   "id": "98a9e4e5-ad61-4aaf-8b74-baeb00982491",
   "metadata": {},
   "outputs": [],
   "source": [
    "class DataFrameSelector(BaseEstimator, TransformerMixin):\n",
    "    def __init__(self, attribute_names):\n",
    "        self.attribute_names = attribute_names\n",
    "    def fit(self, X, y=None):\n",
    "        return self\n",
    "    def transform(self, X):\n",
    "        return X[self.attribute_names].values"
   ]
  },
  {
   "cell_type": "code",
   "execution_count": 40,
   "id": "f5156d77-f73d-43ab-9be0-6b5c89ad0b49",
   "metadata": {},
   "outputs": [],
   "source": [
    "numeric_features = list(prosper[['Term','BorrowerAPR',\\\n",
    "                                 'BorrowerRate','LenderYield','ListingCategory (numeric)','EmploymentStatusDuration',\\\n",
    "                                 'CreditScoreRangeLower','CreditScoreRangeUpper','CurrentCreditLines',\\\n",
    "                                 'OpenCreditLines','TotalCreditLinespast7years','OpenRevolvingAccounts','OpenRevolvingMonthlyPayment',\\\n",
    "                                 'CurrentDelinquencies','AmountDelinquent','DelinquenciesLast7Years','PublicRecordsLast10Years',\\\n",
    "                                 'PublicRecordsLast12Months','RevolvingCreditBalance','BankcardUtilization','AvailableBankcardCredit',\\\n",
    "                                 'StatedMonthlyIncome','TotalProsperLoans','TotalProsperPaymentsBilled','OnTimeProsperPayments',\\\n",
    "                                 'ProsperPaymentsLessThanOneMonthLate','ProsperPaymentsOneMonthPlusLate','ProsperPrincipalBorrowed',\\\n",
    "                                 'ProsperPrincipalOutstanding','ScorexChangeAtTimeOfListing','LoanCurrentDaysDelinquent','LoanMonthsSinceOrigination',\\\n",
    "                                 'LoanOriginalAmount','MonthlyLoanPayment','LP_CustomerPayments','LP_CustomerPrincipalPayments',\\\n",
    "                                 'LP_InterestandFees','Recommendations','InvestmentFromFriendsCount','InvestmentFromFriendsAmount','Investors']])\n",
    "                                                              \n",
    "                                 "
   ]
  },
  {
   "cell_type": "code",
   "execution_count": 10,
   "id": "452078cb-0568-47b8-a2e4-6361c5f00cc4",
   "metadata": {},
   "outputs": [
    {
     "data": {
      "text/plain": [
       "41"
      ]
     },
     "execution_count": 10,
     "metadata": {},
     "output_type": "execute_result"
    }
   ],
   "source": [
    "len(numeric_features)"
   ]
  },
  {
   "cell_type": "code",
   "execution_count": 11,
   "id": "1a274f7b-48b6-4c84-96e2-70a2ae6940b4",
   "metadata": {},
   "outputs": [],
   "source": [
    "categorical_features = list(prosper[['BorrowerState','Occupation','EmploymentStatus','IsBorrowerHomeowner',\\\n",
    "                                     'CurrentlyInGroup','IncomeVerifiable']])"
   ]
  },
  {
   "cell_type": "code",
   "execution_count": 12,
   "id": "a049d54c-18cf-4fc5-9c6f-6e15d1741884",
   "metadata": {},
   "outputs": [
    {
     "data": {
      "text/plain": [
       "6"
      ]
     },
     "execution_count": 12,
     "metadata": {},
     "output_type": "execute_result"
    }
   ],
   "source": [
    "len(categorical_features)"
   ]
  },
  {
   "cell_type": "code",
   "execution_count": 13,
   "id": "65f075fd-c635-45a4-b482-c645c1717c1d",
   "metadata": {},
   "outputs": [],
   "source": [
    "numeric_pipeline = Pipeline(steps=[\n",
    "    ('selector', DataFrameSelector(numeric_features)),\n",
    "    ('imputer', SimpleImputer(strategy='median')),\n",
    "    ('scaler', StandardScaler())])\n",
    "\n",
    "\n",
    "categorical_pipeline = Pipeline([\n",
    "        ('selector', DataFrameSelector(categorical_features)),\n",
    "        ('cat_encoder', OneHotEncoder(sparse=False,\n",
    "                                      handle_unknown='ignore')),\n",
    "    ])\n",
    "\n",
    "\n",
    "\n",
    "full_pipeline = FeatureUnion(transformer_list=[\n",
    "        (\"num_pipeline\", numeric_pipeline),\n",
    "        (\"cat_pipeline\", categorical_pipeline),\n",
    "    ])\n",
    "\n",
    "from sklearn.compose import ColumnTransformer\n",
    "\n",
    "full_pipeline2 = ColumnTransformer([\n",
    "        (\"num_pipeline\", numeric_pipeline, numeric_features ),\n",
    "        (\"cat_pipeline\", categorical_pipeline, categorical_features ),\n",
    "    ])"
   ]
  },
  {
   "cell_type": "code",
   "execution_count": 14,
   "id": "cdf48a82-4f7f-4e42-ae74-d8a96bf24bc6",
   "metadata": {},
   "outputs": [],
   "source": [
    "train_set, test_set = train_test_split(prosper, test_size=0.1, random_state=42)"
   ]
  },
  {
   "cell_type": "code",
   "execution_count": 15,
   "id": "31a82e34-b3af-4353-ac0f-443135dc5802",
   "metadata": {
    "tags": []
   },
   "outputs": [
    {
     "data": {
      "text/plain": [
       "array([[-0.46083468, -0.75366868, -0.84179769, ...,  0.        ,\n",
       "         0.        ,  1.        ],\n",
       "       [-0.46083468,  0.0543477 ,  0.10708672, ...,  0.        ,\n",
       "         0.        ,  1.        ],\n",
       "       [-0.46083468, -1.20481633, -1.13407011, ...,  0.        ,\n",
       "         0.        ,  1.        ],\n",
       "       ...,\n",
       "       [ 1.84026332, -0.16240688, -0.14781753, ...,  0.        ,\n",
       "         0.        ,  1.        ],\n",
       "       [-0.46083468, -1.51100548, -1.45570322, ...,  0.        ,\n",
       "         0.        ,  1.        ],\n",
       "       [ 1.84026332, -0.19159733, -0.11311853, ...,  0.        ,\n",
       "         0.        ,  1.        ]])"
      ]
     },
     "execution_count": 15,
     "metadata": {},
     "output_type": "execute_result"
    }
   ],
   "source": [
    "prosper_prepared = full_pipeline2.fit_transform(train_set)\n",
    "prosper_prepared"
   ]
  },
  {
   "cell_type": "code",
   "execution_count": 16,
   "id": "92c9bc7a-60a1-4bab-92cc-d38121da6821",
   "metadata": {},
   "outputs": [],
   "source": [
    "X_train = prosper_prepared\n",
    "\n",
    "y_train = train_set[[\"LoanStatus\"]].values.ravel()\n",
    "y_train = (y_train == \"Defaulted\").astype(int)\n"
   ]
  },
  {
   "cell_type": "code",
   "execution_count": 17,
   "id": "4b79fa34-f0b6-4cae-9a37-027eb5234178",
   "metadata": {},
   "outputs": [],
   "source": [
    "X_train = prosper_prepared\n",
    "\n",
    "y_train = train_set[[\"LoanStatus\"]].values.ravel()\n",
    "y_train = (y_train == \"Defaulted\").astype(int)\n",
    "\n",
    "clf = LogisticRegressionCV(cv=5, random_state=42, max_iter=5000).fit(X_train, y_train)\n",
    "#clf.score(X_train, y_train)"
   ]
  },
  {
   "cell_type": "code",
   "execution_count": 18,
   "id": "f95a4c65-6377-44b4-b018-0bdac8c0750b",
   "metadata": {},
   "outputs": [
    {
     "data": {
      "text/plain": [
       "0.9699486040546782"
      ]
     },
     "execution_count": 18,
     "metadata": {},
     "output_type": "execute_result"
    }
   ],
   "source": [
    "clf.score(X_train, y_train)"
   ]
  },
  {
   "cell_type": "code",
   "execution_count": 19,
   "id": "f218a44f-9c2a-4e0c-b139-8ac91bf2077d",
   "metadata": {},
   "outputs": [
    {
     "name": "stdout",
     "output_type": "stream",
     "text": [
      "              precision    recall  f1-score   support\n",
      "\n",
      "           0       0.97      1.00      0.98     97214\n",
      "           1       0.85      0.40      0.54      4545\n",
      "\n",
      "    accuracy                           0.97    101759\n",
      "   macro avg       0.91      0.70      0.76    101759\n",
      "weighted avg       0.97      0.97      0.96    101759\n",
      "\n"
     ]
    }
   ],
   "source": [
    "from sklearn.metrics import classification_report\n",
    "\n",
    "y_pred = clf.predict(X_train)\n",
    "print(classification_report(y_train, y_pred, zero_division=0))"
   ]
  },
  {
   "cell_type": "code",
   "execution_count": 20,
   "id": "f509d6c1-9e34-452e-9529-7ff4143aa174",
   "metadata": {},
   "outputs": [
    {
     "data": {
      "image/png": "[encoded data removed]",
      "text/plain": [
       "<Figure size 432x288 with 2 Axes>"
      ]
     },
     "metadata": {
      "needs_background": "light"
     },
     "output_type": "display_data"
    }
   ],
   "source": [
    "from sklearn.metrics import confusion_matrix, ConfusionMatrixDisplay\n",
    "import matplotlib.pyplot as plt\n",
    "\n",
    "cm = confusion_matrix(y_train, y_pred, labels=clf.classes_)\n",
    "disp = ConfusionMatrixDisplay(confusion_matrix=cm, display_labels=clf.classes_)\n",
    "disp.plot()\n",
    "plt.show()"
   ]
  },
  {
   "cell_type": "code",
   "execution_count": 65,
   "id": "f30b0d3b-fbf4-4d88-a115-fd8cb3bc5d31",
   "metadata": {},
   "outputs": [],
   "source": [
    "feature_names = np.array(numeric_features).view() "
   ]
  },
  {
   "cell_type": "code",
   "execution_count": 66,
   "id": "e8fb4977-5f78-4de2-b9d8-8f5a0a135ea0",
   "metadata": {},
   "outputs": [],
   "source": [
    "def get_feature_names():  \n",
    "        \n",
    "        column_transformer = full_pipeline2 \n",
    "        \n",
    "        new_feature_names = np.insert(feature_names,0,'')\n",
    "\n",
    "        for i, transformer_item in enumerate(column_transformer.transformers_):\n",
    "            \n",
    "            transformer_name, transformer, orig_feature_names = transformer_item\n",
    "            orig_feature_names = list(orig_feature_names)\n",
    "                \n",
    "            if isinstance(transformer, Pipeline):\n",
    "                # if pipeline, get the last transformer in the Pipeline\n",
    "                transformer = transformer.steps[-1][1]\n",
    "\n",
    "            if hasattr(transformer, 'get_feature_names'):\n",
    "\n",
    "                if 'input_features' in transformer.get_feature_names.__code__.co_varnames:\n",
    "                    names = list(transformer.get_feature_names(orig_feature_names))\n",
    "                else:\n",
    "                    names = list(transformer.get_feature_names())\n",
    "                new_feature_names= np.append(new_feature_names,names)\n",
    "                \n",
    "        return new_feature_names"
   ]
  },
  {
   "cell_type": "code",
   "execution_count": 67,
   "id": "26c87e3f-14c2-4883-acd7-8ec2b7e5f7ce",
   "metadata": {},
   "outputs": [
    {
     "data": {
      "text/plain": [
       "177"
      ]
     },
     "execution_count": 67,
     "metadata": {},
     "output_type": "execute_result"
    }
   ],
   "source": [
    "column_name = get_feature_names()\n",
    "len(column_name)"
   ]
  },
  {
   "cell_type": "code",
   "execution_count": 68,
   "id": "5d08c471-070e-4410-9d69-14945747eb3a",
   "metadata": {},
   "outputs": [
    {
     "name": "stdout",
     "output_type": "stream",
     "text": [
      "41\n"
     ]
    }
   ],
   "source": [
    "print(len(numeric_features))"
   ]
  },
  {
   "cell_type": "code",
   "execution_count": 23,
   "id": "dc56dd44-e45f-40b1-83d7-68dee36a7e71",
   "metadata": {},
   "outputs": [
    {
     "name": "stdout",
     "output_type": "stream",
     "text": [
      "Best alpha value is:  {'C': 1}\n"
     ]
    }
   ],
   "source": [
    "log_reg = LogisticRegression(penalty='l1',solver=\"liblinear\", random_state=42)\n",
    "\n",
    "param_grid = [\n",
    "    {'C': [0.001, 0.01, 0.1, 1]},\n",
    "  ]\n",
    "\n",
    "grid_search = GridSearchCV(log_reg, param_grid, cv=5)\n",
    "grid_search.fit(X_train, y_train)\n",
    "print(\"Best alpha value is: \", grid_search.best_params_)"
   ]
  },
  {
   "cell_type": "code",
   "execution_count": 24,
   "id": "702498d5-8d63-4b90-b61b-47019990a2b2",
   "metadata": {},
   "outputs": [
    {
     "name": "stdout",
     "output_type": "stream",
     "text": [
      "Classification report: \n",
      " \n",
      "                precision    recall  f1-score   support\n",
      "\n",
      "           0       0.97      1.00      0.98     97214\n",
      "           1       0.85      0.39      0.54      4545\n",
      "\n",
      "    accuracy                           0.97    101759\n",
      "   macro avg       0.91      0.70      0.76    101759\n",
      "weighted avg       0.97      0.97      0.96    101759\n",
      "\n"
     ]
    },
    {
     "data": {
      "image/png": "[encoded data removed]",
      "text/plain": [
       "<Figure size 432x288 with 2 Axes>"
      ]
     },
     "metadata": {
      "needs_background": "light"
     },
     "output_type": "display_data"
    }
   ],
   "source": [
    "lg_reg = grid_search.best_estimator_\n",
    "\n",
    "y_pred = lg_reg.predict(X_train)\n",
    "\n",
    "\n",
    "cm = confusion_matrix(y_pred, y_train, labels=lg_reg.classes_)\n",
    "disp = ConfusionMatrixDisplay(confusion_matrix=cm, display_labels=lg_reg.classes_)\n",
    "disp.plot()\n",
    "\n",
    "print(\"Classification report: \\n \\n \", classification_report(y_train, y_pred, zero_division=0))\n",
    "plt.show()"
   ]
  },
  {
   "cell_type": "code",
   "execution_count": 69,
   "id": "be8180c5-848e-4a72-b22d-314c96556427",
   "metadata": {},
   "outputs": [
    {
     "data": {
      "text/plain": [
       "41"
      ]
     },
     "execution_count": 69,
     "metadata": {},
     "output_type": "execute_result"
    }
   ],
   "source": [
    "len(column_name)\n",
    "len(numeric_features)"
   ]
  },
  {
   "cell_type": "code",
   "execution_count": 70,
   "id": "06b7bd31-467d-4fb3-9710-ceee4be412c8",
   "metadata": {},
   "outputs": [
    {
     "name": "stdout",
     "output_type": "stream",
     "text": [
      "Feature: Term, Score: -0.84007\n",
      "Feature: BorrowerAPR, Score: -1.11591\n",
      "Feature: BorrowerRate, Score: 1.78975\n",
      "Feature: LenderYield, Score: -0.23141\n",
      "Feature: ListingCategory (numeric), Score: 0.06896\n",
      "Feature: EmploymentStatusDuration, Score: -0.00004\n",
      "Feature: CreditScoreRangeLower, Score: 0.00729\n",
      "Feature: CreditScoreRangeUpper, Score: 0.09494\n",
      "Feature: CurrentCreditLines, Score: 0.27386\n",
      "Feature: OpenCreditLines, Score: -0.11801\n",
      "Feature: TotalCreditLinespast7years, Score: 0.09610\n",
      "Feature: OpenRevolvingAccounts, Score: -0.10529\n",
      "Feature: OpenRevolvingMonthlyPayment, Score: 0.14057\n",
      "Feature: CurrentDelinquencies, Score: 0.04784\n",
      "Feature: AmountDelinquent, Score: -0.01942\n",
      "Feature: DelinquenciesLast7Years, Score: -0.12345\n",
      "Feature: PublicRecordsLast10Years, Score: -0.02470\n",
      "Feature: PublicRecordsLast12Months, Score: -0.00398\n",
      "Feature: RevolvingCreditBalance, Score: -0.01825\n",
      "Feature: BankcardUtilization, Score: -0.00393\n",
      "Feature: AvailableBankcardCredit, Score: -0.13488\n",
      "Feature: StatedMonthlyIncome, Score: -0.45038\n",
      "Feature: TotalProsperLoans, Score: 0.06362\n",
      "Feature: TotalProsperPaymentsBilled, Score: -0.84604\n",
      "Feature: OnTimeProsperPayments, Score: 0.87084\n",
      "Feature: ProsperPaymentsLessThanOneMonthLate, Score: 0.14893\n",
      "Feature: ProsperPaymentsOneMonthPlusLate, Score: 0.03584\n",
      "Feature: ProsperPrincipalBorrowed, Score: -0.04408\n",
      "Feature: ProsperPrincipalOutstanding, Score: 0.04937\n",
      "Feature: ScorexChangeAtTimeOfListing, Score: -0.07658\n",
      "Feature: LoanCurrentDaysDelinquent, Score: -0.60821\n",
      "Feature: LoanMonthsSinceOrigination, Score: 2.76794\n",
      "Feature: LoanOriginalAmount, Score: 0.89226\n",
      "Feature: MonthlyLoanPayment, Score: -0.06870\n",
      "Feature: LP_CustomerPayments, Score: 0.00000\n",
      "Feature: LP_CustomerPrincipalPayments, Score: -3.68735\n",
      "Feature: LP_InterestandFees, Score: 0.61281\n",
      "Feature: Recommendations, Score: -0.01296\n",
      "Feature: InvestmentFromFriendsCount, Score: -0.02466\n",
      "Feature: InvestmentFromFriendsAmount, Score: -0.02279\n",
      "Feature: Investors, Score: 0.66661\n",
      "Feature: BorrowerState_AK, Score: 0.00000\n",
      "Feature: BorrowerState_AL, Score: 0.10134\n",
      "Feature: BorrowerState_AR, Score: -0.39227\n",
      "Feature: BorrowerState_AZ, Score: -0.11971\n",
      "Feature: BorrowerState_CA, Score: -0.14066\n",
      "Feature: BorrowerState_CO, Score: 0.04790\n",
      "Feature: BorrowerState_CT, Score: 0.07217\n",
      "Feature: BorrowerState_DC, Score: 0.00000\n",
      "Feature: BorrowerState_DE, Score: 0.00000\n",
      "Feature: BorrowerState_FL, Score: 0.00000\n",
      "Feature: BorrowerState_GA, Score: 0.04752\n",
      "Feature: BorrowerState_HI, Score: 0.00000\n",
      "Feature: BorrowerState_IA, Score: -0.04364\n",
      "Feature: BorrowerState_ID, Score: -0.03421\n",
      "Feature: BorrowerState_IL, Score: 0.03296\n",
      "Feature: BorrowerState_IN, Score: -0.04209\n",
      "Feature: BorrowerState_KS, Score: 0.26429\n",
      "Feature: BorrowerState_KY, Score: 0.00000\n",
      "Feature: BorrowerState_LA, Score: -0.14119\n",
      "Feature: BorrowerState_MA, Score: 0.08133\n",
      "Feature: BorrowerState_MD, Score: 0.05176\n",
      "Feature: BorrowerState_ME, Score: -0.56917\n",
      "Feature: BorrowerState_MI, Score: -0.05622\n",
      "Feature: BorrowerState_MN, Score: 0.02671\n",
      "Feature: BorrowerState_MO, Score: 0.07256\n",
      "Feature: BorrowerState_MS, Score: -0.11618\n",
      "Feature: BorrowerState_MT, Score: 0.01482\n",
      "Feature: BorrowerState_NC, Score: -0.40839\n",
      "Feature: BorrowerState_ND, Score: -0.46822\n",
      "Feature: BorrowerState_NE, Score: -0.03217\n",
      "Feature: BorrowerState_NH, Score: -0.20306\n",
      "Feature: BorrowerState_NJ, Score: 0.13129\n",
      "Feature: BorrowerState_NM, Score: 0.10954\n",
      "Feature: BorrowerState_NV, Score: 0.03565\n",
      "Feature: BorrowerState_NY, Score: -0.08647\n",
      "Feature: BorrowerState_OH, Score: 0.14717\n",
      "Feature: BorrowerState_OK, Score: -0.23693\n",
      "Feature: BorrowerState_OR, Score: -0.31672\n",
      "Feature: BorrowerState_PA, Score: 0.14544\n",
      "Feature: BorrowerState_RI, Score: 1.12213\n",
      "Feature: BorrowerState_SC, Score: -0.73043\n",
      "Feature: BorrowerState_SD, Score: 0.87200\n",
      "Feature: BorrowerState_TN, Score: 0.25222\n",
      "Feature: BorrowerState_TX, Score: -0.36368\n",
      "Feature: BorrowerState_UT, Score: -0.12443\n",
      "Feature: BorrowerState_VA, Score: 0.11118\n",
      "Feature: BorrowerState_VT, Score: 0.00000\n",
      "Feature: BorrowerState_WA, Score: 0.09994\n",
      "Feature: BorrowerState_WI, Score: 0.08811\n",
      "Feature: BorrowerState_WV, Score: 0.00000\n",
      "Feature: BorrowerState_WY, Score: 0.00000\n",
      "Feature: BorrowerState_nan, Score: -1.06139\n",
      "Feature: Occupation_Accountant/CPA, Score: -0.09231\n",
      "Feature: Occupation_Administrative Assistant, Score: 0.28533\n",
      "Feature: Occupation_Analyst, Score: -0.14965\n",
      "Feature: Occupation_Architect, Score: -0.17431\n",
      "Feature: Occupation_Attorney, Score: -0.36310\n",
      "Feature: Occupation_Biologist, Score: -1.29075\n",
      "Feature: Occupation_Bus Driver, Score: 0.00000\n",
      "Feature: Occupation_Car Dealer, Score: 0.37651\n",
      "Feature: Occupation_Chemist, Score: -0.51772\n",
      "Feature: Occupation_Civil Service, Score: 0.02557\n",
      "Feature: Occupation_Clergy, Score: -0.29602\n",
      "Feature: Occupation_Clerical, Score: 0.34638\n",
      "Feature: Occupation_Computer Programmer, Score: -0.30095\n",
      "Feature: Occupation_Construction, Score: 0.26042\n",
      "Feature: Occupation_Dentist, Score: 0.00000\n",
      "Feature: Occupation_Doctor, Score: 0.00000\n",
      "Feature: Occupation_Engineer - Chemical, Score: -0.10414\n",
      "Feature: Occupation_Engineer - Electrical, Score: -0.22128\n",
      "Feature: Occupation_Engineer - Mechanical, Score: -0.02365\n",
      "Feature: Occupation_Executive, Score: -0.01564\n",
      "Feature: Occupation_Fireman, Score: 0.13102\n",
      "Feature: Occupation_Flight Attendant, Score: 0.35010\n",
      "Feature: Occupation_Food Service, Score: -0.01548\n",
      "Feature: Occupation_Food Service Management, Score: 0.06434\n",
      "Feature: Occupation_Homemaker, Score: -0.24438\n",
      "Feature: Occupation_Investor, Score: 0.00000\n",
      "Feature: Occupation_Judge, Score: 0.00000\n",
      "Feature: Occupation_Laborer, Score: 0.32196\n",
      "Feature: Occupation_Landscaping, Score: -0.17489\n",
      "Feature: Occupation_Medical Technician, Score: 0.12587\n",
      "Feature: Occupation_Military Enlisted, Score: -0.18255\n",
      "Feature: Occupation_Military Officer, Score: -0.78510\n",
      "Feature: Occupation_Nurse (LPN), Score: 0.00000\n",
      "Feature: Occupation_Nurse (RN), Score: 0.19224\n",
      "Feature: Occupation_Nurse's Aide, Score: 0.57847\n",
      "Feature: Occupation_Other, Score: 0.03257\n",
      "Feature: Occupation_Pharmacist, Score: 0.00000\n",
      "Feature: Occupation_Pilot - Private/Commercial, Score: -1.48855\n",
      "Feature: Occupation_Police Officer/Correction Officer, Score: 0.13654\n",
      "Feature: Occupation_Postal Service, Score: 0.07805\n",
      "Feature: Occupation_Principal, Score: 0.52173\n",
      "Feature: Occupation_Professional, Score: 0.00000\n",
      "Feature: Occupation_Professor, Score: -0.01087\n",
      "Feature: Occupation_Psychologist, Score: 0.00000\n",
      "Feature: Occupation_Realtor, Score: 0.00322\n",
      "Feature: Occupation_Religious, Score: -0.02973\n",
      "Feature: Occupation_Retail Management, Score: 0.00000\n",
      "Feature: Occupation_Sales - Commission, Score: 0.14192\n",
      "Feature: Occupation_Sales - Retail, Score: -0.09583\n",
      "Feature: Occupation_Scientist, Score: -0.49173\n",
      "Feature: Occupation_Skilled Labor, Score: 0.09441\n",
      "Feature: Occupation_Social Worker, Score: 0.24684\n",
      "Feature: Occupation_Student - College Freshman, Score: 0.00000\n",
      "Feature: Occupation_Student - College Graduate Student, Score: -0.52014\n",
      "Feature: Occupation_Student - College Junior, Score: -0.52075\n",
      "Feature: Occupation_Student - College Senior, Score: -1.12853\n",
      "Feature: Occupation_Student - College Sophomore, Score: 0.00000\n",
      "Feature: Occupation_Student - Community College, Score: 0.00000\n",
      "Feature: Occupation_Student - Technical School, Score: 0.00000\n",
      "Feature: Occupation_Teacher, Score: 0.00257\n",
      "Feature: Occupation_Teacher's Aide, Score: 0.00000\n",
      "Feature: Occupation_Tradesman - Carpenter, Score: 0.00000\n",
      "Feature: Occupation_Tradesman - Electrician, Score: -0.34900\n",
      "Feature: Occupation_Tradesman - Mechanic, Score: 0.08447\n",
      "Feature: Occupation_Tradesman - Plumber, Score: 0.73038\n",
      "Feature: Occupation_Truck Driver, Score: 0.22816\n",
      "Feature: Occupation_Waiter/Waitress, Score: 0.32873\n",
      "Feature: Occupation_nan, Score: -1.61299\n",
      "Feature: EmploymentStatus_Employed, Score: 0.94576\n",
      "Feature: EmploymentStatus_Full-time, Score: -0.09848\n",
      "Feature: EmploymentStatus_Not available, Score: -0.21856\n",
      "Feature: EmploymentStatus_Not employed, Score: -0.22542\n",
      "Feature: EmploymentStatus_Other, Score: 1.52719\n",
      "Feature: EmploymentStatus_Part-time, Score: -0.59509\n",
      "Feature: EmploymentStatus_Retired, Score: 0.00000\n",
      "Feature: EmploymentStatus_Self-employed, Score: -0.04738\n",
      "Feature: EmploymentStatus_nan, Score: 1.11783\n",
      "Feature: IsBorrowerHomeowner_False, Score: -0.13558\n",
      "Feature: IsBorrowerHomeowner_True, Score: 0.00000\n",
      "Feature: CurrentlyInGroup_False, Score: -0.00997\n",
      "Feature: CurrentlyInGroup_True, Score: 0.00000\n",
      "Feature: IncomeVerifiable_False, Score: 0.00000\n",
      "Feature: IncomeVerifiable_True, Score: -0.09404\n"
     ]
    },
    {
     "data": {
      "image/png": "[encoded data removed]",
      "text/plain": [
       "<Figure size 432x288 with 1 Axes>"
      ]
     },
     "metadata": {
      "needs_background": "light"
     },
     "output_type": "display_data"
    }
   ],
   "source": [
    "from matplotlib import pyplot\n",
    "importance = lg_reg.coef_[0]\n",
    "# summarize feature importance\n",
    "for i,v in enumerate(importance):\n",
    "    print('Feature: %s, Score: %.5f' % (column_name[i+1],v))\n",
    "        \n",
    "# plot feature importance\n",
    "pyplot.bar([x for x in range(len(importance))], importance)\n",
    "pyplot.show()"
   ]
  },
  {
   "cell_type": "code",
   "execution_count": 71,
   "id": "8556a960-59f3-44b4-ad00-92c273ee153d",
   "metadata": {},
   "outputs": [
    {
     "data": {
      "text/plain": [
       "30"
      ]
     },
     "execution_count": 71,
     "metadata": {},
     "output_type": "execute_result"
    }
   ],
   "source": [
    "features = pd.DataFrame({'features': column_name[1:] , 'importance': list(importance)}, columns=['features', 'importance'])\n",
    "## Negative importance coefficient also should be taken in consideration since it is somehow correlated negatively with the possibility of a user to apply for term deposit so :\n",
    "features[\"importance\"]= np.abs(features[\"importance\"])\n",
    "features = features.sort_values(by=['importance'], ascending=False)\n",
    "features\n",
    "Unimportante_features = features[features[\"importance\"]==0][\"features\"].array\n",
    "len(Unimportante_features)\n"
   ]
  },
  {
   "cell_type": "code",
   "execution_count": 72,
   "id": "b5bf1a72-19f3-47da-8db0-bd58eb165fb8",
   "metadata": {},
   "outputs": [],
   "source": [
    "for j in Unimportante_features:\n",
    "    for i in numeric_features:\n",
    "        if i == j:\n",
    "            numeric_features.remove(i)"
   ]
  },
  {
   "cell_type": "code",
   "execution_count": 73,
   "id": "69da2744-8f22-4c77-85de-7f7dce0fbb2e",
   "metadata": {},
   "outputs": [],
   "source": [
    "for j in Unimportante_features:\n",
    "    for i in categorical_features:\n",
    "        if i == j:\n",
    "            categorical_features.remove(i)"
   ]
  },
  {
   "cell_type": "code",
   "execution_count": 74,
   "id": "e5d9670a-5b92-41ad-9cde-78b15de0ae3a",
   "metadata": {},
   "outputs": [
    {
     "data": {
      "text/plain": [
       "40"
      ]
     },
     "execution_count": 74,
     "metadata": {},
     "output_type": "execute_result"
    }
   ],
   "source": [
    "len(numeric_features)"
   ]
  },
  {
   "cell_type": "code",
   "execution_count": 75,
   "id": "dfbd8e6b-2498-424d-a4ba-3991a74348ef",
   "metadata": {},
   "outputs": [
    {
     "data": {
      "text/plain": [
       "6"
      ]
     },
     "execution_count": 75,
     "metadata": {},
     "output_type": "execute_result"
    }
   ],
   "source": [
    "len(categorical_features)"
   ]
  },
  {
   "cell_type": "code",
   "execution_count": 76,
   "id": "fad369da-56b2-4887-bb46-3187f52e73f1",
   "metadata": {},
   "outputs": [],
   "source": [
    "numeric_pipeline = Pipeline(steps=[\n",
    "    ('selector', DataFrameSelector(numeric_features)),\n",
    "    ('imputer', SimpleImputer(strategy='median')),\n",
    "    ('scaler', StandardScaler())])\n",
    "\n",
    "\n",
    "categorical_pipeline = Pipeline([\n",
    "        ('selector', DataFrameSelector(categorical_features)),\n",
    "        ('cat_encoder', OneHotEncoder(sparse=False,\n",
    "                                      handle_unknown='ignore')),\n",
    "    ])\n",
    "\n",
    "\n",
    "\n",
    "full_pipeline = FeatureUnion(transformer_list=[\n",
    "        (\"num_pipeline\", numeric_pipeline),\n",
    "        (\"cat_pipeline\", categorical_pipeline),\n",
    "    ])\n",
    "\n",
    "from sklearn.compose import ColumnTransformer\n",
    "\n",
    "full_pipeline2 = ColumnTransformer([\n",
    "        (\"num_pipeline\", numeric_pipeline, numeric_features ),\n",
    "        (\"cat_pipeline\", categorical_pipeline, categorical_features ),\n",
    "    ])"
   ]
  },
  {
   "cell_type": "code",
   "execution_count": 77,
   "id": "00ba105e-d05e-401d-8de6-fa1e79a32364",
   "metadata": {},
   "outputs": [
    {
     "data": {
      "text/plain": [
       "0.9699191226328875"
      ]
     },
     "execution_count": 77,
     "metadata": {},
     "output_type": "execute_result"
    }
   ],
   "source": [
    "prosper_prepared = full_pipeline2.fit_transform(train_set)\n",
    "X_train = prosper_prepared\n",
    "\n",
    "y_train = train_set[[\"LoanStatus\"]].values.ravel()\n",
    "y_train = (y_train == \"Defaulted\").astype(int)\n",
    "X_train = prosper_prepared\n",
    "\n",
    "\n",
    "clf = LogisticRegressionCV(cv=5, random_state=42, max_iter=5000).fit(X_train, y_train)\n",
    "clf.score(X_train, y_train)"
   ]
  },
  {
   "cell_type": "code",
   "execution_count": 78,
   "id": "e24b2256-55cd-40be-8eb6-44e5f47e7332",
   "metadata": {},
   "outputs": [
    {
     "name": "stdout",
     "output_type": "stream",
     "text": [
      "              precision    recall  f1-score   support\n",
      "\n",
      "           0       0.97      1.00      0.98     97214\n",
      "           1       0.85      0.40      0.54      4545\n",
      "\n",
      "    accuracy                           0.97    101759\n",
      "   macro avg       0.91      0.70      0.76    101759\n",
      "weighted avg       0.97      0.97      0.96    101759\n",
      "\n"
     ]
    }
   ],
   "source": [
    "from sklearn.metrics import classification_report\n",
    "\n",
    "y_pred = clf.predict(X_train)\n",
    "print(classification_report(y_train, y_pred, zero_division=0))"
   ]
  },
  {
   "cell_type": "code",
   "execution_count": 79,
   "id": "0e5c6c7e-e63d-4b18-b403-cb41d05d9ba9",
   "metadata": {},
   "outputs": [
    {
     "data": {
      "image/png": "[encoded data removed]",
      "text/plain": [
       "<Figure size 432x288 with 2 Axes>"
      ]
     },
     "metadata": {
      "needs_background": "light"
     },
     "output_type": "display_data"
    }
   ],
   "source": [
    "from sklearn.metrics import confusion_matrix, ConfusionMatrixDisplay\n",
    "import matplotlib.pyplot as plt\n",
    "\n",
    "cm = confusion_matrix(y_train, y_pred, labels=clf.classes_)\n",
    "disp = ConfusionMatrixDisplay(confusion_matrix=cm, display_labels=clf.classes_)\n",
    "disp.plot()\n",
    "plt.show()"
   ]
  },
  {
   "cell_type": "code",
   "execution_count": 80,
   "id": "6bedb896-67fc-4665-bf11-b8b796256df0",
   "metadata": {},
   "outputs": [],
   "source": [
    "column_name = get_feature_names()"
   ]
  },
  {
   "cell_type": "code",
   "execution_count": 81,
   "id": "8a53afb2-1e77-419c-82a5-a55f59f6d8ef",
   "metadata": {},
   "outputs": [
    {
     "name": "stdout",
     "output_type": "stream",
     "text": [
      "Best alpha value is:  {'C': 1}\n"
     ]
    }
   ],
   "source": [
    "log_reg = LogisticRegression(penalty='l1',solver=\"liblinear\", random_state=42, max_iter= 5000)\n",
    "\n",
    "param_grid = [\n",
    "    {'C': [0.001, 0.01, 0.1, 1]},\n",
    "  ]\n",
    "\n",
    "grid_search = GridSearchCV(log_reg, param_grid, cv=5)\n",
    "grid_search.fit(X_train, y_train)\n",
    "print(\"Best alpha value is: \", grid_search.best_params_)"
   ]
  },
  {
   "cell_type": "code",
   "execution_count": 82,
   "id": "7f4d228a-742d-43c9-99ba-228376f1a01c",
   "metadata": {},
   "outputs": [
    {
     "name": "stdout",
     "output_type": "stream",
     "text": [
      "Classification report: \n",
      " \n",
      "                precision    recall  f1-score   support\n",
      "\n",
      "           0       1.00      0.97      0.98     99647\n",
      "           1       0.39      0.85      0.54      2112\n",
      "\n",
      "    accuracy                           0.97    101759\n",
      "   macro avg       0.70      0.91      0.76    101759\n",
      "weighted avg       0.98      0.97      0.98    101759\n",
      "\n"
     ]
    },
    {
     "data": {
      "image/png": "[encoded data removed]",
      "text/plain": [
       "<Figure size 432x288 with 2 Axes>"
      ]
     },
     "metadata": {
      "needs_background": "light"
     },
     "output_type": "display_data"
    }
   ],
   "source": [
    "lg_reg = grid_search.best_estimator_\n",
    "\n",
    "y_pred = lg_reg.predict(X_train)\n",
    "\n",
    "\n",
    "cm = confusion_matrix(y_pred, y_train, labels=lg_reg.classes_)\n",
    "disp = ConfusionMatrixDisplay(confusion_matrix=cm, display_labels=lg_reg.classes_)\n",
    "disp.plot()\n",
    "\n",
    "print(\"Classification report: \\n \\n \", classification_report(y_pred, y_train))\n",
    "plt.show()"
   ]
  },
  {
   "cell_type": "code",
   "execution_count": 83,
   "id": "4679fcaf-28e0-43e9-8f5a-d837dd959085",
   "metadata": {},
   "outputs": [
    {
     "name": "stdout",
     "output_type": "stream",
     "text": [
      "Feature: Term, Score: -0.84010\n",
      "Feature: BorrowerAPR, Score: -1.11607\n",
      "Feature: BorrowerRate, Score: 1.79027\n",
      "Feature: LenderYield, Score: -0.23178\n",
      "Feature: ListingCategory (numeric), Score: 0.06896\n",
      "Feature: EmploymentStatusDuration, Score: -0.00003\n",
      "Feature: CreditScoreRangeLower, Score: 0.06856\n",
      "Feature: CreditScoreRangeUpper, Score: 0.03365\n",
      "Feature: CurrentCreditLines, Score: 0.27386\n",
      "Feature: OpenCreditLines, Score: -0.11803\n",
      "Feature: TotalCreditLinespast7years, Score: 0.09612\n",
      "Feature: OpenRevolvingAccounts, Score: -0.10528\n",
      "Feature: OpenRevolvingMonthlyPayment, Score: 0.14058\n",
      "Feature: CurrentDelinquencies, Score: 0.04784\n",
      "Feature: AmountDelinquent, Score: -0.01942\n",
      "Feature: DelinquenciesLast7Years, Score: -0.12345\n",
      "Feature: PublicRecordsLast10Years, Score: -0.02471\n",
      "Feature: PublicRecordsLast12Months, Score: -0.00398\n",
      "Feature: RevolvingCreditBalance, Score: -0.01825\n",
      "Feature: BankcardUtilization, Score: -0.00394\n",
      "Feature: AvailableBankcardCredit, Score: -0.13486\n",
      "Feature: StatedMonthlyIncome, Score: -0.45045\n",
      "Feature: TotalProsperLoans, Score: 0.06356\n",
      "Feature: TotalProsperPaymentsBilled, Score: -0.84749\n",
      "Feature: OnTimeProsperPayments, Score: 0.87230\n",
      "Feature: ProsperPaymentsLessThanOneMonthLate, Score: 0.14910\n",
      "Feature: ProsperPaymentsOneMonthPlusLate, Score: 0.03588\n",
      "Feature: ProsperPrincipalBorrowed, Score: -0.04404\n",
      "Feature: ProsperPrincipalOutstanding, Score: 0.04934\n",
      "Feature: ScorexChangeAtTimeOfListing, Score: -0.07658\n",
      "Feature: LoanCurrentDaysDelinquent, Score: -0.60821\n",
      "Feature: LoanMonthsSinceOrigination, Score: 2.76795\n",
      "Feature: LoanOriginalAmount, Score: 0.89220\n",
      "Feature: MonthlyLoanPayment, Score: -0.06864\n",
      "Feature: LP_CustomerPayments, Score: -3.68741\n",
      "Feature: LP_CustomerPrincipalPayments, Score: 0.61284\n",
      "Feature: LP_InterestandFees, Score: -0.01296\n",
      "Feature: Recommendations, Score: -0.02465\n",
      "Feature: InvestmentFromFriendsCount, Score: -0.02279\n",
      "Feature: InvestmentFromFriendsAmount, Score: 0.66661\n",
      "Feature: Investors, Score: 0.00000\n",
      "Feature: BorrowerState_AK, Score: 0.10147\n",
      "Feature: BorrowerState_AL, Score: -0.39206\n",
      "Feature: BorrowerState_AR, Score: -0.11959\n",
      "Feature: BorrowerState_AZ, Score: -0.14055\n",
      "Feature: BorrowerState_CA, Score: 0.04801\n",
      "Feature: BorrowerState_CO, Score: 0.07240\n",
      "Feature: BorrowerState_CT, Score: 0.00000\n",
      "Feature: BorrowerState_DC, Score: 0.00000\n",
      "Feature: BorrowerState_DE, Score: 0.00000\n",
      "Feature: BorrowerState_FL, Score: 0.04774\n",
      "Feature: BorrowerState_GA, Score: 0.00000\n",
      "Feature: BorrowerState_HI, Score: -0.04349\n",
      "Feature: BorrowerState_IA, Score: -0.03408\n",
      "Feature: BorrowerState_ID, Score: 0.03309\n",
      "Feature: BorrowerState_IL, Score: -0.04193\n",
      "Feature: BorrowerState_IN, Score: 0.26447\n",
      "Feature: BorrowerState_KS, Score: 0.00000\n",
      "Feature: BorrowerState_KY, Score: -0.14099\n",
      "Feature: BorrowerState_LA, Score: 0.08146\n",
      "Feature: BorrowerState_MA, Score: 0.05200\n",
      "Feature: BorrowerState_MD, Score: -0.56897\n",
      "Feature: BorrowerState_ME, Score: -0.05608\n",
      "Feature: BorrowerState_MI, Score: 0.02682\n",
      "Feature: BorrowerState_MN, Score: 0.07268\n",
      "Feature: BorrowerState_MO, Score: -0.11608\n",
      "Feature: BorrowerState_MS, Score: 0.01494\n",
      "Feature: BorrowerState_MT, Score: -0.40825\n",
      "Feature: BorrowerState_NC, Score: -0.46815\n",
      "Feature: BorrowerState_ND, Score: -0.03199\n",
      "Feature: BorrowerState_NE, Score: -0.20286\n",
      "Feature: BorrowerState_NH, Score: 0.13144\n",
      "Feature: BorrowerState_NJ, Score: 0.10973\n",
      "Feature: BorrowerState_NM, Score: 0.03581\n",
      "Feature: BorrowerState_NV, Score: -0.08632\n",
      "Feature: BorrowerState_NY, Score: 0.14730\n",
      "Feature: BorrowerState_OH, Score: -0.23683\n",
      "Feature: BorrowerState_OK, Score: -0.31658\n",
      "Feature: BorrowerState_OR, Score: 0.14570\n",
      "Feature: BorrowerState_PA, Score: 1.12235\n",
      "Feature: BorrowerState_RI, Score: -0.73024\n",
      "Feature: BorrowerState_SC, Score: 0.87214\n",
      "Feature: BorrowerState_SD, Score: 0.25236\n",
      "Feature: BorrowerState_TN, Score: -0.36360\n",
      "Feature: BorrowerState_TX, Score: -0.12433\n",
      "Feature: BorrowerState_UT, Score: 0.11133\n",
      "Feature: BorrowerState_VA, Score: 0.00000\n",
      "Feature: BorrowerState_VT, Score: 0.10014\n",
      "Feature: BorrowerState_WA, Score: 0.08813\n",
      "Feature: BorrowerState_WI, Score: 0.00000\n",
      "Feature: BorrowerState_WV, Score: 0.00000\n",
      "Feature: BorrowerState_WY, Score: -1.06126\n",
      "Feature: BorrowerState_nan, Score: -0.09229\n",
      "Feature: Occupation_Accountant/CPA, Score: 0.28537\n",
      "Feature: Occupation_Administrative Assistant, Score: -0.14962\n",
      "Feature: Occupation_Analyst, Score: -0.17428\n",
      "Feature: Occupation_Architect, Score: -0.36296\n",
      "Feature: Occupation_Attorney, Score: -1.29071\n",
      "Feature: Occupation_Biologist, Score: 0.00000\n",
      "Feature: Occupation_Bus Driver, Score: 0.37667\n",
      "Feature: Occupation_Car Dealer, Score: -0.51769\n",
      "Feature: Occupation_Chemist, Score: 0.02559\n",
      "Feature: Occupation_Civil Service, Score: -0.29598\n",
      "Feature: Occupation_Clergy, Score: 0.34641\n",
      "Feature: Occupation_Clerical, Score: -0.30091\n",
      "Feature: Occupation_Computer Programmer, Score: 0.26050\n",
      "Feature: Occupation_Construction, Score: 0.00000\n",
      "Feature: Occupation_Dentist, Score: 0.00000\n",
      "Feature: Occupation_Doctor, Score: -0.10408\n",
      "Feature: Occupation_Engineer - Chemical, Score: -0.22121\n",
      "Feature: Occupation_Engineer - Electrical, Score: -0.02357\n",
      "Feature: Occupation_Engineer - Mechanical, Score: -0.01550\n",
      "Feature: Occupation_Executive, Score: 0.13106\n",
      "Feature: Occupation_Fireman, Score: 0.35017\n",
      "Feature: Occupation_Flight Attendant, Score: -0.01540\n",
      "Feature: Occupation_Food Service, Score: 0.06440\n",
      "Feature: Occupation_Food Service Management, Score: -0.24412\n",
      "Feature: Occupation_Homemaker, Score: 0.00000\n",
      "Feature: Occupation_Investor, Score: 0.00000\n",
      "Feature: Occupation_Judge, Score: 0.32200\n",
      "Feature: Occupation_Laborer, Score: -0.17479\n",
      "Feature: Occupation_Landscaping, Score: 0.12591\n",
      "Feature: Occupation_Medical Technician, Score: -0.18248\n",
      "Feature: Occupation_Military Enlisted, Score: -0.78492\n",
      "Feature: Occupation_Military Officer, Score: 0.00000\n",
      "Feature: Occupation_Nurse (LPN), Score: 0.19228\n",
      "Feature: Occupation_Nurse (RN), Score: 0.57854\n",
      "Feature: Occupation_Nurse's Aide, Score: 0.03270\n",
      "Feature: Occupation_Other, Score: 0.00000\n",
      "Feature: Occupation_Pharmacist, Score: -1.48849\n",
      "Feature: Occupation_Pilot - Private/Commercial, Score: 0.13651\n",
      "Feature: Occupation_Police Officer/Correction Officer, Score: 0.07809\n",
      "Feature: Occupation_Postal Service, Score: 0.52179\n",
      "Feature: Occupation_Principal, Score: 0.00000\n",
      "Feature: Occupation_Professional, Score: -0.01073\n",
      "Feature: Occupation_Professor, Score: 0.00000\n",
      "Feature: Occupation_Psychologist, Score: 0.00330\n",
      "Feature: Occupation_Realtor, Score: -0.02960\n",
      "Feature: Occupation_Religious, Score: 0.00000\n",
      "Feature: Occupation_Retail Management, Score: 0.14190\n",
      "Feature: Occupation_Sales - Commission, Score: -0.09577\n",
      "Feature: Occupation_Sales - Retail, Score: -0.49166\n",
      "Feature: Occupation_Scientist, Score: 0.09447\n",
      "Feature: Occupation_Skilled Labor, Score: 0.24686\n",
      "Feature: Occupation_Social Worker, Score: 0.00000\n",
      "Feature: Occupation_Student - College Freshman, Score: -0.52003\n",
      "Feature: Occupation_Student - College Graduate Student, Score: -0.52046\n",
      "Feature: Occupation_Student - College Junior, Score: -1.12837\n",
      "Feature: Occupation_Student - College Senior, Score: 0.00000\n",
      "Feature: Occupation_Student - College Sophomore, Score: 0.00000\n",
      "Feature: Occupation_Student - Community College, Score: 0.00000\n",
      "Feature: Occupation_Student - Technical School, Score: 0.00263\n",
      "Feature: Occupation_Teacher, Score: 0.00000\n",
      "Feature: Occupation_Teacher's Aide, Score: 0.00000\n",
      "Feature: Occupation_Tradesman - Carpenter, Score: -0.34891\n",
      "Feature: Occupation_Tradesman - Electrician, Score: 0.08455\n",
      "Feature: Occupation_Tradesman - Mechanic, Score: 0.73038\n",
      "Feature: Occupation_Tradesman - Plumber, Score: 0.22824\n",
      "Feature: Occupation_Truck Driver, Score: 0.32884\n",
      "Feature: Occupation_Waiter/Waitress, Score: -1.61423\n",
      "Feature: Occupation_nan, Score: 0.94733\n",
      "Feature: EmploymentStatus_Employed, Score: -0.09706\n",
      "Feature: EmploymentStatus_Full-time, Score: -0.21717\n",
      "Feature: EmploymentStatus_Not available, Score: -0.22373\n",
      "Feature: EmploymentStatus_Not employed, Score: 1.52879\n",
      "Feature: EmploymentStatus_Other, Score: -0.59359\n",
      "Feature: EmploymentStatus_Part-time, Score: 0.00000\n",
      "Feature: EmploymentStatus_Retired, Score: -0.04567\n",
      "Feature: EmploymentStatus_Self-employed, Score: 1.12056\n",
      "Feature: EmploymentStatus_nan, Score: -0.13554\n",
      "Feature: IsBorrowerHomeowner_False, Score: 0.00000\n",
      "Feature: IsBorrowerHomeowner_True, Score: -0.00980\n",
      "Feature: CurrentlyInGroup_False, Score: 0.00000\n",
      "Feature: CurrentlyInGroup_True, Score: 0.00000\n",
      "Feature: IncomeVerifiable_False, Score: -0.09344\n"
     ]
    },
    {
     "data": {
      "image/png": "[encoded data removed]",
      "text/plain": [
       "<Figure size 432x288 with 1 Axes>"
      ]
     },
     "metadata": {
      "needs_background": "light"
     },
     "output_type": "display_data"
    }
   ],
   "source": [
    "from matplotlib import pyplot\n",
    "importance = lg_reg.coef_[0]\n",
    "# summarize feature importance\n",
    "for i,v in enumerate(importance):\n",
    "    print('Feature: %s, Score: %.5f' % (column_name[i+1],v))\n",
    "        \n",
    "# plot feature importance\n",
    "pyplot.bar([x for x in range(len(importance))], importance)\n",
    "pyplot.show()"
   ]
  },
  {
   "cell_type": "code",
   "execution_count": 84,
   "id": "efcc7847-7497-4b19-88bb-c855914e24e2",
   "metadata": {},
   "outputs": [
    {
     "data": {
      "text/plain": [
       "(0.0, 1.0)"
      ]
     },
     "execution_count": 84,
     "metadata": {},
     "output_type": "execute_result"
    },
    {
     "data": {
      "image/png": "[encoded data removed]",
      "text/plain": [
       "<Figure size 432x288 with 1 Axes>"
      ]
     },
     "metadata": {
      "needs_background": "light"
     },
     "output_type": "display_data"
    }
   ],
   "source": [
    "### Predict test_y values and probabilities based on fitted logistic regression model\n",
    "from sklearn import metrics\n",
    "predTest = lg_reg.predict(X_train)\n",
    "\n",
    "probs_y=lg_reg.predict_proba(X_train) \n",
    "# probs_y is a 2-D array of probability of being labeled as 0 (first column of array) vs 1 (2nd column in array)\n",
    "\n",
    "from sklearn.metrics import precision_recall_curve\n",
    "\n",
    "\n",
    "precision, recall, thresholds = precision_recall_curve(y_train, probs_y[:, 1]) \n",
    "#retrieve probability of being 1(in second column of probs_y)\n",
    "pr_auc = metrics.auc(recall, precision)\n",
    "\n",
    "plt.title(\"Precision-Recall vs Threshold Chart\")\n",
    "plt.plot(thresholds, precision[: -1], \"b--\", label=\"Precision\")\n",
    "plt.plot(thresholds, recall[: -1], \"r--\", label=\"Recall\")\n",
    "plt.ylabel(\"Precision, Recall\")\n",
    "plt.xlabel(\"Threshold\")\n",
    "plt.legend(loc=\"lower left\")\n",
    "plt.ylim([0,1])"
   ]
  },
  {
   "cell_type": "code",
   "execution_count": 85,
   "id": "edf1c70f-673e-4e34-a06f-8acbf991ca6b",
   "metadata": {},
   "outputs": [
    {
     "data": {
      "image/png": "[encoded data removed]",
      "text/plain": [
       "<Figure size 432x288 with 1 Axes>"
      ]
     },
     "metadata": {
      "needs_background": "light"
     },
     "output_type": "display_data"
    }
   ],
   "source": [
    "# roc curve for logistic regression model\n",
    "from sklearn.datasets import make_classification\n",
    "from sklearn.linear_model import LogisticRegression\n",
    "from sklearn.model_selection import train_test_split\n",
    "from sklearn.metrics import roc_curve\n",
    "from matplotlib import pyplot\n",
    "\n",
    "# predict probabilities\n",
    "yhat =lg_reg.predict_proba(X_train) \n",
    "# keep probabilities for the positive outcome only\n",
    "yhat = yhat[:, 1]\n",
    "# calculate roc curves\n",
    "fpr, tpr, thresholds = roc_curve(y_train, yhat)\n",
    "# plot the roc curve for the model\n",
    "pyplot.plot([0,1], [0,1], linestyle='--', label='No Skill')\n",
    "pyplot.plot(fpr, tpr, marker='.', label='Logistic')\n",
    "# axis labels\n",
    "pyplot.xlabel('False Positive Rate')\n",
    "pyplot.ylabel('True Positive Rate')\n",
    "pyplot.legend()\n",
    "# show the plot\n",
    "pyplot.show()\n",
    "\n",
    "##Running the example fits a logistic regression model on the training dataset \n",
    "##Then evaluates it using a range of thresholds on the test set, creating the ROC Curve"
   ]
  },
  {
   "cell_type": "code",
   "execution_count": 86,
   "id": "6c4a3122-dd0f-4f27-84cd-fbae2b5aa6ae",
   "metadata": {},
   "outputs": [
    {
     "name": "stdout",
     "output_type": "stream",
     "text": [
      "Best Threshold= 0.041471\n"
     ]
    }
   ],
   "source": [
    "from numpy import * \n",
    "yhat = lg_reg.predict_proba(X_train)\n",
    "# keep probabilities for the positive outcome only\n",
    "yhat = yhat[:, 1]\n",
    "# calculate roc curves\n",
    "fpr, tpr, thresholds = roc_curve(y_train, yhat)\n",
    "# get the best threshold\n",
    "J = tpr - fpr\n",
    "ix = argmax(J)\n",
    "best_thresh = thresholds[ix]\n",
    "print('Best Threshold= %f' % (best_thresh))"
   ]
  },
  {
   "cell_type": "code",
   "execution_count": 87,
   "id": "e1839f04-a022-422f-b2f6-f7b57b8f62d1",
   "metadata": {},
   "outputs": [],
   "source": [
    "from sklearn.metrics import accuracy_score, confusion_matrix, recall_score, roc_auc_score, precision_score, classification_report\n",
    "THRESHOLD = best_thresh\n",
    "preds = np.where(lg_reg.predict_proba(X_train)[:,1] > THRESHOLD, 1, 0)"
   ]
  },
  {
   "cell_type": "code",
   "execution_count": 88,
   "id": "d76fb375-4cf4-42f2-9d52-e207f00dbe7a",
   "metadata": {},
   "outputs": [
    {
     "name": "stdout",
     "output_type": "stream",
     "text": [
      "              precision    recall  f1-score   support\n",
      "\n",
      "           0       0.99      0.84      0.91     97214\n",
      "           1       0.20      0.85      0.32      4545\n",
      "\n",
      "    accuracy                           0.84    101759\n",
      "   macro avg       0.59      0.84      0.62    101759\n",
      "weighted avg       0.96      0.84      0.88    101759\n",
      "\n"
     ]
    }
   ],
   "source": [
    "print(classification_report(y_train,preds))"
   ]
  },
  {
   "cell_type": "code",
   "execution_count": 89,
   "id": "a1ac5bf2-d8e9-4510-81d7-f7328541a2f7",
   "metadata": {},
   "outputs": [
    {
     "data": {
      "image/png": "[encoded data removed]",
      "text/plain": [
       "<Figure size 432x288 with 2 Axes>"
      ]
     },
     "metadata": {
      "needs_background": "light"
     },
     "output_type": "display_data"
    }
   ],
   "source": [
    "CM = confusion_matrix(y_train, preds)\n",
    "disp = ConfusionMatrixDisplay(confusion_matrix=CM, display_labels=lg_reg.classes_)\n",
    "disp.plot()\n",
    "plt.show()"
   ]
  },
  {
   "cell_type": "code",
   "execution_count": 97,
   "id": "ec89aa71-7fd8-4c99-9a1d-bc5f686936e5",
   "metadata": {},
   "outputs": [
    {
     "name": "stdout",
     "output_type": "stream",
     "text": [
      "              precision    recall  f1-score   support\n",
      "\n",
      "           0       1.00      0.97      0.98     11070\n",
      "           1       0.40      0.80      0.53       237\n",
      "\n",
      "    accuracy                           0.97     11307\n",
      "   macro avg       0.70      0.89      0.76     11307\n",
      "weighted avg       0.98      0.97      0.98     11307\n",
      "\n"
     ]
    },
    {
     "data": {
      "image/png": "[encoded data removed]",
      "text/plain": [
       "<Figure size 432x288 with 2 Axes>"
      ]
     },
     "metadata": {
      "needs_background": "light"
     },
     "output_type": "display_data"
    }
   ],
   "source": [
    "#### testing with logistic regression\n",
    "bank_prepared2 = full_pipeline2.fit_transform(test_set)\n",
    "\n",
    "X_test = bank_prepared2\n",
    "y_test = test_set[[\"LoanStatus\"]].values.ravel()\n",
    "y_test = (y_test == \"Defaulted\").astype(int)\n",
    "predTest = lg_reg.predict(X_test)\n",
    "\n",
    "print(classification_report(predTest, y_test))\n",
    "CM = confusion_matrix(y_test, predTest, labels=lg_reg.classes_)\n",
    "disp = ConfusionMatrixDisplay(confusion_matrix=CM, display_labels=lg_reg.classes_)\n",
    "disp.plot()\n",
    "plt.show()"
   ]
  },
  {
   "cell_type": "code",
   "execution_count": 102,
   "id": "2cfc7c9b-c7ac-4ea5-ace4-21fc172a9988",
   "metadata": {},
   "outputs": [
    {
     "name": "stdout",
     "output_type": "stream",
     "text": [
      "              precision    recall  f1-score   support\n",
      "\n",
      "           0       0.83      0.99      0.91      9098\n",
      "           1       0.86      0.18      0.30      2209\n",
      "\n",
      "    accuracy                           0.83     11307\n",
      "   macro avg       0.85      0.59      0.60     11307\n",
      "weighted avg       0.84      0.83      0.79     11307\n",
      "\n"
     ]
    },
    {
     "data": {
      "image/png": "[encoded data removed]",
      "text/plain": [
       "<Figure size 432x288 with 2 Axes>"
      ]
     },
     "metadata": {
      "needs_background": "light"
     },
     "output_type": "display_data"
    }
   ],
   "source": [
    "#### after changing the threshold with the test set\n",
    "preds = np.where(lg_reg.predict_proba(X_test)[:,1] > THRESHOLD, 1, 0)\n",
    "print(classification_report(preds, y_test))\n",
    "CM = confusion_matrix(y_test, preds, labels=lg_reg.classes_)\n",
    "disp = ConfusionMatrixDisplay(confusion_matrix=CM, display_labels=lg_reg.classes_)\n",
    "disp.plot()\n",
    "plt.show()"
   ]
  },
  {
   "cell_type": "code",
   "execution_count": 96,
   "id": "2a62bf9d-92e0-442d-a1d1-a1b2deeb902a",
   "metadata": {},
   "outputs": [
    {
     "data": {
      "text/plain": [
       "RandomForestClassifier(max_depth=2, n_estimators=10, random_state=42)"
      ]
     },
     "execution_count": 96,
     "metadata": {},
     "output_type": "execute_result"
    }
   ],
   "source": [
    "###########Random forest\n",
    "\n",
    "\n",
    "from sklearn.ensemble import RandomForestClassifier\n",
    "\n",
    "rf = RandomForestClassifier(max_depth=2, n_estimators=10, random_state= 42)\n",
    "rf.fit(X_train,y_train)"
   ]
  },
  {
   "cell_type": "code",
   "execution_count": 91,
   "id": "317fd173-f6b3-48e9-a0f4-d821e0553bd9",
   "metadata": {},
   "outputs": [
    {
     "data": {
      "image/png": "[encoded data removed]",
      "text/plain": [
       "<Figure size 432x288 with 1 Axes>"
      ]
     },
     "metadata": {
      "needs_background": "light"
     },
     "output_type": "display_data"
    },
    {
     "name": "stdout",
     "output_type": "stream",
     "text": [
      "New threshold :  0.04404675251055894\n",
      "\n",
      "\n"
     ]
    },
    {
     "data": {
      "image/png": "[encoded data removed]",
      "text/plain": [
       "<Figure size 432x288 with 2 Axes>"
      ]
     },
     "metadata": {
      "needs_background": "light"
     },
     "output_type": "display_data"
    }
   ],
   "source": [
    "from numpy import * \n",
    "from sklearn.metrics import accuracy_score, confusion_matrix, recall_score, roc_auc_score, precision_score, classification_report\n",
    "\n",
    "y_train = train_set[[\"LoanStatus\"]].values.ravel()\n",
    "y_train = (y_train == \"Defaulted\").astype(int)\n",
    "y_pred= rf.predict(X_train)\n",
    "\n",
    "yhat = rf.predict_proba(X_train)\n",
    "# keep probabilities for the positive outcome only\n",
    "yhat = yhat[:, 1]\n",
    "# calculate roc curves\n",
    "fpr, tpr, thresholds = roc_curve(y_train, yhat)\n",
    "# plot the roc curve for the model\n",
    "pyplot.plot([0,1], [0,1], linestyle='--', label='No Skill')\n",
    "pyplot.plot(fpr, tpr, marker='.', label='Logistic')\n",
    "# axis labels\n",
    "pyplot.xlabel('False Positive Rate')\n",
    "pyplot.ylabel('True Positive Rate')\n",
    "pyplot.legend()\n",
    "# show the plot\n",
    "pyplot.show()\n",
    "# calculate roc curves\n",
    "fpr, tpr, thresholds = roc_curve(y_train, yhat)\n",
    "# get the best threshold\n",
    "J = tpr - fpr\n",
    "ix = argmax(J)\n",
    "best_thresh = thresholds[ix]\n",
    "THRESHOLD1 = best_thresh\n",
    "print(\"New threshold : \", THRESHOLD1)\n",
    "print(\"\\n\")\n",
    "preds = np.where(rf.predict_proba(X_train)[:,1] > THRESHOLD1, 1, 0)\n",
    "CM = confusion_matrix(y_train, preds)\n",
    "disp = ConfusionMatrixDisplay(confusion_matrix=CM, display_labels=rf.classes_)\n",
    "disp.plot()\n",
    "plt.show()"
   ]
  },
  {
   "cell_type": "code",
   "execution_count": 95,
   "id": "ec44c601-0aff-42f3-9eff-dca2c4ce5abe",
   "metadata": {},
   "outputs": [
    {
     "data": {
      "text/plain": [
       "(0.0, 1.0)"
      ]
     },
     "execution_count": 95,
     "metadata": {},
     "output_type": "execute_result"
    },
    {
     "data": {
      "image/png": "[encoded data removed]",
      "text/plain": [
       "<Figure size 432x288 with 1 Axes>"
      ]
     },
     "metadata": {
      "needs_background": "light"
     },
     "output_type": "display_data"
    }
   ],
   "source": [
    "### Predict test_y values and probabilities based on fitted logistic regression model\n",
    "from sklearn import metrics\n",
    "predTest = rf.predict(X_train)\n",
    "\n",
    "probs_y= rf.predict_proba(X_train) \n",
    "# probs_y is a 2-D array of probability of being labeled as 0 (first column of array) vs 1 (2nd column in array)\n",
    "\n",
    "from sklearn.metrics import precision_recall_curve\n",
    "\n",
    "\n",
    "precision, recall, thresholds = precision_recall_curve(y_train, probs_y[:, 1]) \n",
    "#retrieve probability of being 1(in second column of probs_y)\n",
    "pr_auc = metrics.auc(recall, precision)\n",
    "\n",
    "plt.title(\"Precision-Recall vs Threshold Chart\")\n",
    "plt.plot(thresholds, precision[: -1], \"b--\", label=\"Precision\")\n",
    "plt.plot(thresholds, recall[: -1], \"r--\", label=\"Recall\")\n",
    "plt.ylabel(\"Precision, Recall\")\n",
    "plt.xlabel(\"Threshold\")\n",
    "plt.legend(loc=\"lower left\")\n",
    "plt.ylim([0,1])"
   ]
  },
  {
   "cell_type": "code",
   "execution_count": 94,
   "id": "1d1b176b-fc02-46a7-9ab9-55faaf9de24e",
   "metadata": {},
   "outputs": [
    {
     "name": "stdout",
     "output_type": "stream",
     "text": [
      "Classification report: \n",
      " \n",
      "                precision    recall  f1-score   support\n",
      "\n",
      "           0       0.96      1.00      0.98     97214\n",
      "           1       0.00      0.00      0.00      4545\n",
      "\n",
      "    accuracy                           0.96    101759\n",
      "   macro avg       0.48      0.50      0.49    101759\n",
      "weighted avg       0.91      0.96      0.93    101759\n",
      "\n"
     ]
    }
   ],
   "source": [
    "print(\"Classification report: \\n \\n \", classification_report(y_train, y_pred ,zero_division=0 ))"
   ]
  },
  {
   "cell_type": "code",
   "execution_count": 105,
   "id": "c3dc2944-d15a-4e45-88bc-c6950eb2657b",
   "metadata": {},
   "outputs": [
    {
     "name": "stdout",
     "output_type": "stream",
     "text": [
      "              precision    recall  f1-score   support\n",
      "\n",
      "           0       1.00      0.96      0.98     11307\n",
      "           1       0.00      0.00      0.00         0\n",
      "\n",
      "    accuracy                           0.96     11307\n",
      "   macro avg       0.50      0.48      0.49     11307\n",
      "weighted avg       1.00      0.96      0.98     11307\n",
      "\n"
     ]
    },
    {
     "data": {
      "image/png": "[encoded data removed]",
      "text/plain": [
       "<Figure size 432x288 with 2 Axes>"
      ]
     },
     "metadata": {
      "needs_background": "light"
     },
     "output_type": "display_data"
    }
   ],
   "source": [
    "#### testing with random forest\n",
    "bank_prepared2 = full_pipeline2.fit_transform(test_set)\n",
    "\n",
    "X_test = bank_prepared2\n",
    "y_test = test_set[[\"LoanStatus\"]].values.ravel()\n",
    "y_test = (y_test == \"Defaulted\").astype(int)\n",
    "predTest = rf.predict(X_test)\n",
    "\n",
    "print(classification_report(predTest, y_test,zero_division=0))\n",
    "CM = confusion_matrix(y_test, predTest, labels=lg_reg.classes_, )\n",
    "disp = ConfusionMatrixDisplay(confusion_matrix=CM, display_labels=lg_reg.classes_)\n",
    "disp.plot()\n",
    "plt.show()"
   ]
  },
  {
   "cell_type": "code",
   "execution_count": null,
   "id": "d06e8cdf-9c7c-4a86-a637-95534adf0d1a",
   "metadata": {},
   "outputs": [],
   "source": [
    "#prosper[\"ListingCreationDate\"] = pd.to_datetime(prosper[\"ListingCreationDate\"], format= \"%Y/%m/%d\")\n",
    "#prosper[\"ListingCreationDate\"]= prosper[\"ListingCreationDate\"].dt.date\n",
    "#prosper[\"ClosedDate\"] = pd.to_datetime(prosper[\"ClosedDate\"], format= \"%Y/%m/%d\")\n",
    "#prosper[\"ClosedDate\"]= prosper[\"ClosedDate\"].dt.date\n",
    "#prosper[\"DateCreditPulled\"] = pd.to_datetime(prosper[\"DateCreditPulled\"], format= \"%Y/%m/%d\")\n",
    "#prosper[\"DateCreditPulled\"]= prosper[\"DateCreditPulled\"].dt.date\n",
    "#prosper[\"FirstRecordedCreditLine\"] = pd.to_datetime(prosper[\"FirstRecordedCreditLine\"], format= \"%Y/%m/%d\")\n",
    "#prosper[\"FirstRecordedCreditLine\"]= prosper[\"FirstRecordedCreditLine\"].dt.date\n",
    "#prosper[\"LoanOriginationDate\"] = pd.to_datetime(prosper[\"LoanOriginationDate\"], format= \"%Y/%m/%d\")\n",
    "#prosper[\"LoanOriginationDate\"]= prosper[\"LoanOriginationDate\"].dt.date"
   ]
  }
 ],
 "metadata": {
  "kernelspec": {
   "display_name": "Python 3 (ipykernel)",
   "language": "python",
   "name": "python3"
  },
  "language_info": {
   "codemirror_mode": {
    "name": "ipython",
    "version": 3
   },
   "file_extension": ".py",
   "mimetype": "text/x-python",
   "name": "python",
   "nbconvert_exporter": "python",
   "pygments_lexer": "ipython3",
   "version": "3.9.10"
  }
 },
 "nbformat": 4,
 "nbformat_minor": 5
}
